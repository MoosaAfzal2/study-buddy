{
 "cells": [
  {
   "cell_type": "markdown",
   "metadata": {},
   "source": [
    "### **Study Buddy AI: Your Personalized Study Assistant**\n",
    "\n",
    "<!-- ##### **Description:**\n",
    "Study Buddy AI is an intelligent assistant designed to revolutionize the way students learn and plan their studies. Equipped with advanced features like personalized study plans, web search for research, math problem-solving, and human-in-the-loop assistance, it ensures accurate, actionable, and tailored support for academic success. Leveraging memory and contextual knowledge, Study Buddy AI creates dynamic, efficient schedules and provides step-by-step explanations to help students master any subject with ease. -->\n",
    "\n",
    "##### **Current Features:**\n",
    "\n",
    "- **Tool Assistance**: Integrates with tools like Study Scheduler and Web Search.\n",
    "- **Personalized Support**: Remembers user-specific details such as exam dates, preferred study times, and past topics to deliver customized responses.\n",
    "- **Study Schedule Creation**: Automatically generates optimized study plans based on deadlines, topics, and available time.\n",
    "- **User-Friendly Interaction**: Polite, clear, and concise responses with follow-up questions to ensure clarity.\n"
   ]
  },
  {
   "cell_type": "markdown",
   "metadata": {},
   "source": [
    "### DEPENDENCIES\n"
   ]
  },
  {
   "cell_type": "code",
   "execution_count": null,
   "metadata": {},
   "outputs": [],
   "source": [
    "%pip install -q -U google-generativeai langchain-google-genai langgraph langchain langchain-core pydantic tavily-python langchain_community langgraph-checkpoint-sqlite chromadb langchain-text-splitters pypdf rapidocr-onnxruntime"
   ]
  },
  {
   "cell_type": "code",
   "execution_count": 1,
   "metadata": {},
   "outputs": [],
   "source": [
    "import os, getpass\n",
    "\n",
    "\n",
    "def _set_env(var: str):\n",
    "    if not os.environ.get(var):\n",
    "        os.environ[var] = getpass.getpass(f\"{var}: \")\n",
    "\n",
    "\n",
    "_set_env(\"GOOGLE_API_KEY\")\n",
    "_set_env(\"TAVILY_API_KEY\")\n",
    "# _set_env(\"LANGCHAIN_API_KEY\")\n",
    "# _set_env(\"LANGCHAIN_PROJECT\")\n",
    "# os.environ[\"LANGCHAIN_TRACING_V2\"] = \"true\""
   ]
  },
  {
   "cell_type": "code",
   "execution_count": 739,
   "metadata": {},
   "outputs": [],
   "source": [
    "from typing import Optional, List, Annotated, Any, Dict, Union, Literal, Type\n",
    "from typing_extensions import TypedDict\n",
    "from pydantic import BaseModel, Field, ConfigDict\n",
    "from datetime import datetime, timedelta\n",
    "import csv\n",
    "import uuid\n",
    "import json\n",
    "import sqlite3\n",
    "\n",
    "from langchain_google_genai import ChatGoogleGenerativeAI, GoogleGenerativeAIEmbeddings\n",
    "\n",
    "from langgraph.graph import StateGraph, START, END, add_messages\n",
    "from langgraph.graph.state import CompiledStateGraph\n",
    "from langgraph.prebuilt import ToolNode, tools_condition, InjectedState, InjectedStore\n",
    "from langgraph.types import Command, interrupt\n",
    "\n",
    "from langgraph.checkpoint.sqlite import SqliteSaver\n",
    "\n",
    "from langgraph.store.base import BaseStore\n",
    "from langgraph.store.memory import InMemoryStore\n",
    "\n",
    "from langchain_community.tools.tavily_search import TavilySearchResults\n",
    "from langchain_community.document_loaders import (\n",
    "    DirectoryLoader,\n",
    "    TextLoader,\n",
    "    PyPDFLoader,\n",
    "    CSVLoader,\n",
    ")\n",
    "from langchain_community.vectorstores import Chroma\n",
    "from langchain_text_splitters import RecursiveCharacterTextSplitter, Language\n",
    "\n",
    "from langchain.prompts import ChatPromptTemplate, PromptTemplate, MessagesPlaceholder\n",
    "from langchain.output_parsers import PydanticOutputParser\n",
    "from langchain.schema import Document\n",
    "\n",
    "from langchain_core.tools import tool, InjectedToolArg\n",
    "from langchain_core.runnables.config import RunnableConfig\n",
    "from langchain_core.language_models import BaseChatModel\n",
    "from langchain_core.messages import (\n",
    "    BaseMessage,\n",
    "    SystemMessage,\n",
    "    HumanMessage,\n",
    "    AIMessage,\n",
    "    AnyMessage,\n",
    "    RemoveMessage,\n",
    "    ToolMessage,\n",
    "    AIMessageChunk,\n",
    ")\n",
    "\n",
    "from IPython.display import Image, clear_output, Markdown"
   ]
  },
  {
   "cell_type": "markdown",
   "metadata": {},
   "source": [
    "### USER\n"
   ]
  },
  {
   "cell_type": "code",
   "execution_count": 325,
   "metadata": {},
   "outputs": [],
   "source": [
    "# We would generally get the user_id from the authenticated User\n",
    "user_id = str(uuid.uuid4())"
   ]
  },
  {
   "cell_type": "markdown",
   "metadata": {},
   "source": [
    "### UTILS\n"
   ]
  },
  {
   "cell_type": "code",
   "execution_count": 431,
   "metadata": {},
   "outputs": [],
   "source": [
    "def invoke_chat_template(\n",
    "    model: BaseChatModel,\n",
    "    template: str,\n",
    "    template_data: dict[str, Any],\n",
    ") -> BaseMessage:\n",
    "    \"\"\"Invoke the chat template with the provided tenplate data and return the response.\"\"\"\n",
    "    prompt = ChatPromptTemplate.from_template(template)\n",
    "    chain = prompt | model\n",
    "    result = chain.invoke(template_data)\n",
    "    return result\n",
    "\n",
    "\n",
    "def stream_agent(\n",
    "    agent: CompiledStateGraph,\n",
    "    input_value: Dict | List[Dict],\n",
    "    config: RunnableConfig,\n",
    "    debug: bool = False,\n",
    "):\n",
    "    \"\"\"\n",
    "    A function to interact with an agent in a streaming manner, handling updates and messages\n",
    "    during the stream. The function facilitates communication with the agent by providing\n",
    "    answers to questions when prompted and displaying messages based on specific conditions.\n",
    "\n",
    "    Args:\n",
    "        agent (CompiledStateGraph):\n",
    "            The compiled state graph representing the agent's behavior or knowledge graph.\n",
    "            This is used to drive the state transitions and handle the stream processing.\n",
    "\n",
    "        input_value (Dict | List[Dict]):\n",
    "            The input data that is passed to the agent. This can either be a single dictionary or\n",
    "            a list of dictionaries. These inputs are processed by the agent to generate stream outputs.\n",
    "\n",
    "        config (RunnableConfig):\n",
    "            The configuration object that governs how the agent runs. This may include settings\n",
    "            related to execution parameters, logging, error handling, and any other agent-specific configurations.\n",
    "\n",
    "        debug (bool):\n",
    "            If True, enables detailed logging for debugging purposes.\n",
    "\n",
    "    Returns:\n",
    "        None: This function is designed to interact with the agent and display messages interactively.\n",
    "              It doesn't return a value but may perform side effects such as displaying output.\n",
    "    \"\"\"\n",
    "    message = \"\"\n",
    "    for stream_mode, data in agent.stream(\n",
    "        input=input_value,\n",
    "        config=config,\n",
    "        stream_mode=[\"updates\", \"messages\"],\n",
    "        debug=debug,\n",
    "    ):\n",
    "        interrupt = (\n",
    "            data.get(\"__interrupt__\", None)\n",
    "            if isinstance(data, dict) and stream_mode == \"updates\"\n",
    "            else None\n",
    "        )\n",
    "\n",
    "        if stream_mode == \"updates\" and interrupt and len(interrupt) > 0:\n",
    "            questions = interrupt[0].value\n",
    "            questions_with_ans = []\n",
    "            for question in questions:\n",
    "                user_input = input(question.get(\"question\", \"\"))\n",
    "\n",
    "                questions_with_ans.append({**question, \"answer\": user_input})\n",
    "\n",
    "            stream_agent(\n",
    "                agent=agent,\n",
    "                config=config,\n",
    "                input_value=Command(resume=questions_with_ans),\n",
    "            )\n",
    "\n",
    "        elif (\n",
    "            stream_mode == \"messages\"\n",
    "            and data[-1].get(\"langgraph_node\") == \"handle_user_query\"\n",
    "            and data[0].content\n",
    "            and isinstance(data[0], (AIMessage, AIMessageChunk))\n",
    "        ):\n",
    "            message += data[0].content  # Append content without a newline\n",
    "            clear_output(True)\n",
    "            display(Markdown(message))  # Display the message as Markdown\n",
    "\n",
    "\n",
    "def load_and_split_documents(\n",
    "    docs_folder: str,\n",
    "    file_extension: str,\n",
    "    chunk_size: int = 500,\n",
    "    chunk_overlap: int = 50,\n",
    "    loader_cls=None,\n",
    "    loader_kwargs=None,\n",
    "    text_splitter_language=Language.MARKDOWN,\n",
    "    disable_splitter: bool = False,\n",
    "    metadata: dict = None,\n",
    ") -> list[Document]:\n",
    "    \"\"\"\n",
    "    Load and split documents from a directory, based on file extension.\n",
    "\n",
    "    Args:\n",
    "    - docs_folder (str): Path to the folder containing documents.\n",
    "    - file_extension (str): The file extension to match (e.g., '.txt', '.pdf').\n",
    "    - chunk_size (int): The size of each chunk for text splitting.\n",
    "    - chunk_overlap (int): The overlap size for text splitting.\n",
    "    - loader_cls (class): The class to use for loading files (TextLoader or PyPDFLoader).\n",
    "    - loader_kwargs (dict): Additional arguments for the loader class.\n",
    "    - text_splitter_language (Language): The language setting for text splitting.\n",
    "    - disable_splitter (bool): For Disabling Splitter. defaults to False\n",
    "    - metadata (dict): Additional metadata for docs. defaults to None\n",
    "\n",
    "    Returns:\n",
    "    - List of split document chunks.\n",
    "    \"\"\"\n",
    "    if loader_kwargs is None:\n",
    "        loader_kwargs = {}\n",
    "\n",
    "    # Define a text splitter with the chosen language\n",
    "    text_splitter = (\n",
    "        RecursiveCharacterTextSplitter.from_tiktoken_encoder(\n",
    "            chunk_size=chunk_size,\n",
    "            chunk_overlap=chunk_overlap,\n",
    "        )\n",
    "        if disable_splitter\n",
    "        else RecursiveCharacterTextSplitter.from_language(\n",
    "            language=text_splitter_language,\n",
    "            chunk_size=chunk_size,\n",
    "            chunk_overlap=chunk_overlap,\n",
    "        )\n",
    "    )\n",
    "\n",
    "    # Initialize directory loader\n",
    "    file_loader = DirectoryLoader(\n",
    "        path=docs_folder,\n",
    "        glob=f\"**/*{file_extension}\",\n",
    "        show_progress=True,\n",
    "        silent_errors=True,\n",
    "        loader_cls=loader_cls,\n",
    "        loader_kwargs=loader_kwargs,\n",
    "    )\n",
    "\n",
    "    # Load and split documents\n",
    "    loaded_docs = file_loader.load_and_split(text_splitter)\n",
    "\n",
    "    docs = (\n",
    "        [\n",
    "            Document(\n",
    "                **doc.model_dump(exclude=\"metadata\"),\n",
    "                metadata={**doc.metadata, **metadata},\n",
    "            )\n",
    "            for doc in loaded_docs\n",
    "        ]\n",
    "        if metadata\n",
    "        else loaded_docs\n",
    "    )\n",
    "\n",
    "    return docs"
   ]
  },
  {
   "cell_type": "markdown",
   "metadata": {},
   "source": [
    "### MODELS\n"
   ]
  },
  {
   "cell_type": "code",
   "execution_count": 432,
   "metadata": {},
   "outputs": [],
   "source": [
    "MODEL_NAME = \"gemini-2.0-flash-exp\"\n",
    "# MODEL_NAME = \"gemini-1.5-flash\"\n",
    "EMBEDDING_MODEL_NAME = \"models/embedding-001\"\n",
    "\n",
    "model = ChatGoogleGenerativeAI(model=MODEL_NAME, temperature=0)\n",
    "embedding_model = GoogleGenerativeAIEmbeddings(model=EMBEDDING_MODEL_NAME)"
   ]
  },
  {
   "cell_type": "markdown",
   "metadata": {},
   "source": [
    "### RAG\n"
   ]
  },
  {
   "cell_type": "markdown",
   "metadata": {},
   "source": [
    "#### Documents\n"
   ]
  },
  {
   "cell_type": "code",
   "execution_count": 328,
   "metadata": {},
   "outputs": [],
   "source": [
    "# Define a TypedDict for each file type configuration\n",
    "class FileConfig(TypedDict):\n",
    "    type: str  # File extension, e.g., \".txt\", \".pdf\"\n",
    "    loader: Type  # The loader class, e.g., TextLoader, PyPDFLoader\n",
    "    text_splitter_language: Language  # The language for the text splitter\n",
    "    loader_kwargs: dict  # Additional keyword arguments for the loader class\n",
    "    disable_splitter: bool"
   ]
  },
  {
   "cell_type": "code",
   "execution_count": 329,
   "metadata": {},
   "outputs": [],
   "source": [
    "# Configuring the file types and their respective loaders and text splitter languages\n",
    "supported_files_configs: List[FileConfig] = [\n",
    "    {\n",
    "        \"type\": \".txt\",\n",
    "        \"loader\": TextLoader,\n",
    "        \"text_splitter_language\": Language.MARKDOWN,\n",
    "        \"loader_kwargs\": {\"autodetect_encoding\": True},\n",
    "        \"metadata\": {\"user_id\": str(user_id)},\n",
    "    },\n",
    "    {\n",
    "        \"type\": \".md\",\n",
    "        \"loader\": TextLoader,\n",
    "        \"text_splitter_language\": Language.MARKDOWN,\n",
    "        \"loader_kwargs\": {\"autodetect_encoding\": True},\n",
    "        \"metadata\": {\"user_id\": str(user_id)},\n",
    "    },\n",
    "    {\n",
    "        \"type\": \".pdf\",\n",
    "        \"loader\": PyPDFLoader,\n",
    "        \"text_splitter_language\": Language.MARKDOWN,\n",
    "        \"loader_kwargs\": {\"extract_images\": True},\n",
    "        \"metadata\": {\"user_id\": str(user_id)},\n",
    "    },\n",
    "    {\n",
    "        \"type\": \".csv\",\n",
    "        \"loader\": CSVLoader,\n",
    "        \"disable_splitter\": True,\n",
    "        \"metadata\": {\"user_id\": str(user_id)},\n",
    "    },\n",
    "]"
   ]
  },
  {
   "cell_type": "code",
   "execution_count": 330,
   "metadata": {},
   "outputs": [
    {
     "name": "stderr",
     "output_type": "stream",
     "text": [
      "100%|██████████| 2/2 [00:00<00:00, 39.45it/s]\n",
      "0it [00:00, ?it/s]\n",
      "100%|██████████| 1/1 [00:04<00:00,  4.41s/it]\n",
      "0it [00:00, ?it/s]\n"
     ]
    }
   ],
   "source": [
    "# Example of using the function for various file types (text and PDF):\n",
    "docs_folder = \"./docs\"\n",
    "docs = []\n",
    "\n",
    "# Loop through each file configuration and load the corresponding documents\n",
    "for config in supported_files_configs:\n",
    "    file_extension = config[\"type\"]\n",
    "    loader_cls = config[\"loader\"]\n",
    "    text_splitter_language = config.get(\"text_splitter_language\")\n",
    "    loader_kwargs = config.get(\"loader_kwargs\", {})\n",
    "    metadata = config.get(\"metadata\", None)\n",
    "    disable_splitter = config.get(\"disable_splitter\", None)\n",
    "\n",
    "    # Load and split documents for the current file type\n",
    "    docs += load_and_split_documents(\n",
    "        docs_folder=docs_folder,\n",
    "        file_extension=file_extension,\n",
    "        loader_cls=loader_cls,\n",
    "        loader_kwargs=loader_kwargs,\n",
    "        text_splitter_language=text_splitter_language,\n",
    "        disable_splitter=disable_splitter,\n",
    "        metadata=metadata,\n",
    "    )"
   ]
  },
  {
   "cell_type": "markdown",
   "metadata": {},
   "source": [
    "#### Vector DB (Chroma)\n"
   ]
  },
  {
   "cell_type": "code",
   "execution_count": null,
   "metadata": {},
   "outputs": [],
   "source": [
    "from pathlib import Path\n",
    "\n",
    "vector_db_path = \"./vector_db\"\n",
    "# Create the directory if it doesn't exist\n",
    "Path(vector_db_path).mkdir(parents=True, exist_ok=True)\n",
    "\n",
    "vector_db = Chroma.from_documents(\n",
    "    documents=docs,\n",
    "    collection_name=\"vector-chroma-db\",\n",
    "    embedding=embedding_model,\n",
    "    persist_directory=vector_db_path,\n",
    ")"
   ]
  },
  {
   "cell_type": "markdown",
   "metadata": {},
   "source": [
    "### STATES\n"
   ]
  },
  {
   "cell_type": "code",
   "execution_count": 740,
   "metadata": {},
   "outputs": [],
   "source": [
    "class InputState(TypedDict):\n",
    "    query: str\n",
    "\n",
    "\n",
    "class OutputState(TypedDict):\n",
    "    response: AIMessage\n",
    "\n",
    "\n",
    "class OverallState(InputState, OutputState):\n",
    "    messages: Annotated[List[AnyMessage], add_messages]\n",
    "    summary: Optional[str] = None\n",
    "    memories: Optional[str] = None\n",
    "    conversation: Annotated[List[AnyMessage], add_messages]"
   ]
  },
  {
   "cell_type": "markdown",
   "metadata": {},
   "source": [
    "### PERSISTANCE\n"
   ]
  },
  {
   "cell_type": "markdown",
   "metadata": {},
   "source": [
    "#### Initialize DB\n"
   ]
  },
  {
   "cell_type": "code",
   "execution_count": 741,
   "metadata": {},
   "outputs": [],
   "source": [
    "# In memory\n",
    "conn = sqlite3.connect(\":memory:\", check_same_thread=False)"
   ]
  },
  {
   "cell_type": "code",
   "execution_count": 742,
   "metadata": {},
   "outputs": [
    {
     "name": "stderr",
     "output_type": "stream",
     "text": [
      "A subdirectory or file db already exists.\n"
     ]
    }
   ],
   "source": [
    "# # pull file if it doesn't exist and connect to local db\n",
    "!mkdir db && [ ! -f db/sqlite.db ] && wget -P db https://github.com/MoosaAfzal2/study-buddy/db/sqlite.db && wget -P db https://github.com/MoosaAfzal2/study-buddy/db/sqlite.db-wal\n",
    "\n",
    "db_path = \"db/sqlite.db\"\n",
    "conn = sqlite3.connect(db_path, check_same_thread=False)"
   ]
  },
  {
   "cell_type": "markdown",
   "metadata": {},
   "source": [
    "#### Initializing the Checkpointer\n"
   ]
  },
  {
   "cell_type": "code",
   "execution_count": 743,
   "metadata": {},
   "outputs": [],
   "source": [
    "# Here is our checkpointer\n",
    "checkpointer: SqliteSaver = SqliteSaver(conn)"
   ]
  },
  {
   "cell_type": "markdown",
   "metadata": {},
   "source": [
    "### MEMORY\n"
   ]
  },
  {
   "cell_type": "markdown",
   "metadata": {},
   "source": [
    "#### In Memory Store\n"
   ]
  },
  {
   "cell_type": "code",
   "execution_count": 744,
   "metadata": {},
   "outputs": [],
   "source": [
    "in_memory_store = InMemoryStore(\n",
    "    index={\n",
    "        \"embed\": embedding_model,\n",
    "        \"dims\": 1536,\n",
    "    }\n",
    ")"
   ]
  },
  {
   "cell_type": "markdown",
   "metadata": {},
   "source": [
    "#### Memory Namespace\n"
   ]
  },
  {
   "cell_type": "code",
   "execution_count": 745,
   "metadata": {},
   "outputs": [],
   "source": [
    "NAMESPACE_NAME = \"memories\""
   ]
  },
  {
   "cell_type": "markdown",
   "metadata": {},
   "source": [
    "#### Memory Type\n"
   ]
  },
  {
   "cell_type": "code",
   "execution_count": 746,
   "metadata": {},
   "outputs": [],
   "source": [
    "# class ProgressType(TypedDict):\n",
    "#     \"\"\"\n",
    "#     Defines the structure of progress for a study topic as a percentage.\n",
    "#     Each progress entry includes the topic name and its completion percentage.\n",
    "#     \"\"\"\n",
    "\n",
    "#     topic: Optional[str] = None  # The name of the study topic (e.g., \"Algebra\")\n",
    "#     progress_percentage: Optional[float] = (\n",
    "#         None  # The completion percentage for the topic (e.g., 75.0)\n",
    "#     )\n",
    "\n",
    "\n",
    "class MemoryType(BaseModel):\n",
    "    \"\"\"General memory structure for a Study Buddy Agent to store memory\"\"\"\n",
    "\n",
    "    content: str = Field(\n",
    "        description='The main content of the memory. For example: \"User expressed interest in learning about French.\"'\n",
    "    )\n",
    "\n",
    "    context: str = Field(\n",
    "        description='Additional context for the memory. For example: \"This was mentioned while discussing career options in Europe.\"'\n",
    "    )\n",
    "\n",
    "    # # User Information (Tracking user-specific details)\n",
    "    # username: Optional[str] = Field(\n",
    "    #     default=None, description='The username of the user (e.g., \"john_doe\")'\n",
    "    # )\n",
    "\n",
    "    # age: Optional[int] = Field(\n",
    "    #     default=None, description=\"The age of the user (e.g., 21)\"\n",
    "    # )\n",
    "\n",
    "    # gender: Optional[str] = Field(\n",
    "    #     default=None,\n",
    "    #     description='The gender of the user (e.g., \"Male\", \"Female\", \"Non-binary\")',\n",
    "    # )\n",
    "\n",
    "    # preferences: Optional[str] = Field(\n",
    "    #     default=None,\n",
    "    #     description=\"User preferences, such as preferred study time, study methods, etc.\",\n",
    "    # )\n",
    "\n",
    "    # # Study Preferences\n",
    "    # study_duration: Optional[int] = Field(\n",
    "    #     default=None,\n",
    "    #     description=\"Preferred study duration in minutes (e.g., 60 minutes)\",\n",
    "    # )\n",
    "\n",
    "    # break_duration: Optional[int] = Field(\n",
    "    #     default=None,\n",
    "    #     description=\"Preferred break duration in minutes (e.g., 15 minutes)\",\n",
    "    # )\n",
    "\n",
    "    # # Scheduling and Deadlines\n",
    "    # reminders: List[ReminderType] = Field(\n",
    "    #     default=[],\n",
    "    #     description='List of reminders with descriptions and dates (e.g., [{\"description\": \"Study for Math exam\", \"date\": \"2024-12-15\"}])',\n",
    "    # )\n",
    "\n",
    "    # deadlines: List[ReminderType] = Field(\n",
    "    #     default=[],\n",
    "    #     description='List of deadlines with event names and corresponding dates (e.g., [{\"description\": \"Assignment deadline\", \"date\": \"2024-12-18\"}])',\n",
    "    # )\n",
    "\n",
    "    # # Study Topics\n",
    "    # topics_to_study: List[str] = Field(\n",
    "    #     default=[], description='List of topics to study (e.g., [\"Algebra\", \"History\"])'\n",
    "    # )\n",
    "\n",
    "    # completed_topics: List[str] = Field(\n",
    "    #     default=[],\n",
    "    #     description='List of topics that have been completed (e.g., [\"Calculus\", \"Literature\"])',\n",
    "    # )\n",
    "\n",
    "    # # Progress Tracking\n",
    "    # progress: List[ProgressType] = Field(\n",
    "    #     default=[],\n",
    "    #     description='Progress for each study topic as a percentage (e.g., [{\"topic\": \"Algebra\", \"progress_percentage\": 75.0}])',\n",
    "    # )\n",
    "\n",
    "    # # Personal Notes and Goals\n",
    "    # personal_notes: Optional[str] = Field(\n",
    "    #     default=None,\n",
    "    #     description=\"Space for personal goals, motivational notes, or other reminders\",\n",
    "    # )\n",
    "\n",
    "    # # Last Updated Timestamp\n",
    "    # last_updated: Optional[str] = Field(\n",
    "    #     default=None,\n",
    "    #     description='Timestamp for when the memory was last updated (e.g., \"2024-12-15T14:30:00\")',\n",
    "    # )"
   ]
  },
  {
   "cell_type": "markdown",
   "metadata": {},
   "source": [
    "### TOOLS\n"
   ]
  },
  {
   "cell_type": "markdown",
   "metadata": {},
   "source": [
    "#### Web Search Tools\n"
   ]
  },
  {
   "cell_type": "code",
   "execution_count": 805,
   "metadata": {},
   "outputs": [],
   "source": [
    "tavily_search_tool = TavilySearchResults(\n",
    "    name=\"tavily_web_search\",\n",
    "    max_results=3,\n",
    "    include_answer=True,\n",
    "    include_raw_content=True,\n",
    "    include_images=True,\n",
    ")"
   ]
  },
  {
   "cell_type": "markdown",
   "metadata": {},
   "source": [
    "#### Ask Human Tools\n"
   ]
  },
  {
   "cell_type": "code",
   "execution_count": 806,
   "metadata": {},
   "outputs": [],
   "source": [
    "class Questions(BaseModel):\n",
    "    question: str\n",
    "    answer: Optional[str] = None\n",
    "\n",
    "\n",
    "@tool\n",
    "def ask_human(questions: List[Questions]):\n",
    "    \"\"\"\n",
    "    Prompts the user with a list of questions and captures their answers.\n",
    "\n",
    "    This function is designed to ask a series of questions to a human and store\n",
    "    their responses. Each question is represented by a dictionary that contains\n",
    "    an optional `id`, the `question` text, and an optional `answer`.\n",
    "\n",
    "    Args:\n",
    "        questions (List[Questions]): A list of question dictionaries. Each dictionary must contain the following keys:\n",
    "            - `question` (str): The question text to be presented to the user.\n",
    "            - `answer` (Optional[str], optional): The user's answer to the question. This is optional and may be left blank if the answer is unknown or pending. A default answer value may also be provided if desired.\n",
    "\n",
    "    Returns:\n",
    "        List[Dict]: A list of dictionaries representing the user's responses. Each dictionary will contain the `id` and `answer` for each question. The `answer` field will hold the user-provided response or remain empty if not provided.\n",
    "    \"\"\"\n",
    "\n",
    "    user_input = interrupt(\n",
    "        value=[\n",
    "            {\"id\": str(uuid.uuid4()), **question.model_dump()} for question in questions\n",
    "        ]\n",
    "    )\n",
    "\n",
    "    return user_input"
   ]
  },
  {
   "cell_type": "markdown",
   "metadata": {},
   "source": [
    "#### Study Scheduling Tools\n"
   ]
  },
  {
   "cell_type": "code",
   "execution_count": 807,
   "metadata": {},
   "outputs": [],
   "source": [
    "class StudySession(BaseModel):\n",
    "    \"\"\"\n",
    "    Represents a study session with details about the subject, time, notes.\n",
    "    \"\"\"\n",
    "\n",
    "    day: str = Field(\n",
    "        description='The day of the week for the study session (e.g., \"Monday\")'\n",
    "    )\n",
    "    subject: str = Field(description='The subject being studied (e.g., \"Math\")')\n",
    "    start_time: str = Field(\n",
    "        description='Start time of the session in \"HH:MM\" format (e.g., \"09:00\")'\n",
    "    )\n",
    "    end_time: str = Field(\n",
    "        description='End time of the session in \"HH:MM\" format (e.g., \"11:00\")'\n",
    "    )\n",
    "    notes: str = Field(\n",
    "        description='Additional notes for the session (e.g., \"Focus on Algebra\")'\n",
    "    )\n",
    "    priority: str = Field(\n",
    "        description='Priority of the study session (e.g., \"High\", \"Medium\", \"Low\")'\n",
    "    )\n",
    "    estimated_completion_time: int = Field(\n",
    "        description=\"Estimated time for completion of the subject in minutes\"\n",
    "    )\n",
    "    study_type: str = Field(\n",
    "        description='Type of study session (e.g., \"Focused\", \"Review\")'\n",
    "    )\n",
    "    status: str = Field(description='Completion status (e.g., \"Completed\", \"Pending\")')\n",
    "    study_notes: Optional[str] = Field(\n",
    "        default=None,\n",
    "        description='Specific study notes for the session (e.g., \"Focus on chapters 3-5\")',\n",
    "    )\n",
    "    available_time_per_day: int = Field(\n",
    "        description=\"Total study time available per day in minutes\"\n",
    "    )\n",
    "\n",
    "\n",
    "@tool\n",
    "def create_study_schedule(\n",
    "    study_sessions: List[StudySession],  # List of StudySession dictionaries\n",
    ") -> List[StudySession]:\n",
    "    \"\"\"\n",
    "    Creates a personalized study schedule based on user preferences, subjects, and available time.\n",
    "\n",
    "    This function takes a list of study sessions, calculates the required time for each, and creates a study\n",
    "    schedule based on the available time per day. It also ensures that the number of sessions does not exceed\n",
    "    the available time, provides a break between consecutive study sessions, and includes warnings when the\n",
    "    available time is insufficient for all sessions.\n",
    "\n",
    "    Args:\n",
    "        study_sessions (List[StudySession]): A list of dictionaries, each representing a study session. Each dictionary must contain the following keys:\n",
    "            - 'day': The day of the week for the study session (e.g., \"Monday\").\n",
    "            - 'subject': The subject being studied (e.g., \"Math\").\n",
    "            - 'start_time': The start time of the session in \"HH:MM\" format.\n",
    "            - 'end_time': The end time of the session in \"HH:MM\" format.\n",
    "            - 'notes': Additional notes for the session (e.g., \"Focus on Algebra\").\n",
    "            - 'priority': The priority of the session (e.g., \"High\", \"Medium\", \"Low\").\n",
    "            - 'estimated_completion_time': The estimated duration for completing the session in minutes.\n",
    "            - 'study_type': The type of session (e.g., \"Focused\", \"Review\").\n",
    "            - 'status': The completion status of the session (e.g., \"Completed\", \"Pending\").\n",
    "            - 'study_notes': Specific study notes for the session (optional).\n",
    "            - 'available_time_per_day': The total study time available per day in minutes.\n",
    "\n",
    "    Returns:\n",
    "        List[StudySession]: A list of dictionaries representing the generated study schedule. Each dictionary contains the following keys:\n",
    "            - 'day': The day of the week for the study session.\n",
    "            - 'subject': The subject being studied.\n",
    "            - 'start_time': The start time of the session in \"HH:MM\" format.\n",
    "            - 'end_time': The end time of the session in \"HH:MM\" format.\n",
    "            - 'notes': Additional notes for the session.\n",
    "            - 'priority': The priority of the session.\n",
    "            - 'estimated_completion_time': The estimated duration for completing the session.\n",
    "            - 'study_type': The type of session.\n",
    "            - 'status': The completion status of the session.\n",
    "            - 'study_notes': Specific study notes for the session.\n",
    "            - 'available_time_per_day': The total study time available per day.\n",
    "            - Breaks: A break is included after each session unless it’s the last session.\n",
    "\n",
    "    Warnings:\n",
    "        - If the total time for all sessions exceeds the available time per day, the function will try to fit as many sessions as possible.\n",
    "        - If there is remaining time after scheduling, a message will be shown to inform the user.\n",
    "    \"\"\"\n",
    "\n",
    "    schedule: List = []\n",
    "    current_day = datetime.now()\n",
    "\n",
    "    for session in study_sessions:\n",
    "        # Parse start_time into a datetime object\n",
    "        start_time = datetime.strptime(session.start_time, \"%H:%M\").replace(\n",
    "            year=current_day.year, month=current_day.month, day=current_day.day\n",
    "        )\n",
    "\n",
    "        # Adjust start time if it has already passed today\n",
    "        if start_time < current_day:\n",
    "            start_time += timedelta(days=1)  # Schedule for the next day\n",
    "\n",
    "        # Calculate end_time based on estimated duration\n",
    "        end_time = start_time + timedelta(minutes=session.estimated_completion_time)\n",
    "\n",
    "        # Create and add the study session to the schedule\n",
    "        new_session = StudySession(\n",
    "            day=start_time.strftime(\"%A\"),\n",
    "            subject=session.subject,\n",
    "            start_time=start_time.strftime(\"%H:%M\"),\n",
    "            end_time=end_time.strftime(\"%H:%M\"),\n",
    "            notes=session.notes,\n",
    "            priority=session.priority,\n",
    "            estimated_completion_time=session.estimated_completion_time,\n",
    "            study_type=session.study_type,\n",
    "            status=session.status,\n",
    "            study_notes=session.study_notes or \"\",  # Use empty string if None\n",
    "            available_time_per_day=session.available_time_per_day,\n",
    "        )\n",
    "\n",
    "        schedule.append(new_session.model_dump())\n",
    "\n",
    "        # Add a break time after each session (unless it's the last session)\n",
    "        if session != study_sessions[-1]:\n",
    "            break_time_start = end_time\n",
    "            break_time_end = break_time_start + timedelta(minutes=15)\n",
    "            break_session = StudySession(\n",
    "                day=start_time.strftime(\"%A\"),\n",
    "                subject=\"Break\",\n",
    "                start_time=break_time_start.strftime(\"%H:%M\"),\n",
    "                end_time=break_time_end.strftime(\"%H:%M\"),\n",
    "                notes=\"Take a 15-minute break\",\n",
    "                priority=\"Low\",\n",
    "                estimated_completion_time=15,\n",
    "                study_type=\"Break\",\n",
    "                status=\"Pending\",\n",
    "                study_notes=\"\",\n",
    "                available_time_per_day=session.available_time_per_day,\n",
    "            )\n",
    "\n",
    "            schedule.append(break_session.model_dump())\n",
    "\n",
    "    return schedule\n",
    "\n",
    "\n",
    "@tool\n",
    "def save_study_schedule_to_markdown(\n",
    "    markdown: str,\n",
    "    file_name: str = \"study_schedule.md\",\n",
    ") -> str:\n",
    "    \"\"\"\n",
    "    Saves the study schedule content into a Markdown file, ensuring proper line breaks and formatting.\n",
    "\n",
    "    Args:\n",
    "        markdown (str): The content in Markdown format to be saved.\n",
    "        file_name (str): The name of the Markdown file where the schedule will be saved (default is 'study_schedule.md').\n",
    "\n",
    "    Returns:\n",
    "        str: Success Messages\n",
    "    \"\"\"\n",
    "    try:\n",
    "        # Ensure line breaks are properly handled and formatting is correct\n",
    "        formatted_markdown = markdown.replace(\"\\\\n\", \"\\n\")  # Ensure proper line breaks\n",
    "\n",
    "        # Open the file in write mode and save the Markdown content\n",
    "        with open(\"./docs/\" + file_name, mode=\"w\") as file:\n",
    "            file.write(formatted_markdown)\n",
    "        return f\"Study schedule saved successfully to {file_name}\"\n",
    "\n",
    "    except PermissionError:\n",
    "        print(f\"Error: Permission denied when trying to write to {file_name}.\")\n",
    "    except FileNotFoundError:\n",
    "        print(f\"Error: Directory or file path {file_name} not found.\")\n",
    "    except Exception as e:\n",
    "        print(f\"Error saving study schedule: {e}\")\n",
    "\n",
    "\n",
    "@tool\n",
    "def save_study_schedule_to_csv(\n",
    "    schedule_data: List[StudySession],\n",
    "    file_name: str = \"study_schedule.csv\",\n",
    "    field_names: List[str] = [\n",
    "        \"day\",\n",
    "        \"subject\",\n",
    "        \"start_time\",\n",
    "        \"end_time\",\n",
    "        \"notes\",\n",
    "        \"priority\",\n",
    "        \"estimated_completion_time\",\n",
    "        \"study_type\",\n",
    "        \"status\",\n",
    "        \"study_notes\",\n",
    "        \"available_time_per_day\",\n",
    "    ],\n",
    ") -> str:\n",
    "    \"\"\"\n",
    "    Saves the study schedule to a CSV file.\n",
    "\n",
    "    Args:\n",
    "        schedule_data (List[StudySession]): A list of dictionaries, each representing a study session. Each dictionary must contain the following keys:\n",
    "            - 'day': The day of the week for the study session (e.g., \"Monday\").\n",
    "            - 'subject': The subject being studied (e.g., \"Math\").\n",
    "            - 'start_time': The start time of the session in \"HH:MM\" format.\n",
    "            - 'end_time': The end time of the session in \"HH:MM\" format.\n",
    "            - 'notes': Additional notes for the session (e.g., \"Focus on Algebra\").\n",
    "            - 'priority': The priority of the session (e.g., \"High\", \"Medium\", \"Low\").\n",
    "            - 'estimated_completion_time': The estimated duration for completing the session in minutes.\n",
    "            - 'study_type': The type of session (e.g., \"Focused\", \"Review\").\n",
    "            - 'status': The completion status of the session (e.g., \"Completed\", \"Pending\").\n",
    "            - 'study_notes': Specific study notes for the session (optional).\n",
    "            - 'available_time_per_day': The total study time available per day in minutes.\n",
    "        file_name (str): The name of the CSV file where the schedule will be saved (default is 'study_schedule.csv').\n",
    "        field_names (List[str]): The column names for the CSV file (default is [\"day\",\"subject\",\"start_time\",\"end_time\",\"notes\",\"priority\",\"estimated_completion_time\",\"study_type\",\"status\",\"study_notes\",\"available_time_per_day\"]).\n",
    "\n",
    "    Returns:\n",
    "        str: Success Messages\n",
    "    \"\"\"\n",
    "\n",
    "    # Dynamically fetch required keys from StudySession TypedDict\n",
    "    required_keys = set(StudySession.__annotations__.keys())  # Set of required keys\n",
    "\n",
    "    for session in schedule_data:\n",
    "        if not required_keys.issubset(session.model_dump().keys()):\n",
    "            raise ValueError(\n",
    "                f\"Each schedule entry must contain the following keys: {', '.join(required_keys)}\"\n",
    "            )\n",
    "\n",
    "    try:\n",
    "        with open(\"./docs/\" + file_name, mode=\"w\", newline=\"\") as file:\n",
    "            writer = csv.DictWriter(file, fieldnames=field_names)\n",
    "            writer.writeheader()\n",
    "\n",
    "            # Handling falsy or empty values for any field in the session\n",
    "            for session in schedule_data:\n",
    "                session_dict = (\n",
    "                    session.model_copy().model_dump()\n",
    "                )  # Create a copy of the session to avoid modifying the original\n",
    "\n",
    "                # Iterate through each field and handle falsy or empty values\n",
    "                for key, value in session_dict.items():\n",
    "                    if value in (None, \"\", [], {}, 0, False):  # Check for falsy values\n",
    "                        if key == \"study_notes\":\n",
    "                            session_dict[key] = (\n",
    "                                \"\"  # Empty study_notes should be an empty string\n",
    "                            )\n",
    "                        else:\n",
    "                            session_dict[key] = (\n",
    "                                \"N/A\"  # Default for other fields (e.g., \"N/A\" or 0)\n",
    "                            )\n",
    "\n",
    "                # Write the session row\n",
    "                writer.writerow(session_dict)\n",
    "\n",
    "        return f\"Study schedule saved successfully to {file_name}\"\n",
    "    except PermissionError:\n",
    "        print(f\"Error: Permission denied when trying to write to {file_name}.\")\n",
    "    except FileNotFoundError:\n",
    "        print(f\"Error: File {file_name} not found.\")\n",
    "    except Exception as e:\n",
    "        print(f\"Error saving study schedule: {e}\")"
   ]
  },
  {
   "cell_type": "markdown",
   "metadata": {},
   "source": [
    "#### Memory Tools\n"
   ]
  },
  {
   "cell_type": "code",
   "execution_count": 808,
   "metadata": {},
   "outputs": [],
   "source": [
    "@tool\n",
    "def upsert_memory(\n",
    "    memory: MemoryType,\n",
    "    *,\n",
    "    memory_id: Optional[Union[str, uuid.UUID]] = None,\n",
    "    # Hide these arguments from the model.\n",
    "    config: Annotated[RunnableConfig, InjectedToolArg],\n",
    "    store: Annotated[BaseStore, InjectedStore],\n",
    "):\n",
    "    \"\"\"Upsert a memory in the database.\n",
    "\n",
    "    If a memory conflicts with an existing one, then just UPDATE the\n",
    "    existing one by passing in memory_id - don't create two memories\n",
    "    that are the same. If the user corrects a memory, UPDATE it.\n",
    "\n",
    "    Args:\n",
    "        memory (MemoryType): A memory dictionary containing the following keys:\n",
    "            - `content`: The main content of the memory. For example: \"User expressed interest in learning about French.\"\n",
    "            - `context`: Additional context for the memory. For example: \"This was mentioned while discussing career options in Europe.\"\n",
    "        memory_id: ONLY PROVIDE IF UPDATING AN EXISTING MEMORY. The memory to overwrite.\n",
    "    \"\"\"\n",
    "    mem_id = memory_id or uuid.uuid4()\n",
    "    user_id = config[\"configurable\"].get(\"user_id\")\n",
    "    store.put((NAMESPACE_NAME, user_id), key=str(mem_id), value=memory.model_dump())\n",
    "    return f\"Stored memory {mem_id}\"\n",
    "\n",
    "\n",
    "@tool\n",
    "def delete_memory(\n",
    "    memory_id: uuid.UUID | str,\n",
    "    config: RunnableConfig,\n",
    "    store: Annotated[BaseStore, InjectedToolArg],\n",
    ") -> str:\n",
    "    \"\"\"\n",
    "    Delete a memory from the database by its ID.\n",
    "    This function removes a specific memory from the store based on the provided\n",
    "    memory ID. The memory ID must exist in the store for the deletion to be successful.\n",
    "\n",
    "    Args:\n",
    "        memory_id (uuid.UUID | str): The ID of the memory to delete.\n",
    "\n",
    "    Returns:\n",
    "        str: A message confirming whether the memory was successfully deleted or if the memory ID was not found.\n",
    "    \"\"\"\n",
    "\n",
    "    user_id = config[\"configurable\"].get(\"user_id\")\n",
    "    memory_key = str(memory_id)\n",
    "\n",
    "    # Check if the memory exists before deleting\n",
    "    memory = store.get((NAMESPACE_NAME, user_id), key=memory_key)\n",
    "\n",
    "    if memory:\n",
    "        store.delete((NAMESPACE_NAME, user_id), key=memory_key)\n",
    "        return f\"Memory {memory_id} successfully deleted.\"\n",
    "    else:\n",
    "        return f\"Memory {memory_id} not found.\""
   ]
  },
  {
   "cell_type": "markdown",
   "metadata": {},
   "source": [
    "#### Retriever Tool"
   ]
  },
  {
   "cell_type": "code",
   "execution_count": 809,
   "metadata": {},
   "outputs": [],
   "source": [
    "class SearchKwargs(BaseModel):\n",
    "    search_type: Optional[str] = Field(\n",
    "        default=\"similarity\",\n",
    "        description=(\n",
    "            \"Defines the type of search the Retriever should perform. \"\n",
    "            'Can be \"similarity\" (default), \"mmr\", or \"similarity_score_threshold\".'\n",
    "        ),\n",
    "    )\n",
    "    k: Optional[int] = Field(\n",
    "        default=4, description=\"Number of documents to return (Default: 4)\"\n",
    "    )\n",
    "    score_threshold: Optional[float] = Field(\n",
    "        default=None,\n",
    "        description=\"Minimum relevance threshold for similarity_score_threshold.\",\n",
    "    )\n",
    "    fetch_k: Optional[int] = Field(\n",
    "        default=20,\n",
    "        description=\"Number of documents to pass to MMR algorithm (Default: 20).\",\n",
    "    )\n",
    "    lambda_mult: Optional[float] = Field(\n",
    "        default=0.5,\n",
    "        description=(\n",
    "            \"Diversity of results returned by MMR; 1 for minimum diversity and 0 for maximum (Default: 0.5).\"\n",
    "        ),\n",
    "    )\n",
    "\n",
    "\n",
    "class RetrieveDocumentsArgs(BaseModel):\n",
    "    query: str\n",
    "    kwargs: SearchKwargs\n",
    "    config: Annotated[RunnableConfig, InjectedToolArg] = Field(None)\n",
    "\n",
    "\n",
    "@tool(args_schema=RetrieveDocumentsArgs)\n",
    "def retrieve_documents(\n",
    "    query: str,\n",
    "    kwargs: SearchKwargs,\n",
    "    *,\n",
    "    config: Annotated[RunnableConfig, InjectedToolArg] = Field(None),\n",
    "):\n",
    "    \"\"\"\n",
    "    Search and return user documents.\n",
    "\n",
    "    Args:\n",
    "        query (str): The query string.\n",
    "        kwargs (Optional[SearchKwargs]): dictionary of arguments to pass to the search function with keys:\n",
    "            - `search_type` (Optional[str]): Defines the type of search that the Retriever should perform. Can be \"similarity\" (default), \"mmr\", or \"similarity_score_threshold\".\n",
    "            - `k` (Optional[int]): Amount of documents to return (Default: 4)\n",
    "            - `score_threshold` (Optional[float]): Minimum relevance threshold for similarity_score_threshold\n",
    "            - `fetch_k` (Optional[int]): Amount of documents to pass to MMR algorithm (Default: 20)\n",
    "            - `lambda_mult` (Optional[float]): Diversity of results returned by MMR; 1 for minimum diversity and 0 for maximum. (Default: 0.5)\n",
    "    \"\"\"\n",
    "    # Extract user_id from config\n",
    "    user_id = str(config.get(\"configurable\", {}).get(\"user_id\", \"\"))\n",
    "    if not user_id:\n",
    "        raise ValueError(\"Missing user_id in configuration.\")\n",
    "\n",
    "    # Prepare search parameters\n",
    "    search_kwargs = kwargs.model_dump(include=[\"k\"])\n",
    "    search_kwargs[\"filter\"] = {\"user_id\": user_id}\n",
    "\n",
    "    if kwargs.search_type == \"similarity_score_threshold\":\n",
    "        search_kwargs[\"score_threshold\"] = kwargs.score_threshold\n",
    "    elif kwargs.search_type == \"mmr\":\n",
    "        search_kwargs.update(\n",
    "            {\"fetch_k\": kwargs.fetch_k, \"lambda_mult\": kwargs.lambda_mult}\n",
    "        )\n",
    "\n",
    "    # Initialize the retriever with search parameters\n",
    "    retriever = vector_db.as_retriever(\n",
    "        search_type=kwargs.search_type, search_kwargs=search_kwargs\n",
    "    )\n",
    "    try:\n",
    "        retrieved_documents = retriever.invoke(input=query, config=config)\n",
    "    except Exception as e:\n",
    "        raise RuntimeError(f\"Error during document retrieval: {str(e)}\")\n",
    "\n",
    "    formatted_docs = \"\"\n",
    "    for document in retrieved_documents:\n",
    "        page_no = document.metadata.get(\"page\")  # Fetch the page number\n",
    "        source = document.metadata.get(\"source\", \"\")\n",
    "        content = document.page_content\n",
    "\n",
    "        # Append metadata and content to docs\n",
    "        if page_no is not None:  # Check if page_no exists and is not None\n",
    "            formatted_docs += f\"Page: {page_no}\\n\\n\"\n",
    "        if source:\n",
    "            formatted_docs += f\"Source: {source}\\n\\n\"\n",
    "        formatted_docs += f\"Content: {content}\\n\\n\"\n",
    "\n",
    "\n",
    "    return formatted_docs"
   ]
  },
  {
   "cell_type": "markdown",
   "metadata": {},
   "source": [
    "#### All Available Tools\n"
   ]
  },
  {
   "cell_type": "code",
   "execution_count": 810,
   "metadata": {},
   "outputs": [],
   "source": [
    "tools = [\n",
    "    tavily_search_tool,\n",
    "    ask_human,\n",
    "    create_study_schedule,\n",
    "    save_study_schedule_to_csv,\n",
    "    save_study_schedule_to_markdown,\n",
    "    upsert_memory,\n",
    "    delete_memory,\n",
    "    retrieve_documents,\n",
    "]\n",
    "\n",
    "model_with_tools = model.bind_tools(tools=tools)"
   ]
  },
  {
   "cell_type": "markdown",
   "metadata": {},
   "source": [
    "### NODES\n"
   ]
  },
  {
   "cell_type": "markdown",
   "metadata": {},
   "source": [
    "#### Tool Node\n"
   ]
  },
  {
   "cell_type": "code",
   "execution_count": 843,
   "metadata": {},
   "outputs": [],
   "source": [
    "# Tool Node\n",
    "tool_node = ToolNode(tools)"
   ]
  },
  {
   "cell_type": "markdown",
   "metadata": {},
   "source": [
    "#### Memory Nodes\n"
   ]
  },
  {
   "cell_type": "code",
   "execution_count": 844,
   "metadata": {},
   "outputs": [],
   "source": [
    "def get_memory_node(\n",
    "    state: OverallState,\n",
    "    config: RunnableConfig,\n",
    "    store: BaseStore,\n",
    ") -> OverallState:\n",
    "    \"\"\"Retrieve memories associated with a user based on a query.\"\"\"\n",
    "    user_id = config[\"configurable\"].get(\"user_id\")\n",
    "\n",
    "    memories = store.search(\n",
    "        (NAMESPACE_NAME, user_id),\n",
    "        query=str([m.content for m in state[\"messages\"][-3:]]),\n",
    "        limit=10,\n",
    "    )\n",
    "\n",
    "    # Format memories for inclusion in the prompt\n",
    "    formatted_memories = \"\\n\".join(\n",
    "        f\"[{mem.key}]: {mem.value} (similarity: {mem.score})\" for mem in memories\n",
    "    )\n",
    "\n",
    "    if formatted_memories:\n",
    "        formatted_memories = f\"\"\"\n",
    "<memories>\n",
    "{formatted_memories}\n",
    "</memories>\n",
    "\"\"\"\n",
    "\n",
    "    return {\"memories\": formatted_memories}\n",
    "\n",
    "\n",
    "class ParsedMemory(BaseModel):\n",
    "    memory_id: Optional[str] = None\n",
    "    memory: MemoryType\n",
    "\n",
    "\n",
    "def update_memory_node(\n",
    "    state: OverallState,\n",
    "    config: RunnableConfig,\n",
    "    store: BaseStore,\n",
    ") -> OverallState:\n",
    "    summary = state.get(\"summary\", \"\")\n",
    "    memories = state.get(\"memories\", \"\")\n",
    "    user_query = state.get(\"query\", \"\")\n",
    "    history = summary if summary else state.get(\"messages\", [])\n",
    "\n",
    "    user_id = config[\"configurable\"].get(\"user_id\")\n",
    "    namespace = (NAMESPACE_NAME, user_id)\n",
    "\n",
    "    parser = PydanticOutputParser(pydantic_object=ParsedMemory)\n",
    "\n",
    "    # Create our memories prompt\n",
    "    memories_message = ChatPromptTemplate.from_template(\n",
    "        \"This is the current user's memory namespace: {namespace}\\n\\n\"\n",
    "        \"This is summary or history of the conversation to date: {history}\\n\\n\"\n",
    "        \"This is the latest user query: {user_query}\\n\\n\"\n",
    "        \"These are the memories of the user based on the latest query: {memories}\\n\\n\"\n",
    "        \"If a memory conflicts with an existing one, then just UPDATE the existing one by passing in memory_id - don't create two memories that are the same.\"\n",
    "        \"Now based on the above if you think that the current memories should be updated or a new memory should be added then return the new or updated memory in the following Format:\"\n",
    "        \"\"\"\n",
    "        {format_instructions}\n",
    "        \"\"\"\n",
    "        \"EXAMPLES:\"\n",
    "        \" - Creating a New Memory:\"\n",
    "        \"\"\"\n",
    "        {{\n",
    "          \"memory\": {{\n",
    "            \"content\": \"User expressed interest in learning about French.\",\n",
    "            \"context\": \"This was mentioned while discussing career options in Europe.\",\n",
    "            ...other_fields\n",
    "          }}\n",
    "        }}\n",
    "        \"\"\"\n",
    "        \" - Updating a Memory:\"\n",
    "        \"\"\"\n",
    "        {{\n",
    "          \"memory_id\": \"...\",\n",
    "          \"memory\": {{\n",
    "            \"content\": \"User expressed interest in learning about French.\",\n",
    "            \"context\": \"This was mentioned while discussing career options in Europe.\",\n",
    "            ...other_fields\n",
    "          }}\n",
    "        }}\n",
    "        \"\"\"\n",
    "    ).format(\n",
    "        format_instructions=parser.get_format_instructions(),\n",
    "        history=history,\n",
    "        memories=memories,\n",
    "        user_query=user_query,\n",
    "        namespace=str(namespace),\n",
    "    )\n",
    "\n",
    "    response = model.invoke(memories_message)\n",
    "\n",
    "    parsed_response = parser.parse(response.content)\n",
    "\n",
    "    mem_id = parsed_response.memory_id or uuid.uuid4()\n",
    "    mem_type = parsed_response.memory_type or \"general\"\n",
    "    store.put(\n",
    "        namespace,\n",
    "        key=str(mem_id),\n",
    "        value={  # Store memory with its type\n",
    "            \"memory_type\": str(mem_type),\n",
    "            \"memory_data\": parsed_response.model_dump().get(\"memory\"),\n",
    "        },\n",
    "    )\n",
    "\n",
    "    return {\"memories\": state.get(\"memories\")}"
   ]
  },
  {
   "cell_type": "markdown",
   "metadata": {},
   "source": [
    "#### Input Node\n"
   ]
  },
  {
   "cell_type": "code",
   "execution_count": 845,
   "metadata": {},
   "outputs": [],
   "source": [
    "def input_node(state: InputState) -> OverallState:\n",
    "    user_query = state.get(\"query\")\n",
    "    # Return the result as a response\n",
    "    return {\"messages\": [HumanMessage(content=user_query)]}"
   ]
  },
  {
   "cell_type": "markdown",
   "metadata": {},
   "source": [
    "#### Handle User Query Node\n"
   ]
  },
  {
   "cell_type": "code",
   "execution_count": 985,
   "metadata": {},
   "outputs": [],
   "source": [
    "system_prompt = ChatPromptTemplate.from_template(\n",
    "    \"\"\"\n",
    "You are Study Buddy AI, an intelligent assistant designed to support students with their study plans, research, and problem-solving tasks. Your core capabilities include:\n",
    "\n",
    "1. **Tool Assistance**: Utilize external tools such as Study Scheduler, math solvers, calendar APIs, Web Search, and knowledge bases to provide accurate, actionable, and tailored solutions.\n",
    "2. **Web Search**: Use external tools like Tavily Web Search to find relevant reference materials for the user.\n",
    "3. **Human-in-the-Loop (HITL)**: Whenever you need to get human input or clarification, always use the **ask human** tool. Make sure to gather all necessary details in a single request to avoid multiple interactions. Avoid assumptions and ask for precise, unambiguous information.\n",
    "4. **Personalized Support**: Use memory to provide tailored responses, such as recalling exam dates, preferred study times, and previous topics covered.\n",
    "5. **Agentic RAG (Retrieval-Augmented Generation)**: Retrieve contextually relevant information from knowledge bases, user Documents using Tools to generate accurate, concise answers.\n",
    "\n",
    "### BEHAVIORAL GUIDELINES:\n",
    "- Be polite, clear, and concise in your responses.\n",
    "- Ensure accuracy and ask for clarification if needed to avoid misunderstandings.\n",
    "- Provide detailed explanations, especially when it comes to study concepts or solving problems.\n",
    "- Always provide educational insights to help the user understand, not just the answer.\n",
    "- When planning or scheduling, ask about topics to cover, time availability, and any constraints or preferences related to the study routine using the **ask human** tool.\n",
    "- If the user has no preferences or details, create an optimal study schedule based on best practices.\n",
    "- For ambiguous or complex queries, **pause and use the ask human tool** to involve a human assistant.\n",
    "\n",
    "### REQUIREMENTS:\n",
    "- ALWAYS FIRST RETRIEVE DOCUMENTS USING TOOLS.\n",
    "- If there is missing or unclear information (e.g., study preferences, specific topics, or scheduling constraints), you must **ask human** to clarify.\n",
    "- If you need to gather multiple pieces of information, **ask human** should include all necessary details in one message.\n",
    "- ALWAYS USE THE **ask human** to take any kind of input or information from the user and always ask precise questions to avoid multiple rounds of clarification.\n",
    "- If you have already asked for user input and you still need more information you can invoke the ask human tool again.\n",
    "- WHEN DOING RAG, If the tool response is not relevant to the user's query, try to retreive the documents again using tools.\n",
    "\n",
    "### EXAMPLES:\n",
    "\n",
    "#### Human: \"What is Langgraph?\"\n",
    "- **Tool Call**: Use tools to search the web and gather content.\n",
    "- **AI**: \"Langgraph is an AI framework designed to...\"\n",
    "\n",
    "#### Human: \"Please create a study schedule for me.\"\n",
    "- **Tool Call (ask human)**: \n",
    "  - AI: \"In order to create a personalized study schedule for you, I'll need a few details. Please answer the following:\n",
    "         **Asks the user all the details needed to create a schedule.**\n",
    "- **AI (after receiving user input)**: \n",
    "  - **Tool Call**: calls the create study schedule to create schedule.\n",
    "  - AI: \"Here is your Study schedule...\"\n",
    "\n",
    "#### Human: \"Please save that schedule in a (markdown|csv) file.\"\n",
    "- **Tool Call**: Save the study schedule in (markdown|csv) format.\n",
    "- **AI (using tool message)**: \"I have successfully saved your study schedule in (markdown|csv) format. Let me know if you need any further adjustments.\"\n",
    "\n",
    "#### Human: \"What is my name?\"\n",
    "- **Tool Call**: Tries to search in documents.\n",
    "- **AI (If answer was not found in docs)**: \"I'm sorry, but I don’t know your name yet. Could you please share it with me so I can address you properly in future conversations?\"\n",
    "\n",
    "### MEMORIES\n",
    "{memories}\n",
    "\n",
    "### SUMMARY\n",
    "{summary}\n",
    "\n",
    "System Time: {time}\n",
    "\"\"\"\n",
    ")\n",
    "\n",
    "\n",
    "def handle_user_query_node(state: OverallState) -> OverallState:\n",
    "    \"\"\"\n",
    "    Calls the model with the correct input state, integrating all messages (including tool calls and prior responses)\n",
    "    to ensure the model has the full context.\n",
    "    \"\"\"\n",
    "\n",
    "    # Retrieve the conversation history and user query\n",
    "    messages = state.get(\"messages\", [])\n",
    "    summary = state.get(\"summary\", \"\")\n",
    "    memories = state.get(\"memories\", \"\")\n",
    "\n",
    "    # Construct the system message with the summary and memories (if available)\n",
    "    system_message = SystemMessage(\n",
    "        content=system_prompt.format(\n",
    "            summary=summary,  # Include summary context if available\n",
    "            memories=memories,  # Include memory context if available\n",
    "            time=datetime.now().isoformat(),\n",
    "        )\n",
    "    )\n",
    "\n",
    "    # Combine system message, prior tool messages\n",
    "    # Ensure all relevant messages are included in the context\n",
    "    all_messages = [system_message] + messages\n",
    "\n",
    "    # Call the model with the full message history (system message, tool messages, and user query)\n",
    "    result = model_with_tools.invoke(all_messages)\n",
    "\n",
    "    if result.tool_calls:\n",
    "        result = AIMessage(**result.model_dump(exclude=[\"content\"]), content=\"\")\n",
    "\n",
    "    # Return the result as a response\n",
    "    return {\"messages\": [result]}"
   ]
  },
  {
   "cell_type": "markdown",
   "metadata": {},
   "source": [
    "#### Summarization Node\n"
   ]
  },
  {
   "cell_type": "code",
   "execution_count": 986,
   "metadata": {},
   "outputs": [],
   "source": [
    "def summarization_node(state: OverallState) -> OverallState:\n",
    "    # First, we get any existing summary\n",
    "    summary = state.get(\"summary\")\n",
    "    messages = state.get(\"messages\")\n",
    "\n",
    "    # Create our summarization prompt\n",
    "    if summary:\n",
    "        # A summary already exists\n",
    "        summary_message = (\n",
    "            f\"This is summary of the conversation to date: {summary}\\n\\n\"\n",
    "            \"Extend the summary by taking into account the new messages above:\"\n",
    "        )\n",
    "\n",
    "    else:\n",
    "        summary_message = \"Create a summary of the conversation above:\"\n",
    "\n",
    "    if len(messages) > 6:\n",
    "        # Add prompt to our history\n",
    "        messages = messages + [HumanMessage(content=summary_message)]\n",
    "        response = model.invoke(messages)\n",
    "        # Delete all but the 2 most recent messages\n",
    "        delete_messages = [RemoveMessage(id=m.id or \"\") for m in messages[:-2]]\n",
    "\n",
    "        return {\n",
    "            \"summary\": response.content,\n",
    "            \"messages\": delete_messages,\n",
    "        }\n",
    "\n",
    "    else:\n",
    "        return {\"summary\": \"\"}"
   ]
  },
  {
   "cell_type": "markdown",
   "metadata": {},
   "source": [
    "#### Output Node\n"
   ]
  },
  {
   "cell_type": "code",
   "execution_count": 987,
   "metadata": {},
   "outputs": [],
   "source": [
    "def output_node(state: OverallState) -> OutputState:\n",
    "    # If the graph is successful we add the query and response to full conversation history\n",
    "    conversation = []\n",
    "    last_message = state[\"messages\"][-1]\n",
    "    if last_message.type == \"ai\" or last_message.type == \"AIMessageChunk\":\n",
    "        conversation += [HumanMessage(content=state[\"query\"])] + [last_message]\n",
    "\n",
    "    return {\n",
    "        \"response\": state[\"messages\"][-1],\n",
    "        \"conversation\": conversation,\n",
    "        \"query\": \"\",\n",
    "    }"
   ]
  },
  {
   "cell_type": "markdown",
   "metadata": {},
   "source": [
    "### AGENT COMPILATION\n"
   ]
  },
  {
   "cell_type": "code",
   "execution_count": 988,
   "metadata": {},
   "outputs": [],
   "source": [
    "# Create the graph\n",
    "workflow = StateGraph(OverallState, input=InputState, output=OutputState)\n",
    "\n",
    "# Add nodes\n",
    "workflow.add_node(\"input\", input_node)\n",
    "workflow.add_node(\"handle_user_query\", handle_user_query_node)\n",
    "workflow.add_node(\"get_memory\", get_memory_node)\n",
    "workflow.add_node(\"tools\", tool_node)\n",
    "workflow.add_node(\"summarization\", summarization_node)\n",
    "workflow.add_node(\"finalize_output\", output_node)\n",
    "\n",
    "# Add edges\n",
    "workflow.add_edge(START, \"input\")\n",
    "workflow.add_edge(\"input\", \"get_memory\")\n",
    "workflow.add_edge(\"get_memory\", \"handle_user_query\")\n",
    "workflow.add_conditional_edges(\n",
    "    \"handle_user_query\", tools_condition, {\"tools\": \"tools\", END: \"summarization\"}\n",
    ")\n",
    "workflow.add_edge(\"tools\", \"handle_user_query\")\n",
    "workflow.add_edge(\"summarization\", \"finalize_output\")\n",
    "workflow.add_edge(\"finalize_output\", END)\n",
    "\n",
    "# Compile the graph\n",
    "agent = workflow.compile(checkpointer=checkpointer, store=in_memory_store)"
   ]
  },
  {
   "cell_type": "code",
   "execution_count": 989,
   "metadata": {},
   "outputs": [
    {
     "data": {
      "image/png": "[encoded data removed]",
      "text/plain": [
       "<IPython.core.display.Image object>"
      ]
     },
     "execution_count": 989,
     "metadata": {},
     "output_type": "execute_result"
    }
   ],
   "source": [
    "Image(agent.get_graph().draw_mermaid_png())"
   ]
  },
  {
   "cell_type": "markdown",
   "metadata": {},
   "source": [
    "### TESTING SCENARIOIS\n"
   ]
  },
  {
   "cell_type": "markdown",
   "metadata": {},
   "source": [
    "#### NEED REFERENCE MATERIALS FOR LEARNING?\n"
   ]
  },
  {
   "cell_type": "code",
   "execution_count": 969,
   "metadata": {},
   "outputs": [],
   "source": [
    "config = {\"configurable\": {\"thread_id\": \"10\", \"user_id\": str(user_id)}}"
   ]
  },
  {
   "cell_type": "code",
   "execution_count": 970,
   "metadata": {},
   "outputs": [
    {
     "data": {
      "text/plain": [
       "[HumanMessage(content='Hi, I am trying to Learn Langgraph, can you please find some reference material from the web for me to get started?', additional_kwargs={}, response_metadata={}, id='1455802d-bfcc-4e26-8d5d-0f668ba25524'),\n",
       " AIMessage(content=\"Okay, I found some helpful resources to get you started with Langgraph:\\n\\n1.  **LangGraph Quickstart**: This tutorial from the official Langchain documentation guides you through building a chatbot that uses tools and tracks conversation history. It also covers human-in-the-loop capabilities and time-travel features. You can find it here: [https://langchain-ai.github.io/langgraph/tutorials/](https://langchain-ai.github.io/langgraph/tutorials/)\\n2.  **Introduction to LangGraph: A Beginner's Guide**: This article provides a good overview of LangGraph, explaining its core concepts and how to use it to build complex applications with LLMs. Check it out here: [https://medium.com/@cplog/introduction-to-langgraph-a-beginners-guide-14f9be027141](https://medium.com/@cplog/introduction-to-langgraph-a-beginners-guide-14f9be027141)\\n3.  **Getting Started with LangGraph: A Practical Guide for Beginners**: This blog post dives into the basics of LangGraph, explaining what it is, why it's useful, and how to set it up. You can read it here: [https://toxigon.com/getting-started-with-langgraph](https://toxigon.com/getting-started-with-langgraph)\\n\\nThese resources should give you a solid foundation for learning Langgraph. Let me know if you need help with anything else!\\n\", additional_kwargs={}, response_metadata={'safety_ratings': [{'category': 'HARM_CATEGORY_HATE_SPEECH', 'probability': 'NEGLIGIBLE', 'blocked': False}, {'category': 'HARM_CATEGORY_DANGEROUS_CONTENT', 'probability': 'NEGLIGIBLE', 'blocked': False}, {'category': 'HARM_CATEGORY_HARASSMENT', 'probability': 'NEGLIGIBLE', 'blocked': False}, {'category': 'HARM_CATEGORY_SEXUALLY_EXPLICIT', 'probability': 'NEGLIGIBLE', 'blocked': False}, {'category': 'HARM_CATEGORY_HATE_SPEECH', 'probability': 'NEGLIGIBLE', 'blocked': False}, {'category': 'HARM_CATEGORY_DANGEROUS_CONTENT', 'probability': 'NEGLIGIBLE', 'blocked': False}, {'category': 'HARM_CATEGORY_HARASSMENT', 'probability': 'NEGLIGIBLE', 'blocked': False}, {'category': 'HARM_CATEGORY_SEXUALLY_EXPLICIT', 'probability': 'NEGLIGIBLE', 'blocked': False}, {'category': 'HARM_CATEGORY_HATE_SPEECH', 'probability': 'NEGLIGIBLE', 'blocked': False}, {'category': 'HARM_CATEGORY_DANGEROUS_CONTENT', 'probability': 'NEGLIGIBLE', 'blocked': False}, {'category': 'HARM_CATEGORY_HARASSMENT', 'probability': 'NEGLIGIBLE', 'blocked': False}, {'category': 'HARM_CATEGORY_SEXUALLY_EXPLICIT', 'probability': 'NEGLIGIBLE', 'blocked': False}, {'category': 'HARM_CATEGORY_HATE_SPEECH', 'probability': 'NEGLIGIBLE', 'blocked': False}, {'category': 'HARM_CATEGORY_DANGEROUS_CONTENT', 'probability': 'NEGLIGIBLE', 'blocked': False}, {'category': 'HARM_CATEGORY_HARASSMENT', 'probability': 'NEGLIGIBLE', 'blocked': False}, {'category': 'HARM_CATEGORY_SEXUALLY_EXPLICIT', 'probability': 'NEGLIGIBLE', 'blocked': False}, {'category': 'HARM_CATEGORY_HATE_SPEECH', 'probability': 'NEGLIGIBLE', 'blocked': False}, {'category': 'HARM_CATEGORY_DANGEROUS_CONTENT', 'probability': 'NEGLIGIBLE', 'blocked': False}, {'category': 'HARM_CATEGORY_HARASSMENT', 'probability': 'NEGLIGIBLE', 'blocked': False}, {'category': 'HARM_CATEGORY_SEXUALLY_EXPLICIT', 'probability': 'NEGLIGIBLE', 'blocked': False}, {'category': 'HARM_CATEGORY_HATE_SPEECH', 'probability': 'NEGLIGIBLE', 'blocked': False}, {'category': 'HARM_CATEGORY_DANGEROUS_CONTENT', 'probability': 'NEGLIGIBLE', 'blocked': False}, {'category': 'HARM_CATEGORY_HARASSMENT', 'probability': 'NEGLIGIBLE', 'blocked': False}, {'category': 'HARM_CATEGORY_SEXUALLY_EXPLICIT', 'probability': 'NEGLIGIBLE', 'blocked': False}, {'category': 'HARM_CATEGORY_HATE_SPEECH', 'probability': 'NEGLIGIBLE', 'blocked': False}, {'category': 'HARM_CATEGORY_DANGEROUS_CONTENT', 'probability': 'NEGLIGIBLE', 'blocked': False}, {'category': 'HARM_CATEGORY_HARASSMENT', 'probability': 'NEGLIGIBLE', 'blocked': False}, {'category': 'HARM_CATEGORY_SEXUALLY_EXPLICIT', 'probability': 'NEGLIGIBLE', 'blocked': False}, {'category': 'HARM_CATEGORY_HATE_SPEECH', 'probability': 'NEGLIGIBLE', 'blocked': False}, {'category': 'HARM_CATEGORY_DANGEROUS_CONTENT', 'probability': 'NEGLIGIBLE', 'blocked': False}, {'category': 'HARM_CATEGORY_HARASSMENT', 'probability': 'NEGLIGIBLE', 'blocked': False}, {'category': 'HARM_CATEGORY_SEXUALLY_EXPLICIT', 'probability': 'NEGLIGIBLE', 'blocked': False}, {'category': 'HARM_CATEGORY_HATE_SPEECH', 'probability': 'NEGLIGIBLE', 'blocked': False}, {'category': 'HARM_CATEGORY_DANGEROUS_CONTENT', 'probability': 'NEGLIGIBLE', 'blocked': False}, {'category': 'HARM_CATEGORY_HARASSMENT', 'probability': 'NEGLIGIBLE', 'blocked': False}, {'category': 'HARM_CATEGORY_SEXUALLY_EXPLICIT', 'probability': 'NEGLIGIBLE', 'blocked': False}], 'finish_reason': 'STOP'}, id='run-9e095014-cbe4-4b05-adea-b6964cd48935', usage_metadata={'input_tokens': 4637, 'output_tokens': 334, 'total_tokens': 4971, 'input_token_details': {'cache_read': 0}}),\n",
       " ToolMessage(content='[{\"url\": \"https://langchain-ai.github.io/langgraph/tutorials/\", \"content\": \"Tutorials¶. New to LangGraph or LLM app development? Read this material to get up and running building your first applications. Get Started 🚀¶. LangGraph Quickstart: Build a chatbot that can use tools and keep track of conversation history.Add human-in-the-loop capabilities and explore how time-travel works.\"}, {\"url\": \"https://medium.com/@cplog/introduction-to-langgraph-a-beginners-guide-14f9be027141\", \"content\": \"LangGraph is a versatile tool for building complex, stateful applications with LLMs. By understanding its core concepts and working through simple examples, beginners can start to leverage its\"}, {\"url\": \"https://toxigon.com/getting-started-with-langgraph\", \"content\": \"Getting Started with LangGraph: A Practical Guide for Beginners Getting Started with LangGraph: A Practical Guide for Beginners Getting Started with LangGraph: A Practical Guide for Beginners What is LangGraph? Why Use LangGraph? Setting Up LangGraph In this article, we\\'ll dive into the basics of LangGraph, understand what it is, why it\\'s useful, and how to get started with it. What is LangGraph? Why Use LangGraph? Setting Up LangGraph The first step is to set up LangGraph. @article{getting-started-with-langgraph, \\xa0\\xa0title = {Getting Started with LangGraph: A Practical Guide for Beginners}, \\xa0\\xa0author = {Toxigon}, \\xa0\\xa0year = {2024}, \\xa0\\xa0journal = {Toxigon Blog}, \\xa0\\xa0url = {https://toxigon.com/getting-started-with-langgraph} } How to Install .NET Core on Linux: A Comprehensive Guide If you’re diving into the world of progra...\"}]', name='tavily_web_search', id='a31c7560-1480-4830-b29c-ba745333f8c6', tool_call_id='a5460e23-72ef-4340-8426-6a9fbb0eba85', artifact={'query': 'Langgraph tutorial for beginners', 'follow_up_questions': None, 'answer': 'LangGraph offers tutorials for beginners to help them get started with developing applications using LangGraph. These tutorials cover topics such as building a chatbot, utilizing tools, keeping track of conversation history, adding human-in-the-loop capabilities, and exploring time-travel functionalities. Beginners can leverage LangGraph to build complex, stateful applications by understanding its core concepts and working through simple examples. Additionally, a practical guide is available for beginners to set up LangGraph, understand its usefulness, and begin working with it.', 'images': ['https://cdn.hashnode.com/res/hashnode/image/upload/v1727784426242/554ed438-b8fa-4721-b687-f7389ffbe04c.png?w=1600&h=840&fit=crop&crop=entropy&auto=compress,format&format=webp', 'https://cdn.hashnode.com/res/hashnode/image/upload/v1727695448677/0e3ce539-1997-43ef-8e3c-648893855349.jpeg?auto=compress,format&format=webp', 'https://cdn.hashnode.com/res/hashnode/image/upload/v1727691758803/9a7b226b-8372-4580-8847-ab8c5fac09d0.webp?auto=compress,format&format=webp', 'https://datasciencedojo.com/wp-content/uploads/LinkedIn-Newsletr-Infographics.png', 'https://miro.medium.com/v2/resize:fit:1200/1*pvsQBbW2fTYhvYcQIMCt3w.png'], 'results': [{'title': 'Tutorials - GitHub Pages', 'url': 'https://langchain-ai.github.io/langgraph/tutorials/', 'content': 'Tutorials¶. New to LangGraph or LLM app development? Read this material to get up and running building your first applications. Get Started 🚀¶. LangGraph Quickstart: Build a chatbot that can use tools and keep track of conversation history.Add human-in-the-loop capabilities and explore how time-travel works.', 'score': 0.8058924, 'raw_content': None}, {'title': \"Introduction to LangGraph: A Beginner's Guide - Medium\", 'url': 'https://medium.com/@cplog/introduction-to-langgraph-a-beginners-guide-14f9be027141', 'content': 'LangGraph is a versatile tool for building complex, stateful applications with LLMs. By understanding its core concepts and working through simple examples, beginners can start to leverage its', 'score': 0.8051581, 'raw_content': 'Sign up\\nSign in\\nSign up\\nSign in\\nIntroduction to LangGraph: A Beginner’s Guide\\nCPlog\\nFollow\\n--\\n2\\nListen\\nShare\\nLangGraph is a powerful tool for building stateful, multi-actor applications with Large Language Models (LLMs). It extends the LangChain library, allowing you to coordinate multiple chains (or actors) across multiple steps of computation in a cyclic manner. In this article, we’ll introduce LangGraph, walk you through its basic concepts, and share some insights and common points of confusion for beginners.\\nWhat is LangGraph?\\nLangGraph is a library built on top of LangChain, designed to add cyclic computational capabilities to your LLM applications. While LangChain allows you to define chains of computation (Directed Acyclic Graphs or DAGs), LangGraph introduces the ability to add cycles, enabling more complex, agent-like behaviors where you can call an LLM in a loop, asking it what action to take next.\\nKey Concepts\\nA Simple Example\\nLet’s walk through a simple example where we use LangGraph to classify user input as either a “greeting” or a “search” query and respond accordingly.\\nStep 1: Define the Graph State\\nFirst, we define the state structure for our graph. In this example, our state includes the user’s question, the classification of the question, and a response.\\nStep 2: Create the Graph\\nNext, we create a new instance of StateGraph with our GraphState structure.\\nStep 3: Define Nodes\\nWe define nodes for classifying the input, handling greetings, and handling search queries.\\nStep 4: Add Nodes to the Graph\\nWe add our nodes to the graph and define the flow using edges and conditional edges.\\nStep 5: Set Entry and End Points\\nWe set the entry point for our graph and define the end points.\\nStep 6: Compile and Run the Graph\\nFinally, we compile our graph and run it with some input.\\nCommon Confusions\\nConclusion\\nLangGraph is a versatile tool for building complex, stateful applications with LLMs. By understanding its core concepts and working through simple examples, beginners can start to leverage its power for their projects. Remember to pay attention to state management, conditional edges, and ensuring there are no dead-end nodes in your graph. Happy coding!\\n--\\n--\\n2\\nWritten by CPlog\\nAI enthusiast & Principal Data Scientist at LFX & Li & Fung. I innovate with LLMs, LangChain, Stable Diffusion & ComfyUI to revolutionize supply chains.\\nHelp\\nStatus\\nAbout\\nCareers\\nBlog\\nPrivacy\\nTerms\\nText to speech\\nTeams'}, {'title': 'Getting Started with LangGraph: A Practical Guide for Beginners', 'url': 'https://toxigon.com/getting-started-with-langgraph', 'content': \"Getting Started with LangGraph: A Practical Guide for Beginners Getting Started with LangGraph: A Practical Guide for Beginners Getting Started with LangGraph: A Practical Guide for Beginners What is LangGraph? Why Use LangGraph? Setting Up LangGraph In this article, we'll dive into the basics of LangGraph, understand what it is, why it's useful, and how to get started with it. What is LangGraph? Why Use LangGraph? Setting Up LangGraph The first step is to set up LangGraph. @article{getting-started-with-langgraph, \\xa0\\xa0title = {Getting Started with LangGraph: A Practical Guide for Beginners}, \\xa0\\xa0author = {Toxigon}, \\xa0\\xa0year = {2024}, \\xa0\\xa0journal = {Toxigon Blog}, \\xa0\\xa0url = {https://toxigon.com/getting-started-with-langgraph} } How to Install .NET Core on Linux: A Comprehensive Guide If you’re diving into the world of progra...\", 'score': 0.77650476, 'raw_content': \"Getting Started with LangGraph: A Practical Guide for Beginners\\n ### TOXIGON Infinite\\nSearch\\n\\nHome\\n\\nProgramming 1 day ago 1\\n\\nGetting Started with LangGraph: A Practical Guide for Beginners\\nTable of Contents\\n\\nGetting Started with LangGraph: A Practical Guide for Beginners\\nWhat is LangGraph?\\nWhy Use LangGraph?\\nSetting Up LangGraph\\n\\nLangGraph is one of those tools that you've probably heard about, but maybe you're not sure where to start. Don't worry, I'm here to help. In this article, we'll dive into the basics of LangGraph, understand what it is, why it's useful, and how to get started with it.\\nBy the end of this guide, you're going to have a solid foundation in LangGraph. You'll understand what it's all about, how to set it up, and even create your first graph. So, let's dive in!\\nWhat is LangGraph?\\nLangGraph is a powerful tool designed to help you visualize and analyze language data. It's particularly useful for linguists, data scientists, and anyone interested in understanding the structure and relationships within text data.\\nWhy Use LangGraph?\\nBefore we dive into the how, let's talk about the why. Why should you bother learning LangGraph? Well, here are a few reasons:\\n\\nVisualize Data: LangGraph allows you to create visual representations of your data, making it easier to spot patterns and relationships.\\nAnalyze Text: It's great for analyzing text data, helping you understand the structure and semantics of language.\\nFlexible: LangGraph is highly customizable, allowing you to tailor it to your specific needs.\\n\\nSounds pretty useful, right?\\nSetting Up LangGraph\\nAlright, let's get into the nitty-gritty. The first step is to set up LangGraph. Here's a quick rundown of what you'll need:\\n\\nA computer (obviously)\\nPython installed (you can download it from \\n\\nCitation\\n@article{getting-started-with-langgraph, \\xa0\\xa0title = {Getting Started with LangGraph: A Practical Guide for Beginners}, \\xa0\\xa0author = {Toxigon}, \\xa0\\xa0year = {2024}, \\xa0\\xa0journal = {Toxigon Blog}, \\xa0\\xa0url = {https://toxigon.com/getting-started-with-langgraph} }\\nRelated Articles\\n\\nDiving Deep into Test-Driven Development in Go: A Practical Guide\\nDiving Deep into Test-Driven Development in Go: A Practical Guide Welcome, fellow developers! Today,...\\n4 days ago 0\\n\\nHow to Get Started with Spring Framework: A Comprehensive Overview\\nHow to Get Started with Spring Framework: A Comprehensive Overview Welcome to our comprehensive gui...\\n2 months ago 14\\n\\nHow to Boost Performance with Parallel Processing in .NET\\nHow to Boost Performance with Parallel Processing in .NET Welcome to the world of parallel processi...\\n2 months ago 0\\n\\nHow to Install .NET Core on Linux: A Step-by-Step Guide\\nHow to Install .NET Core on Linux: A Comprehensive Guide If you’re diving into the world of progra...\\n4 months ago 21\\n© 2004 - 2024 Toxigon Infinite.\\nAll rights reserved.\"}], 'response_time': 2.91}),\n",
       " AIMessage(content='', additional_kwargs={'function_call': {'name': 'tavily_web_search', 'arguments': '{\"query\": \"Langgraph tutorial for beginners\"}'}}, response_metadata={'safety_ratings': [{'category': 'HARM_CATEGORY_HATE_SPEECH', 'probability': 'NEGLIGIBLE', 'blocked': False}, {'category': 'HARM_CATEGORY_DANGEROUS_CONTENT', 'probability': 'NEGLIGIBLE', 'blocked': False}, {'category': 'HARM_CATEGORY_HARASSMENT', 'probability': 'NEGLIGIBLE', 'blocked': False}, {'category': 'HARM_CATEGORY_SEXUALLY_EXPLICIT', 'probability': 'NEGLIGIBLE', 'blocked': False}], 'finish_reason': 'STOP'}, id='run-14762d44-7e9b-468c-9c60-9155e1da4c9c', tool_calls=[{'name': 'tavily_web_search', 'args': {'query': 'Langgraph tutorial for beginners'}, 'id': 'a5460e23-72ef-4340-8426-6a9fbb0eba85', 'type': 'tool_call'}], usage_metadata={'input_tokens': 4195, 'output_tokens': 12, 'total_tokens': 4207, 'input_token_details': {'cache_read': 0}}),\n",
       " HumanMessage(content='Hi, I am trying to Learn Langgraph, can you please find some reference material from the web for me to get started?', additional_kwargs={}, response_metadata={}, id='474eff28-ceb6-416c-8e2a-2eca2563c25d')]"
      ]
     },
     "metadata": {},
     "output_type": "display_data"
    },
    {
     "data": {
      "text/plain": [
       "None"
      ]
     },
     "metadata": {},
     "output_type": "display_data"
    },
    {
     "data": {
      "text/plain": [
       "[]"
      ]
     },
     "metadata": {},
     "output_type": "display_data"
    },
    {
     "data": {
      "text/plain": [
       "[ToolMessage(content='[{\"url\": \"https://langchain-ai.github.io/langgraph/tutorials/\", \"content\": \"Tutorials¶. New to LangGraph or LLM app development? Read this material to get up and running building your first applications. Get Started 🚀¶. LangGraph Quickstart: Build a chatbot that can use tools and keep track of conversation history.Add human-in-the-loop capabilities and explore how time-travel works.\"}, {\"url\": \"https://medium.com/@cplog/introduction-to-langgraph-a-beginners-guide-14f9be027141\", \"content\": \"LangGraph is a versatile tool for building complex, stateful applications with LLMs. By understanding its core concepts and working through simple examples, beginners can start to leverage its\"}, {\"url\": \"https://toxigon.com/getting-started-with-langgraph\", \"content\": \"Getting Started with LangGraph: A Practical Guide for Beginners Getting Started with LangGraph: A Practical Guide for Beginners Getting Started with LangGraph: A Practical Guide for Beginners What is LangGraph? Why Use LangGraph? Setting Up LangGraph In this article, we\\'ll dive into the basics of LangGraph, understand what it is, why it\\'s useful, and how to get started with it. What is LangGraph? Why Use LangGraph? Setting Up LangGraph The first step is to set up LangGraph. @article{getting-started-with-langgraph, \\xa0\\xa0title = {Getting Started with LangGraph: A Practical Guide for Beginners}, \\xa0\\xa0author = {Toxigon}, \\xa0\\xa0year = {2024}, \\xa0\\xa0journal = {Toxigon Blog}, \\xa0\\xa0url = {https://toxigon.com/getting-started-with-langgraph} } How to Install .NET Core on Linux: A Comprehensive Guide If you’re diving into the world of progra...\"}]', name='tavily_web_search', id='96c64cff-8beb-47f7-a9dd-999a717acb8b', tool_call_id='3fe99dde-cb3a-435e-bd48-735c3689e10c', artifact={'query': 'Langgraph tutorial for beginners', 'follow_up_questions': None, 'answer': 'LangGraph offers tutorials for beginners to help them get started with building applications using LangGraph and LLM technology. Beginners can learn to create chatbots, incorporate human-in-the-loop capabilities, and understand how time-travel functions within LangGraph. Additionally, beginners can leverage LangGraph to build complex, stateful applications by grasping its core concepts and working through simple examples. The tool provides a practical guide for beginners to understand its basics, utility, and setup process.', 'images': ['https://cdn.hashnode.com/res/hashnode/image/upload/v1727784426242/554ed438-b8fa-4721-b687-f7389ffbe04c.png?w=1600&h=840&fit=crop&crop=entropy&auto=compress,format&format=webp', 'https://cdn.hashnode.com/res/hashnode/image/upload/v1727695448677/0e3ce539-1997-43ef-8e3c-648893855349.jpeg?auto=compress,format&format=webp', 'https://cdn.hashnode.com/res/hashnode/image/upload/v1727691758803/9a7b226b-8372-4580-8847-ab8c5fac09d0.webp?auto=compress,format&format=webp', 'https://datasciencedojo.com/wp-content/uploads/LinkedIn-Newsletr-Infographics.png', 'https://miro.medium.com/v2/resize:fit:1200/1*pvsQBbW2fTYhvYcQIMCt3w.png'], 'results': [{'title': 'Tutorials - GitHub Pages', 'url': 'https://langchain-ai.github.io/langgraph/tutorials/', 'content': 'Tutorials¶. New to LangGraph or LLM app development? Read this material to get up and running building your first applications. Get Started 🚀¶. LangGraph Quickstart: Build a chatbot that can use tools and keep track of conversation history.Add human-in-the-loop capabilities and explore how time-travel works.', 'score': 0.8058924, 'raw_content': None}, {'title': \"Introduction to LangGraph: A Beginner's Guide - Medium\", 'url': 'https://medium.com/@cplog/introduction-to-langgraph-a-beginners-guide-14f9be027141', 'content': 'LangGraph is a versatile tool for building complex, stateful applications with LLMs. By understanding its core concepts and working through simple examples, beginners can start to leverage its', 'score': 0.8051581, 'raw_content': 'Sign up\\nSign in\\nSign up\\nSign in\\nIntroduction to LangGraph: A Beginner’s Guide\\nCPlog\\nFollow\\n--\\n2\\nListen\\nShare\\nLangGraph is a powerful tool for building stateful, multi-actor applications with Large Language Models (LLMs). It extends the LangChain library, allowing you to coordinate multiple chains (or actors) across multiple steps of computation in a cyclic manner. In this article, we’ll introduce LangGraph, walk you through its basic concepts, and share some insights and common points of confusion for beginners.\\nWhat is LangGraph?\\nLangGraph is a library built on top of LangChain, designed to add cyclic computational capabilities to your LLM applications. While LangChain allows you to define chains of computation (Directed Acyclic Graphs or DAGs), LangGraph introduces the ability to add cycles, enabling more complex, agent-like behaviors where you can call an LLM in a loop, asking it what action to take next.\\nKey Concepts\\nA Simple Example\\nLet’s walk through a simple example where we use LangGraph to classify user input as either a “greeting” or a “search” query and respond accordingly.\\nStep 1: Define the Graph State\\nFirst, we define the state structure for our graph. In this example, our state includes the user’s question, the classification of the question, and a response.\\nStep 2: Create the Graph\\nNext, we create a new instance of StateGraph with our GraphState structure.\\nStep 3: Define Nodes\\nWe define nodes for classifying the input, handling greetings, and handling search queries.\\nStep 4: Add Nodes to the Graph\\nWe add our nodes to the graph and define the flow using edges and conditional edges.\\nStep 5: Set Entry and End Points\\nWe set the entry point for our graph and define the end points.\\nStep 6: Compile and Run the Graph\\nFinally, we compile our graph and run it with some input.\\nCommon Confusions\\nConclusion\\nLangGraph is a versatile tool for building complex, stateful applications with LLMs. By understanding its core concepts and working through simple examples, beginners can start to leverage its power for their projects. Remember to pay attention to state management, conditional edges, and ensuring there are no dead-end nodes in your graph. Happy coding!\\n--\\n--\\n2\\nWritten by CPlog\\nAI enthusiast & Principal Data Scientist at LFX & Li & Fung. I innovate with LLMs, LangChain, Stable Diffusion & ComfyUI to revolutionize supply chains.\\nHelp\\nStatus\\nAbout\\nCareers\\nBlog\\nPrivacy\\nTerms\\nText to speech\\nTeams'}, {'title': 'Getting Started with LangGraph: A Practical Guide for Beginners', 'url': 'https://toxigon.com/getting-started-with-langgraph', 'content': \"Getting Started with LangGraph: A Practical Guide for Beginners Getting Started with LangGraph: A Practical Guide for Beginners Getting Started with LangGraph: A Practical Guide for Beginners What is LangGraph? Why Use LangGraph? Setting Up LangGraph In this article, we'll dive into the basics of LangGraph, understand what it is, why it's useful, and how to get started with it. What is LangGraph? Why Use LangGraph? Setting Up LangGraph The first step is to set up LangGraph. @article{getting-started-with-langgraph, \\xa0\\xa0title = {Getting Started with LangGraph: A Practical Guide for Beginners}, \\xa0\\xa0author = {Toxigon}, \\xa0\\xa0year = {2024}, \\xa0\\xa0journal = {Toxigon Blog}, \\xa0\\xa0url = {https://toxigon.com/getting-started-with-langgraph} } How to Install .NET Core on Linux: A Comprehensive Guide If you’re diving into the world of progra...\", 'score': 0.77650476, 'raw_content': \"Getting Started with LangGraph: A Practical Guide for Beginners\\n ### TOXIGON Infinite\\nSearch\\n\\nHome\\n\\nProgramming 1 day ago 1\\n\\nGetting Started with LangGraph: A Practical Guide for Beginners\\nTable of Contents\\n\\nGetting Started with LangGraph: A Practical Guide for Beginners\\nWhat is LangGraph?\\nWhy Use LangGraph?\\nSetting Up LangGraph\\n\\nLangGraph is one of those tools that you've probably heard about, but maybe you're not sure where to start. Don't worry, I'm here to help. In this article, we'll dive into the basics of LangGraph, understand what it is, why it's useful, and how to get started with it.\\nBy the end of this guide, you're going to have a solid foundation in LangGraph. You'll understand what it's all about, how to set it up, and even create your first graph. So, let's dive in!\\nWhat is LangGraph?\\nLangGraph is a powerful tool designed to help you visualize and analyze language data. It's particularly useful for linguists, data scientists, and anyone interested in understanding the structure and relationships within text data.\\nWhy Use LangGraph?\\nBefore we dive into the how, let's talk about the why. Why should you bother learning LangGraph? Well, here are a few reasons:\\n\\nVisualize Data: LangGraph allows you to create visual representations of your data, making it easier to spot patterns and relationships.\\nAnalyze Text: It's great for analyzing text data, helping you understand the structure and semantics of language.\\nFlexible: LangGraph is highly customizable, allowing you to tailor it to your specific needs.\\n\\nSounds pretty useful, right?\\nSetting Up LangGraph\\nAlright, let's get into the nitty-gritty. The first step is to set up LangGraph. Here's a quick rundown of what you'll need:\\n\\nA computer (obviously)\\nPython installed (you can download it from \\n\\nCitation\\n@article{getting-started-with-langgraph, \\xa0\\xa0title = {Getting Started with LangGraph: A Practical Guide for Beginners}, \\xa0\\xa0author = {Toxigon}, \\xa0\\xa0year = {2024}, \\xa0\\xa0journal = {Toxigon Blog}, \\xa0\\xa0url = {https://toxigon.com/getting-started-with-langgraph} }\\nRelated Articles\\n\\nDiving Deep into Test-Driven Development in Go: A Practical Guide\\nDiving Deep into Test-Driven Development in Go: A Practical Guide Welcome, fellow developers! Today,...\\n4 days ago 0\\n\\nHow to Get Started with Spring Framework: A Comprehensive Overview\\nHow to Get Started with Spring Framework: A Comprehensive Overview Welcome to our comprehensive gui...\\n2 months ago 14\\n\\nHow to Boost Performance with Parallel Processing in .NET\\nHow to Boost Performance with Parallel Processing in .NET Welcome to the world of parallel processi...\\n2 months ago 0\\n\\nHow to Install .NET Core on Linux: A Step-by-Step Guide\\nHow to Install .NET Core on Linux: A Comprehensive Guide If you’re diving into the world of progra...\\n4 months ago 21\\n© 2004 - 2024 Toxigon Infinite.\\nAll rights reserved.\"}], 'response_time': 2.96}),\n",
       " AIMessage(content='', additional_kwargs={'function_call': {'name': 'tavily_web_search', 'arguments': '{\"query\": \"Langgraph tutorial for beginners\"}'}}, response_metadata={'safety_ratings': [{'category': 'HARM_CATEGORY_HATE_SPEECH', 'probability': 'NEGLIGIBLE', 'blocked': False}, {'category': 'HARM_CATEGORY_DANGEROUS_CONTENT', 'probability': 'NEGLIGIBLE', 'blocked': False}, {'category': 'HARM_CATEGORY_HARASSMENT', 'probability': 'NEGLIGIBLE', 'blocked': False}, {'category': 'HARM_CATEGORY_SEXUALLY_EXPLICIT', 'probability': 'NEGLIGIBLE', 'blocked': False}], 'finish_reason': 'STOP'}, id='run-54c2d878-5efc-45c1-beba-e638b6e4a2ac', tool_calls=[{'name': 'tavily_web_search', 'args': {'query': 'Langgraph tutorial for beginners'}, 'id': '3fe99dde-cb3a-435e-bd48-735c3689e10c', 'type': 'tool_call'}], usage_metadata={'input_tokens': 4226, 'output_tokens': 12, 'total_tokens': 4238, 'input_token_details': {'cache_read': 0}}),\n",
       " HumanMessage(content='Hi, I am trying to Learn Langgraph, can you please find some reference material from the web for me to get started?', additional_kwargs={}, response_metadata={}, id='1455802d-bfcc-4e26-8d5d-0f668ba25524'),\n",
       " AIMessage(content=\"Okay, I found some helpful resources to get you started with Langgraph:\\n\\n1.  **LangGraph Quickstart**: This tutorial from the official Langchain documentation guides you through building a chatbot that uses tools and tracks conversation history. It also covers human-in-the-loop capabilities and time-travel features. You can find it here: [https://langchain-ai.github.io/langgraph/tutorials/](https://langchain-ai.github.io/langgraph/tutorials/)\\n2.  **Introduction to LangGraph: A Beginner's Guide**: This article provides a good overview of LangGraph, explaining its core concepts and how to use it to build complex applications with LLMs. Check it out here: [https://medium.com/@cplog/introduction-to-langgraph-a-beginners-guide-14f9be027141](https://medium.com/@cplog/introduction-to-langgraph-a-beginners-guide-14f9be027141)\\n3.  **Getting Started with LangGraph: A Practical Guide for Beginners**: This blog post dives into the basics of LangGraph, explaining what it is, why it's useful, and how to set it up. You can read it here: [https://toxigon.com/getting-started-with-langgraph](https://toxigon.com/getting-started-with-langgraph)\\n\\nThese resources should give you a solid foundation for learning Langgraph. Let me know if you need help with anything else!\\n\", additional_kwargs={}, response_metadata={'safety_ratings': [{'category': 'HARM_CATEGORY_HATE_SPEECH', 'probability': 'NEGLIGIBLE', 'blocked': False}, {'category': 'HARM_CATEGORY_DANGEROUS_CONTENT', 'probability': 'NEGLIGIBLE', 'blocked': False}, {'category': 'HARM_CATEGORY_HARASSMENT', 'probability': 'NEGLIGIBLE', 'blocked': False}, {'category': 'HARM_CATEGORY_SEXUALLY_EXPLICIT', 'probability': 'NEGLIGIBLE', 'blocked': False}, {'category': 'HARM_CATEGORY_HATE_SPEECH', 'probability': 'NEGLIGIBLE', 'blocked': False}, {'category': 'HARM_CATEGORY_DANGEROUS_CONTENT', 'probability': 'NEGLIGIBLE', 'blocked': False}, {'category': 'HARM_CATEGORY_HARASSMENT', 'probability': 'NEGLIGIBLE', 'blocked': False}, {'category': 'HARM_CATEGORY_SEXUALLY_EXPLICIT', 'probability': 'NEGLIGIBLE', 'blocked': False}, {'category': 'HARM_CATEGORY_HATE_SPEECH', 'probability': 'NEGLIGIBLE', 'blocked': False}, {'category': 'HARM_CATEGORY_DANGEROUS_CONTENT', 'probability': 'NEGLIGIBLE', 'blocked': False}, {'category': 'HARM_CATEGORY_HARASSMENT', 'probability': 'NEGLIGIBLE', 'blocked': False}, {'category': 'HARM_CATEGORY_SEXUALLY_EXPLICIT', 'probability': 'NEGLIGIBLE', 'blocked': False}, {'category': 'HARM_CATEGORY_HATE_SPEECH', 'probability': 'NEGLIGIBLE', 'blocked': False}, {'category': 'HARM_CATEGORY_DANGEROUS_CONTENT', 'probability': 'NEGLIGIBLE', 'blocked': False}, {'category': 'HARM_CATEGORY_HARASSMENT', 'probability': 'NEGLIGIBLE', 'blocked': False}, {'category': 'HARM_CATEGORY_SEXUALLY_EXPLICIT', 'probability': 'NEGLIGIBLE', 'blocked': False}, {'category': 'HARM_CATEGORY_HATE_SPEECH', 'probability': 'NEGLIGIBLE', 'blocked': False}, {'category': 'HARM_CATEGORY_DANGEROUS_CONTENT', 'probability': 'NEGLIGIBLE', 'blocked': False}, {'category': 'HARM_CATEGORY_HARASSMENT', 'probability': 'NEGLIGIBLE', 'blocked': False}, {'category': 'HARM_CATEGORY_SEXUALLY_EXPLICIT', 'probability': 'NEGLIGIBLE', 'blocked': False}, {'category': 'HARM_CATEGORY_HATE_SPEECH', 'probability': 'NEGLIGIBLE', 'blocked': False}, {'category': 'HARM_CATEGORY_DANGEROUS_CONTENT', 'probability': 'NEGLIGIBLE', 'blocked': False}, {'category': 'HARM_CATEGORY_HARASSMENT', 'probability': 'NEGLIGIBLE', 'blocked': False}, {'category': 'HARM_CATEGORY_SEXUALLY_EXPLICIT', 'probability': 'NEGLIGIBLE', 'blocked': False}, {'category': 'HARM_CATEGORY_HATE_SPEECH', 'probability': 'NEGLIGIBLE', 'blocked': False}, {'category': 'HARM_CATEGORY_DANGEROUS_CONTENT', 'probability': 'NEGLIGIBLE', 'blocked': False}, {'category': 'HARM_CATEGORY_HARASSMENT', 'probability': 'NEGLIGIBLE', 'blocked': False}, {'category': 'HARM_CATEGORY_SEXUALLY_EXPLICIT', 'probability': 'NEGLIGIBLE', 'blocked': False}, {'category': 'HARM_CATEGORY_HATE_SPEECH', 'probability': 'NEGLIGIBLE', 'blocked': False}, {'category': 'HARM_CATEGORY_DANGEROUS_CONTENT', 'probability': 'NEGLIGIBLE', 'blocked': False}, {'category': 'HARM_CATEGORY_HARASSMENT', 'probability': 'NEGLIGIBLE', 'blocked': False}, {'category': 'HARM_CATEGORY_SEXUALLY_EXPLICIT', 'probability': 'NEGLIGIBLE', 'blocked': False}, {'category': 'HARM_CATEGORY_HATE_SPEECH', 'probability': 'NEGLIGIBLE', 'blocked': False}, {'category': 'HARM_CATEGORY_DANGEROUS_CONTENT', 'probability': 'NEGLIGIBLE', 'blocked': False}, {'category': 'HARM_CATEGORY_HARASSMENT', 'probability': 'NEGLIGIBLE', 'blocked': False}, {'category': 'HARM_CATEGORY_SEXUALLY_EXPLICIT', 'probability': 'NEGLIGIBLE', 'blocked': False}], 'finish_reason': 'STOP'}, id='run-9e095014-cbe4-4b05-adea-b6964cd48935', usage_metadata={'input_tokens': 4637, 'output_tokens': 334, 'total_tokens': 4971, 'input_token_details': {'cache_read': 0}}),\n",
       " ToolMessage(content='[{\"url\": \"https://langchain-ai.github.io/langgraph/tutorials/\", \"content\": \"Tutorials¶. New to LangGraph or LLM app development? Read this material to get up and running building your first applications. Get Started 🚀¶. LangGraph Quickstart: Build a chatbot that can use tools and keep track of conversation history.Add human-in-the-loop capabilities and explore how time-travel works.\"}, {\"url\": \"https://medium.com/@cplog/introduction-to-langgraph-a-beginners-guide-14f9be027141\", \"content\": \"LangGraph is a versatile tool for building complex, stateful applications with LLMs. By understanding its core concepts and working through simple examples, beginners can start to leverage its\"}, {\"url\": \"https://toxigon.com/getting-started-with-langgraph\", \"content\": \"Getting Started with LangGraph: A Practical Guide for Beginners Getting Started with LangGraph: A Practical Guide for Beginners Getting Started with LangGraph: A Practical Guide for Beginners What is LangGraph? Why Use LangGraph? Setting Up LangGraph In this article, we\\'ll dive into the basics of LangGraph, understand what it is, why it\\'s useful, and how to get started with it. What is LangGraph? Why Use LangGraph? Setting Up LangGraph The first step is to set up LangGraph. @article{getting-started-with-langgraph, \\xa0\\xa0title = {Getting Started with LangGraph: A Practical Guide for Beginners}, \\xa0\\xa0author = {Toxigon}, \\xa0\\xa0year = {2024}, \\xa0\\xa0journal = {Toxigon Blog}, \\xa0\\xa0url = {https://toxigon.com/getting-started-with-langgraph} } How to Install .NET Core on Linux: A Comprehensive Guide If you’re diving into the world of progra...\"}]', name='tavily_web_search', id='a31c7560-1480-4830-b29c-ba745333f8c6', tool_call_id='a5460e23-72ef-4340-8426-6a9fbb0eba85', artifact={'query': 'Langgraph tutorial for beginners', 'follow_up_questions': None, 'answer': 'LangGraph offers tutorials for beginners to help them get started with developing applications using LangGraph. These tutorials cover topics such as building a chatbot, utilizing tools, keeping track of conversation history, adding human-in-the-loop capabilities, and exploring time-travel functionalities. Beginners can leverage LangGraph to build complex, stateful applications by understanding its core concepts and working through simple examples. Additionally, a practical guide is available for beginners to set up LangGraph, understand its usefulness, and begin working with it.', 'images': ['https://cdn.hashnode.com/res/hashnode/image/upload/v1727784426242/554ed438-b8fa-4721-b687-f7389ffbe04c.png?w=1600&h=840&fit=crop&crop=entropy&auto=compress,format&format=webp', 'https://cdn.hashnode.com/res/hashnode/image/upload/v1727695448677/0e3ce539-1997-43ef-8e3c-648893855349.jpeg?auto=compress,format&format=webp', 'https://cdn.hashnode.com/res/hashnode/image/upload/v1727691758803/9a7b226b-8372-4580-8847-ab8c5fac09d0.webp?auto=compress,format&format=webp', 'https://datasciencedojo.com/wp-content/uploads/LinkedIn-Newsletr-Infographics.png', 'https://miro.medium.com/v2/resize:fit:1200/1*pvsQBbW2fTYhvYcQIMCt3w.png'], 'results': [{'title': 'Tutorials - GitHub Pages', 'url': 'https://langchain-ai.github.io/langgraph/tutorials/', 'content': 'Tutorials¶. New to LangGraph or LLM app development? Read this material to get up and running building your first applications. Get Started 🚀¶. LangGraph Quickstart: Build a chatbot that can use tools and keep track of conversation history.Add human-in-the-loop capabilities and explore how time-travel works.', 'score': 0.8058924, 'raw_content': None}, {'title': \"Introduction to LangGraph: A Beginner's Guide - Medium\", 'url': 'https://medium.com/@cplog/introduction-to-langgraph-a-beginners-guide-14f9be027141', 'content': 'LangGraph is a versatile tool for building complex, stateful applications with LLMs. By understanding its core concepts and working through simple examples, beginners can start to leverage its', 'score': 0.8051581, 'raw_content': 'Sign up\\nSign in\\nSign up\\nSign in\\nIntroduction to LangGraph: A Beginner’s Guide\\nCPlog\\nFollow\\n--\\n2\\nListen\\nShare\\nLangGraph is a powerful tool for building stateful, multi-actor applications with Large Language Models (LLMs). It extends the LangChain library, allowing you to coordinate multiple chains (or actors) across multiple steps of computation in a cyclic manner. In this article, we’ll introduce LangGraph, walk you through its basic concepts, and share some insights and common points of confusion for beginners.\\nWhat is LangGraph?\\nLangGraph is a library built on top of LangChain, designed to add cyclic computational capabilities to your LLM applications. While LangChain allows you to define chains of computation (Directed Acyclic Graphs or DAGs), LangGraph introduces the ability to add cycles, enabling more complex, agent-like behaviors where you can call an LLM in a loop, asking it what action to take next.\\nKey Concepts\\nA Simple Example\\nLet’s walk through a simple example where we use LangGraph to classify user input as either a “greeting” or a “search” query and respond accordingly.\\nStep 1: Define the Graph State\\nFirst, we define the state structure for our graph. In this example, our state includes the user’s question, the classification of the question, and a response.\\nStep 2: Create the Graph\\nNext, we create a new instance of StateGraph with our GraphState structure.\\nStep 3: Define Nodes\\nWe define nodes for classifying the input, handling greetings, and handling search queries.\\nStep 4: Add Nodes to the Graph\\nWe add our nodes to the graph and define the flow using edges and conditional edges.\\nStep 5: Set Entry and End Points\\nWe set the entry point for our graph and define the end points.\\nStep 6: Compile and Run the Graph\\nFinally, we compile our graph and run it with some input.\\nCommon Confusions\\nConclusion\\nLangGraph is a versatile tool for building complex, stateful applications with LLMs. By understanding its core concepts and working through simple examples, beginners can start to leverage its power for their projects. Remember to pay attention to state management, conditional edges, and ensuring there are no dead-end nodes in your graph. Happy coding!\\n--\\n--\\n2\\nWritten by CPlog\\nAI enthusiast & Principal Data Scientist at LFX & Li & Fung. I innovate with LLMs, LangChain, Stable Diffusion & ComfyUI to revolutionize supply chains.\\nHelp\\nStatus\\nAbout\\nCareers\\nBlog\\nPrivacy\\nTerms\\nText to speech\\nTeams'}, {'title': 'Getting Started with LangGraph: A Practical Guide for Beginners', 'url': 'https://toxigon.com/getting-started-with-langgraph', 'content': \"Getting Started with LangGraph: A Practical Guide for Beginners Getting Started with LangGraph: A Practical Guide for Beginners Getting Started with LangGraph: A Practical Guide for Beginners What is LangGraph? Why Use LangGraph? Setting Up LangGraph In this article, we'll dive into the basics of LangGraph, understand what it is, why it's useful, and how to get started with it. What is LangGraph? Why Use LangGraph? Setting Up LangGraph The first step is to set up LangGraph. @article{getting-started-with-langgraph, \\xa0\\xa0title = {Getting Started with LangGraph: A Practical Guide for Beginners}, \\xa0\\xa0author = {Toxigon}, \\xa0\\xa0year = {2024}, \\xa0\\xa0journal = {Toxigon Blog}, \\xa0\\xa0url = {https://toxigon.com/getting-started-with-langgraph} } How to Install .NET Core on Linux: A Comprehensive Guide If you’re diving into the world of progra...\", 'score': 0.77650476, 'raw_content': \"Getting Started with LangGraph: A Practical Guide for Beginners\\n ### TOXIGON Infinite\\nSearch\\n\\nHome\\n\\nProgramming 1 day ago 1\\n\\nGetting Started with LangGraph: A Practical Guide for Beginners\\nTable of Contents\\n\\nGetting Started with LangGraph: A Practical Guide for Beginners\\nWhat is LangGraph?\\nWhy Use LangGraph?\\nSetting Up LangGraph\\n\\nLangGraph is one of those tools that you've probably heard about, but maybe you're not sure where to start. Don't worry, I'm here to help. In this article, we'll dive into the basics of LangGraph, understand what it is, why it's useful, and how to get started with it.\\nBy the end of this guide, you're going to have a solid foundation in LangGraph. You'll understand what it's all about, how to set it up, and even create your first graph. So, let's dive in!\\nWhat is LangGraph?\\nLangGraph is a powerful tool designed to help you visualize and analyze language data. It's particularly useful for linguists, data scientists, and anyone interested in understanding the structure and relationships within text data.\\nWhy Use LangGraph?\\nBefore we dive into the how, let's talk about the why. Why should you bother learning LangGraph? Well, here are a few reasons:\\n\\nVisualize Data: LangGraph allows you to create visual representations of your data, making it easier to spot patterns and relationships.\\nAnalyze Text: It's great for analyzing text data, helping you understand the structure and semantics of language.\\nFlexible: LangGraph is highly customizable, allowing you to tailor it to your specific needs.\\n\\nSounds pretty useful, right?\\nSetting Up LangGraph\\nAlright, let's get into the nitty-gritty. The first step is to set up LangGraph. Here's a quick rundown of what you'll need:\\n\\nA computer (obviously)\\nPython installed (you can download it from \\n\\nCitation\\n@article{getting-started-with-langgraph, \\xa0\\xa0title = {Getting Started with LangGraph: A Practical Guide for Beginners}, \\xa0\\xa0author = {Toxigon}, \\xa0\\xa0year = {2024}, \\xa0\\xa0journal = {Toxigon Blog}, \\xa0\\xa0url = {https://toxigon.com/getting-started-with-langgraph} }\\nRelated Articles\\n\\nDiving Deep into Test-Driven Development in Go: A Practical Guide\\nDiving Deep into Test-Driven Development in Go: A Practical Guide Welcome, fellow developers! Today,...\\n4 days ago 0\\n\\nHow to Get Started with Spring Framework: A Comprehensive Overview\\nHow to Get Started with Spring Framework: A Comprehensive Overview Welcome to our comprehensive gui...\\n2 months ago 14\\n\\nHow to Boost Performance with Parallel Processing in .NET\\nHow to Boost Performance with Parallel Processing in .NET Welcome to the world of parallel processi...\\n2 months ago 0\\n\\nHow to Install .NET Core on Linux: A Step-by-Step Guide\\nHow to Install .NET Core on Linux: A Comprehensive Guide If you’re diving into the world of progra...\\n4 months ago 21\\n© 2004 - 2024 Toxigon Infinite.\\nAll rights reserved.\"}], 'response_time': 2.91}),\n",
       " AIMessage(content='', additional_kwargs={'function_call': {'name': 'tavily_web_search', 'arguments': '{\"query\": \"Langgraph tutorial for beginners\"}'}}, response_metadata={'safety_ratings': [{'category': 'HARM_CATEGORY_HATE_SPEECH', 'probability': 'NEGLIGIBLE', 'blocked': False}, {'category': 'HARM_CATEGORY_DANGEROUS_CONTENT', 'probability': 'NEGLIGIBLE', 'blocked': False}, {'category': 'HARM_CATEGORY_HARASSMENT', 'probability': 'NEGLIGIBLE', 'blocked': False}, {'category': 'HARM_CATEGORY_SEXUALLY_EXPLICIT', 'probability': 'NEGLIGIBLE', 'blocked': False}], 'finish_reason': 'STOP'}, id='run-14762d44-7e9b-468c-9c60-9155e1da4c9c', tool_calls=[{'name': 'tavily_web_search', 'args': {'query': 'Langgraph tutorial for beginners'}, 'id': 'a5460e23-72ef-4340-8426-6a9fbb0eba85', 'type': 'tool_call'}], usage_metadata={'input_tokens': 4195, 'output_tokens': 12, 'total_tokens': 4207, 'input_token_details': {'cache_read': 0}}),\n",
       " HumanMessage(content='Hi, I am trying to Learn Langgraph, can you please find some reference material from the web for me to get started?', additional_kwargs={}, response_metadata={}, id='474eff28-ceb6-416c-8e2a-2eca2563c25d')]"
      ]
     },
     "metadata": {},
     "output_type": "display_data"
    },
    {
     "data": {
      "text/plain": [
       "None"
      ]
     },
     "metadata": {},
     "output_type": "display_data"
    },
    {
     "data": {
      "text/plain": [
       "[ToolMessage(content='[{\"url\": \"https://langchain-ai.github.io/langgraph/tutorials/\", \"content\": \"Tutorials¶. New to LangGraph or LLM app development? Read this material to get up and running building your first applications. Get Started 🚀¶. LangGraph Quickstart: Build a chatbot that can use tools and keep track of conversation history.Add human-in-the-loop capabilities and explore how time-travel works.\"}, {\"url\": \"https://medium.com/@cplog/introduction-to-langgraph-a-beginners-guide-14f9be027141\", \"content\": \"LangGraph is a versatile tool for building complex, stateful applications with LLMs. By understanding its core concepts and working through simple examples, beginners can start to leverage its\"}, {\"url\": \"https://toxigon.com/getting-started-with-langgraph\", \"content\": \"Getting Started with LangGraph: A Practical Guide for Beginners Getting Started with LangGraph: A Practical Guide for Beginners Getting Started with LangGraph: A Practical Guide for Beginners What is LangGraph? Why Use LangGraph? Setting Up LangGraph In this article, we\\'ll dive into the basics of LangGraph, understand what it is, why it\\'s useful, and how to get started with it. What is LangGraph? Why Use LangGraph? Setting Up LangGraph The first step is to set up LangGraph. @article{getting-started-with-langgraph, \\xa0\\xa0title = {Getting Started with LangGraph: A Practical Guide for Beginners}, \\xa0\\xa0author = {Toxigon}, \\xa0\\xa0year = {2024}, \\xa0\\xa0journal = {Toxigon Blog}, \\xa0\\xa0url = {https://toxigon.com/getting-started-with-langgraph} } How to Install .NET Core on Linux: A Comprehensive Guide If you’re diving into the world of progra...\"}]', name='tavily_web_search', id='96c64cff-8beb-47f7-a9dd-999a717acb8b', tool_call_id='3fe99dde-cb3a-435e-bd48-735c3689e10c', artifact={'query': 'Langgraph tutorial for beginners', 'follow_up_questions': None, 'answer': 'LangGraph offers tutorials for beginners to help them get started with building applications using LangGraph and LLM technology. Beginners can learn to create chatbots, incorporate human-in-the-loop capabilities, and understand how time-travel functions within LangGraph. Additionally, beginners can leverage LangGraph to build complex, stateful applications by grasping its core concepts and working through simple examples. The tool provides a practical guide for beginners to understand its basics, utility, and setup process.', 'images': ['https://cdn.hashnode.com/res/hashnode/image/upload/v1727784426242/554ed438-b8fa-4721-b687-f7389ffbe04c.png?w=1600&h=840&fit=crop&crop=entropy&auto=compress,format&format=webp', 'https://cdn.hashnode.com/res/hashnode/image/upload/v1727695448677/0e3ce539-1997-43ef-8e3c-648893855349.jpeg?auto=compress,format&format=webp', 'https://cdn.hashnode.com/res/hashnode/image/upload/v1727691758803/9a7b226b-8372-4580-8847-ab8c5fac09d0.webp?auto=compress,format&format=webp', 'https://datasciencedojo.com/wp-content/uploads/LinkedIn-Newsletr-Infographics.png', 'https://miro.medium.com/v2/resize:fit:1200/1*pvsQBbW2fTYhvYcQIMCt3w.png'], 'results': [{'title': 'Tutorials - GitHub Pages', 'url': 'https://langchain-ai.github.io/langgraph/tutorials/', 'content': 'Tutorials¶. New to LangGraph or LLM app development? Read this material to get up and running building your first applications. Get Started 🚀¶. LangGraph Quickstart: Build a chatbot that can use tools and keep track of conversation history.Add human-in-the-loop capabilities and explore how time-travel works.', 'score': 0.8058924, 'raw_content': None}, {'title': \"Introduction to LangGraph: A Beginner's Guide - Medium\", 'url': 'https://medium.com/@cplog/introduction-to-langgraph-a-beginners-guide-14f9be027141', 'content': 'LangGraph is a versatile tool for building complex, stateful applications with LLMs. By understanding its core concepts and working through simple examples, beginners can start to leverage its', 'score': 0.8051581, 'raw_content': 'Sign up\\nSign in\\nSign up\\nSign in\\nIntroduction to LangGraph: A Beginner’s Guide\\nCPlog\\nFollow\\n--\\n2\\nListen\\nShare\\nLangGraph is a powerful tool for building stateful, multi-actor applications with Large Language Models (LLMs). It extends the LangChain library, allowing you to coordinate multiple chains (or actors) across multiple steps of computation in a cyclic manner. In this article, we’ll introduce LangGraph, walk you through its basic concepts, and share some insights and common points of confusion for beginners.\\nWhat is LangGraph?\\nLangGraph is a library built on top of LangChain, designed to add cyclic computational capabilities to your LLM applications. While LangChain allows you to define chains of computation (Directed Acyclic Graphs or DAGs), LangGraph introduces the ability to add cycles, enabling more complex, agent-like behaviors where you can call an LLM in a loop, asking it what action to take next.\\nKey Concepts\\nA Simple Example\\nLet’s walk through a simple example where we use LangGraph to classify user input as either a “greeting” or a “search” query and respond accordingly.\\nStep 1: Define the Graph State\\nFirst, we define the state structure for our graph. In this example, our state includes the user’s question, the classification of the question, and a response.\\nStep 2: Create the Graph\\nNext, we create a new instance of StateGraph with our GraphState structure.\\nStep 3: Define Nodes\\nWe define nodes for classifying the input, handling greetings, and handling search queries.\\nStep 4: Add Nodes to the Graph\\nWe add our nodes to the graph and define the flow using edges and conditional edges.\\nStep 5: Set Entry and End Points\\nWe set the entry point for our graph and define the end points.\\nStep 6: Compile and Run the Graph\\nFinally, we compile our graph and run it with some input.\\nCommon Confusions\\nConclusion\\nLangGraph is a versatile tool for building complex, stateful applications with LLMs. By understanding its core concepts and working through simple examples, beginners can start to leverage its power for their projects. Remember to pay attention to state management, conditional edges, and ensuring there are no dead-end nodes in your graph. Happy coding!\\n--\\n--\\n2\\nWritten by CPlog\\nAI enthusiast & Principal Data Scientist at LFX & Li & Fung. I innovate with LLMs, LangChain, Stable Diffusion & ComfyUI to revolutionize supply chains.\\nHelp\\nStatus\\nAbout\\nCareers\\nBlog\\nPrivacy\\nTerms\\nText to speech\\nTeams'}, {'title': 'Getting Started with LangGraph: A Practical Guide for Beginners', 'url': 'https://toxigon.com/getting-started-with-langgraph', 'content': \"Getting Started with LangGraph: A Practical Guide for Beginners Getting Started with LangGraph: A Practical Guide for Beginners Getting Started with LangGraph: A Practical Guide for Beginners What is LangGraph? Why Use LangGraph? Setting Up LangGraph In this article, we'll dive into the basics of LangGraph, understand what it is, why it's useful, and how to get started with it. What is LangGraph? Why Use LangGraph? Setting Up LangGraph The first step is to set up LangGraph. @article{getting-started-with-langgraph, \\xa0\\xa0title = {Getting Started with LangGraph: A Practical Guide for Beginners}, \\xa0\\xa0author = {Toxigon}, \\xa0\\xa0year = {2024}, \\xa0\\xa0journal = {Toxigon Blog}, \\xa0\\xa0url = {https://toxigon.com/getting-started-with-langgraph} } How to Install .NET Core on Linux: A Comprehensive Guide If you’re diving into the world of progra...\", 'score': 0.77650476, 'raw_content': \"Getting Started with LangGraph: A Practical Guide for Beginners\\n ### TOXIGON Infinite\\nSearch\\n\\nHome\\n\\nProgramming 1 day ago 1\\n\\nGetting Started with LangGraph: A Practical Guide for Beginners\\nTable of Contents\\n\\nGetting Started with LangGraph: A Practical Guide for Beginners\\nWhat is LangGraph?\\nWhy Use LangGraph?\\nSetting Up LangGraph\\n\\nLangGraph is one of those tools that you've probably heard about, but maybe you're not sure where to start. Don't worry, I'm here to help. In this article, we'll dive into the basics of LangGraph, understand what it is, why it's useful, and how to get started with it.\\nBy the end of this guide, you're going to have a solid foundation in LangGraph. You'll understand what it's all about, how to set it up, and even create your first graph. So, let's dive in!\\nWhat is LangGraph?\\nLangGraph is a powerful tool designed to help you visualize and analyze language data. It's particularly useful for linguists, data scientists, and anyone interested in understanding the structure and relationships within text data.\\nWhy Use LangGraph?\\nBefore we dive into the how, let's talk about the why. Why should you bother learning LangGraph? Well, here are a few reasons:\\n\\nVisualize Data: LangGraph allows you to create visual representations of your data, making it easier to spot patterns and relationships.\\nAnalyze Text: It's great for analyzing text data, helping you understand the structure and semantics of language.\\nFlexible: LangGraph is highly customizable, allowing you to tailor it to your specific needs.\\n\\nSounds pretty useful, right?\\nSetting Up LangGraph\\nAlright, let's get into the nitty-gritty. The first step is to set up LangGraph. Here's a quick rundown of what you'll need:\\n\\nA computer (obviously)\\nPython installed (you can download it from \\n\\nCitation\\n@article{getting-started-with-langgraph, \\xa0\\xa0title = {Getting Started with LangGraph: A Practical Guide for Beginners}, \\xa0\\xa0author = {Toxigon}, \\xa0\\xa0year = {2024}, \\xa0\\xa0journal = {Toxigon Blog}, \\xa0\\xa0url = {https://toxigon.com/getting-started-with-langgraph} }\\nRelated Articles\\n\\nDiving Deep into Test-Driven Development in Go: A Practical Guide\\nDiving Deep into Test-Driven Development in Go: A Practical Guide Welcome, fellow developers! Today,...\\n4 days ago 0\\n\\nHow to Get Started with Spring Framework: A Comprehensive Overview\\nHow to Get Started with Spring Framework: A Comprehensive Overview Welcome to our comprehensive gui...\\n2 months ago 14\\n\\nHow to Boost Performance with Parallel Processing in .NET\\nHow to Boost Performance with Parallel Processing in .NET Welcome to the world of parallel processi...\\n2 months ago 0\\n\\nHow to Install .NET Core on Linux: A Step-by-Step Guide\\nHow to Install .NET Core on Linux: A Comprehensive Guide If you’re diving into the world of progra...\\n4 months ago 21\\n© 2004 - 2024 Toxigon Infinite.\\nAll rights reserved.\"}], 'response_time': 2.96})]"
      ]
     },
     "metadata": {},
     "output_type": "display_data"
    },
    {
     "ename": "ChatGoogleGenerativeAIError",
     "evalue": "Invalid argument provided to Gemini: 400 Unable to submit request because it must have a text parameter. Add a text parameter and try again. Learn more: https://cloud.google.com/vertex-ai/generative-ai/docs/model-reference/gemini",
     "output_type": "error",
     "traceback": [
      "\u001b[1;31m---------------------------------------------------------------------------\u001b[0m",
      "\u001b[1;31mInvalidArgument\u001b[0m                           Traceback (most recent call last)",
      "File \u001b[1;32mc:\\Users\\moosa\\anaconda3\\Lib\\site-packages\\langchain_google_genai\\chat_models.py:178\u001b[0m, in \u001b[0;36m_chat_with_retry.<locals>._chat_with_retry\u001b[1;34m(**kwargs)\u001b[0m\n\u001b[0;32m    177\u001b[0m \u001b[38;5;28;01mtry\u001b[39;00m:\n\u001b[1;32m--> 178\u001b[0m     \u001b[38;5;28;01mreturn\u001b[39;00m generation_method(\u001b[38;5;241m*\u001b[39m\u001b[38;5;241m*\u001b[39mkwargs)\n\u001b[0;32m    179\u001b[0m \u001b[38;5;66;03m# Do not retry for these errors.\u001b[39;00m\n",
      "File \u001b[1;32mc:\\Users\\moosa\\anaconda3\\Lib\\site-packages\\google\\ai\\generativelanguage_v1beta\\services\\generative_service\\client.py:1134\u001b[0m, in \u001b[0;36mGenerativeServiceClient.stream_generate_content\u001b[1;34m(self, request, model, contents, retry, timeout, metadata)\u001b[0m\n\u001b[0;32m   1133\u001b[0m \u001b[38;5;66;03m# Send the request.\u001b[39;00m\n\u001b[1;32m-> 1134\u001b[0m response \u001b[38;5;241m=\u001b[39m rpc(\n\u001b[0;32m   1135\u001b[0m     request,\n\u001b[0;32m   1136\u001b[0m     retry\u001b[38;5;241m=\u001b[39mretry,\n\u001b[0;32m   1137\u001b[0m     timeout\u001b[38;5;241m=\u001b[39mtimeout,\n\u001b[0;32m   1138\u001b[0m     metadata\u001b[38;5;241m=\u001b[39mmetadata,\n\u001b[0;32m   1139\u001b[0m )\n\u001b[0;32m   1141\u001b[0m \u001b[38;5;66;03m# Done; return the response.\u001b[39;00m\n",
      "File \u001b[1;32mc:\\Users\\moosa\\anaconda3\\Lib\\site-packages\\google\\api_core\\gapic_v1\\method.py:131\u001b[0m, in \u001b[0;36m_GapicCallable.__call__\u001b[1;34m(self, timeout, retry, compression, *args, **kwargs)\u001b[0m\n\u001b[0;32m    129\u001b[0m     kwargs[\u001b[38;5;124m\"\u001b[39m\u001b[38;5;124mcompression\u001b[39m\u001b[38;5;124m\"\u001b[39m] \u001b[38;5;241m=\u001b[39m compression\n\u001b[1;32m--> 131\u001b[0m \u001b[38;5;28;01mreturn\u001b[39;00m wrapped_func(\u001b[38;5;241m*\u001b[39margs, \u001b[38;5;241m*\u001b[39m\u001b[38;5;241m*\u001b[39mkwargs)\n",
      "File \u001b[1;32mc:\\Users\\moosa\\anaconda3\\Lib\\site-packages\\google\\api_core\\retry\\retry_unary.py:293\u001b[0m, in \u001b[0;36mRetry.__call__.<locals>.retry_wrapped_func\u001b[1;34m(*args, **kwargs)\u001b[0m\n\u001b[0;32m    290\u001b[0m sleep_generator \u001b[38;5;241m=\u001b[39m exponential_sleep_generator(\n\u001b[0;32m    291\u001b[0m     \u001b[38;5;28mself\u001b[39m\u001b[38;5;241m.\u001b[39m_initial, \u001b[38;5;28mself\u001b[39m\u001b[38;5;241m.\u001b[39m_maximum, multiplier\u001b[38;5;241m=\u001b[39m\u001b[38;5;28mself\u001b[39m\u001b[38;5;241m.\u001b[39m_multiplier\n\u001b[0;32m    292\u001b[0m )\n\u001b[1;32m--> 293\u001b[0m \u001b[38;5;28;01mreturn\u001b[39;00m retry_target(\n\u001b[0;32m    294\u001b[0m     target,\n\u001b[0;32m    295\u001b[0m     \u001b[38;5;28mself\u001b[39m\u001b[38;5;241m.\u001b[39m_predicate,\n\u001b[0;32m    296\u001b[0m     sleep_generator,\n\u001b[0;32m    297\u001b[0m     timeout\u001b[38;5;241m=\u001b[39m\u001b[38;5;28mself\u001b[39m\u001b[38;5;241m.\u001b[39m_timeout,\n\u001b[0;32m    298\u001b[0m     on_error\u001b[38;5;241m=\u001b[39mon_error,\n\u001b[0;32m    299\u001b[0m )\n",
      "File \u001b[1;32mc:\\Users\\moosa\\anaconda3\\Lib\\site-packages\\google\\api_core\\retry\\retry_unary.py:153\u001b[0m, in \u001b[0;36mretry_target\u001b[1;34m(target, predicate, sleep_generator, timeout, on_error, exception_factory, **kwargs)\u001b[0m\n\u001b[0;32m    151\u001b[0m \u001b[38;5;28;01mexcept\u001b[39;00m \u001b[38;5;167;01mException\u001b[39;00m \u001b[38;5;28;01mas\u001b[39;00m exc:\n\u001b[0;32m    152\u001b[0m     \u001b[38;5;66;03m# defer to shared logic for handling errors\u001b[39;00m\n\u001b[1;32m--> 153\u001b[0m     _retry_error_helper(\n\u001b[0;32m    154\u001b[0m         exc,\n\u001b[0;32m    155\u001b[0m         deadline,\n\u001b[0;32m    156\u001b[0m         sleep,\n\u001b[0;32m    157\u001b[0m         error_list,\n\u001b[0;32m    158\u001b[0m         predicate,\n\u001b[0;32m    159\u001b[0m         on_error,\n\u001b[0;32m    160\u001b[0m         exception_factory,\n\u001b[0;32m    161\u001b[0m         timeout,\n\u001b[0;32m    162\u001b[0m     )\n\u001b[0;32m    163\u001b[0m     \u001b[38;5;66;03m# if exception not raised, sleep before next attempt\u001b[39;00m\n",
      "File \u001b[1;32mc:\\Users\\moosa\\anaconda3\\Lib\\site-packages\\google\\api_core\\retry\\retry_base.py:212\u001b[0m, in \u001b[0;36m_retry_error_helper\u001b[1;34m(exc, deadline, next_sleep, error_list, predicate_fn, on_error_fn, exc_factory_fn, original_timeout)\u001b[0m\n\u001b[0;32m    207\u001b[0m     final_exc, source_exc \u001b[38;5;241m=\u001b[39m exc_factory_fn(\n\u001b[0;32m    208\u001b[0m         error_list,\n\u001b[0;32m    209\u001b[0m         RetryFailureReason\u001b[38;5;241m.\u001b[39mNON_RETRYABLE_ERROR,\n\u001b[0;32m    210\u001b[0m         original_timeout,\n\u001b[0;32m    211\u001b[0m     )\n\u001b[1;32m--> 212\u001b[0m     \u001b[38;5;28;01mraise\u001b[39;00m final_exc \u001b[38;5;28;01mfrom\u001b[39;00m \u001b[38;5;21;01msource_exc\u001b[39;00m\n\u001b[0;32m    213\u001b[0m \u001b[38;5;28;01mif\u001b[39;00m on_error_fn \u001b[38;5;129;01mis\u001b[39;00m \u001b[38;5;129;01mnot\u001b[39;00m \u001b[38;5;28;01mNone\u001b[39;00m:\n",
      "File \u001b[1;32mc:\\Users\\moosa\\anaconda3\\Lib\\site-packages\\google\\api_core\\retry\\retry_unary.py:144\u001b[0m, in \u001b[0;36mretry_target\u001b[1;34m(target, predicate, sleep_generator, timeout, on_error, exception_factory, **kwargs)\u001b[0m\n\u001b[0;32m    143\u001b[0m \u001b[38;5;28;01mtry\u001b[39;00m:\n\u001b[1;32m--> 144\u001b[0m     result \u001b[38;5;241m=\u001b[39m target()\n\u001b[0;32m    145\u001b[0m     \u001b[38;5;28;01mif\u001b[39;00m inspect\u001b[38;5;241m.\u001b[39misawaitable(result):\n",
      "File \u001b[1;32mc:\\Users\\moosa\\anaconda3\\Lib\\site-packages\\google\\api_core\\timeout.py:120\u001b[0m, in \u001b[0;36mTimeToDeadlineTimeout.__call__.<locals>.func_with_timeout\u001b[1;34m(*args, **kwargs)\u001b[0m\n\u001b[0;32m    118\u001b[0m     kwargs[\u001b[38;5;124m\"\u001b[39m\u001b[38;5;124mtimeout\u001b[39m\u001b[38;5;124m\"\u001b[39m] \u001b[38;5;241m=\u001b[39m \u001b[38;5;28mmax\u001b[39m(\u001b[38;5;241m0\u001b[39m, \u001b[38;5;28mself\u001b[39m\u001b[38;5;241m.\u001b[39m_timeout \u001b[38;5;241m-\u001b[39m time_since_first_attempt)\n\u001b[1;32m--> 120\u001b[0m \u001b[38;5;28;01mreturn\u001b[39;00m func(\u001b[38;5;241m*\u001b[39margs, \u001b[38;5;241m*\u001b[39m\u001b[38;5;241m*\u001b[39mkwargs)\n",
      "File \u001b[1;32mc:\\Users\\moosa\\anaconda3\\Lib\\site-packages\\google\\api_core\\grpc_helpers.py:174\u001b[0m, in \u001b[0;36m_wrap_stream_errors.<locals>.error_remapped_callable\u001b[1;34m(*args, **kwargs)\u001b[0m\n\u001b[0;32m    173\u001b[0m \u001b[38;5;28;01mexcept\u001b[39;00m grpc\u001b[38;5;241m.\u001b[39mRpcError \u001b[38;5;28;01mas\u001b[39;00m exc:\n\u001b[1;32m--> 174\u001b[0m     \u001b[38;5;28;01mraise\u001b[39;00m exceptions\u001b[38;5;241m.\u001b[39mfrom_grpc_error(exc) \u001b[38;5;28;01mfrom\u001b[39;00m \u001b[38;5;21;01mexc\u001b[39;00m\n",
      "\u001b[1;31mInvalidArgument\u001b[0m: 400 Unable to submit request because it must have a text parameter. Add a text parameter and try again. Learn more: https://cloud.google.com/vertex-ai/generative-ai/docs/model-reference/gemini",
      "\nThe above exception was the direct cause of the following exception:\n",
      "\u001b[1;31mChatGoogleGenerativeAIError\u001b[0m               Traceback (most recent call last)",
      "Cell \u001b[1;32mIn[970], line 1\u001b[0m\n\u001b[1;32m----> 1\u001b[0m stream_agent(\n\u001b[0;32m      2\u001b[0m     agent\u001b[38;5;241m=\u001b[39magent,\n\u001b[0;32m      3\u001b[0m     config\u001b[38;5;241m=\u001b[39mconfig,\n\u001b[0;32m      4\u001b[0m     input_value\u001b[38;5;241m=\u001b[39m{\n\u001b[0;32m      5\u001b[0m         \u001b[38;5;124m\"\u001b[39m\u001b[38;5;124mquery\u001b[39m\u001b[38;5;124m\"\u001b[39m: \u001b[38;5;124m\"\u001b[39m\u001b[38;5;124mHi, I am trying to Learn Langgraph, can you please find some reference material from the web for me to get started?\u001b[39m\u001b[38;5;124m\"\u001b[39m\n\u001b[0;32m      6\u001b[0m     },\n\u001b[0;32m      7\u001b[0m )\n",
      "Cell \u001b[1;32mIn[431], line 45\u001b[0m, in \u001b[0;36mstream_agent\u001b[1;34m(agent, input_value, config, debug)\u001b[0m\n\u001b[0;32m     19\u001b[0m \u001b[38;5;250m\u001b[39m\u001b[38;5;124;03m\"\"\"\u001b[39;00m\n\u001b[0;32m     20\u001b[0m \u001b[38;5;124;03mA function to interact with an agent in a streaming manner, handling updates and messages\u001b[39;00m\n\u001b[0;32m     21\u001b[0m \u001b[38;5;124;03mduring the stream. The function facilitates communication with the agent by providing\u001b[39;00m\n\u001b[1;32m   (...)\u001b[0m\n\u001b[0;32m     42\u001b[0m \u001b[38;5;124;03m          It doesn't return a value but may perform side effects such as displaying output.\u001b[39;00m\n\u001b[0;32m     43\u001b[0m \u001b[38;5;124;03m\"\"\"\u001b[39;00m\n\u001b[0;32m     44\u001b[0m message \u001b[38;5;241m=\u001b[39m \u001b[38;5;124m\"\u001b[39m\u001b[38;5;124m\"\u001b[39m\n\u001b[1;32m---> 45\u001b[0m \u001b[38;5;28;01mfor\u001b[39;00m stream_mode, data \u001b[38;5;129;01min\u001b[39;00m agent\u001b[38;5;241m.\u001b[39mstream(\n\u001b[0;32m     46\u001b[0m     \u001b[38;5;28minput\u001b[39m\u001b[38;5;241m=\u001b[39minput_value,\n\u001b[0;32m     47\u001b[0m     config\u001b[38;5;241m=\u001b[39mconfig,\n\u001b[0;32m     48\u001b[0m     stream_mode\u001b[38;5;241m=\u001b[39m[\u001b[38;5;124m\"\u001b[39m\u001b[38;5;124mupdates\u001b[39m\u001b[38;5;124m\"\u001b[39m, \u001b[38;5;124m\"\u001b[39m\u001b[38;5;124mmessages\u001b[39m\u001b[38;5;124m\"\u001b[39m],\n\u001b[0;32m     49\u001b[0m     debug\u001b[38;5;241m=\u001b[39mdebug,\n\u001b[0;32m     50\u001b[0m ):\n\u001b[0;32m     51\u001b[0m     interrupt \u001b[38;5;241m=\u001b[39m (\n\u001b[0;32m     52\u001b[0m         data\u001b[38;5;241m.\u001b[39mget(\u001b[38;5;124m\"\u001b[39m\u001b[38;5;124m__interrupt__\u001b[39m\u001b[38;5;124m\"\u001b[39m, \u001b[38;5;28;01mNone\u001b[39;00m)\n\u001b[0;32m     53\u001b[0m         \u001b[38;5;28;01mif\u001b[39;00m \u001b[38;5;28misinstance\u001b[39m(data, \u001b[38;5;28mdict\u001b[39m) \u001b[38;5;129;01mand\u001b[39;00m stream_mode \u001b[38;5;241m==\u001b[39m \u001b[38;5;124m\"\u001b[39m\u001b[38;5;124mupdates\u001b[39m\u001b[38;5;124m\"\u001b[39m\n\u001b[0;32m     54\u001b[0m         \u001b[38;5;28;01melse\u001b[39;00m \u001b[38;5;28;01mNone\u001b[39;00m\n\u001b[0;32m     55\u001b[0m     )\n\u001b[0;32m     57\u001b[0m     \u001b[38;5;28;01mif\u001b[39;00m stream_mode \u001b[38;5;241m==\u001b[39m \u001b[38;5;124m\"\u001b[39m\u001b[38;5;124mupdates\u001b[39m\u001b[38;5;124m\"\u001b[39m \u001b[38;5;129;01mand\u001b[39;00m interrupt \u001b[38;5;129;01mand\u001b[39;00m \u001b[38;5;28mlen\u001b[39m(interrupt) \u001b[38;5;241m>\u001b[39m \u001b[38;5;241m0\u001b[39m:\n",
      "File \u001b[1;32mc:\\Users\\moosa\\anaconda3\\Lib\\site-packages\\langgraph\\pregel\\__init__.py:1656\u001b[0m, in \u001b[0;36mPregel.stream\u001b[1;34m(self, input, config, stream_mode, output_keys, interrupt_before, interrupt_after, debug, subgraphs)\u001b[0m\n\u001b[0;32m   1650\u001b[0m     \u001b[38;5;66;03m# Similarly to Bulk Synchronous Parallel / Pregel model\u001b[39;00m\n\u001b[0;32m   1651\u001b[0m     \u001b[38;5;66;03m# computation proceeds in steps, while there are channel updates\u001b[39;00m\n\u001b[0;32m   1652\u001b[0m     \u001b[38;5;66;03m# channel updates from step N are only visible in step N+1\u001b[39;00m\n\u001b[0;32m   1653\u001b[0m     \u001b[38;5;66;03m# channels are guaranteed to be immutable for the duration of the step,\u001b[39;00m\n\u001b[0;32m   1654\u001b[0m     \u001b[38;5;66;03m# with channel updates applied only at the transition between steps\u001b[39;00m\n\u001b[0;32m   1655\u001b[0m     \u001b[38;5;28;01mwhile\u001b[39;00m loop\u001b[38;5;241m.\u001b[39mtick(input_keys\u001b[38;5;241m=\u001b[39m\u001b[38;5;28mself\u001b[39m\u001b[38;5;241m.\u001b[39minput_channels):\n\u001b[1;32m-> 1656\u001b[0m         \u001b[38;5;28;01mfor\u001b[39;00m _ \u001b[38;5;129;01min\u001b[39;00m runner\u001b[38;5;241m.\u001b[39mtick(\n\u001b[0;32m   1657\u001b[0m             loop\u001b[38;5;241m.\u001b[39mtasks\u001b[38;5;241m.\u001b[39mvalues(),\n\u001b[0;32m   1658\u001b[0m             timeout\u001b[38;5;241m=\u001b[39m\u001b[38;5;28mself\u001b[39m\u001b[38;5;241m.\u001b[39mstep_timeout,\n\u001b[0;32m   1659\u001b[0m             retry_policy\u001b[38;5;241m=\u001b[39m\u001b[38;5;28mself\u001b[39m\u001b[38;5;241m.\u001b[39mretry_policy,\n\u001b[0;32m   1660\u001b[0m             get_waiter\u001b[38;5;241m=\u001b[39mget_waiter,\n\u001b[0;32m   1661\u001b[0m         ):\n\u001b[0;32m   1662\u001b[0m             \u001b[38;5;66;03m# emit output\u001b[39;00m\n\u001b[0;32m   1663\u001b[0m             \u001b[38;5;28;01myield from\u001b[39;00m output()\n\u001b[0;32m   1664\u001b[0m \u001b[38;5;66;03m# emit output\u001b[39;00m\n",
      "File \u001b[1;32mc:\\Users\\moosa\\anaconda3\\Lib\\site-packages\\langgraph\\pregel\\runner.py:239\u001b[0m, in \u001b[0;36mPregelRunner.tick\u001b[1;34m(self, tasks, reraise, timeout, retry_policy, get_waiter)\u001b[0m\n\u001b[0;32m    237\u001b[0m time\u001b[38;5;241m.\u001b[39msleep(\u001b[38;5;241m0\u001b[39m)\n\u001b[0;32m    238\u001b[0m \u001b[38;5;66;03m# panic on failure or timeout\u001b[39;00m\n\u001b[1;32m--> 239\u001b[0m _panic_or_proceed(\n\u001b[0;32m    240\u001b[0m     done_futures\u001b[38;5;241m.\u001b[39munion(f \u001b[38;5;28;01mfor\u001b[39;00m f, t \u001b[38;5;129;01min\u001b[39;00m futures\u001b[38;5;241m.\u001b[39mitems() \u001b[38;5;28;01mif\u001b[39;00m t \u001b[38;5;129;01mis\u001b[39;00m \u001b[38;5;129;01mnot\u001b[39;00m \u001b[38;5;28;01mNone\u001b[39;00m),\n\u001b[0;32m    241\u001b[0m     panic\u001b[38;5;241m=\u001b[39mreraise,\n\u001b[0;32m    242\u001b[0m )\n",
      "File \u001b[1;32mc:\\Users\\moosa\\anaconda3\\Lib\\site-packages\\langgraph\\pregel\\runner.py:539\u001b[0m, in \u001b[0;36m_panic_or_proceed\u001b[1;34m(futs, timeout_exc_cls, panic)\u001b[0m\n\u001b[0;32m    537\u001b[0m         \u001b[38;5;66;03m# raise the exception\u001b[39;00m\n\u001b[0;32m    538\u001b[0m         \u001b[38;5;28;01mif\u001b[39;00m panic:\n\u001b[1;32m--> 539\u001b[0m             \u001b[38;5;28;01mraise\u001b[39;00m exc\n\u001b[0;32m    540\u001b[0m \u001b[38;5;28;01mif\u001b[39;00m inflight:\n\u001b[0;32m    541\u001b[0m     \u001b[38;5;66;03m# if we got here means we timed out\u001b[39;00m\n\u001b[0;32m    542\u001b[0m     \u001b[38;5;28;01mwhile\u001b[39;00m inflight:\n\u001b[0;32m    543\u001b[0m         \u001b[38;5;66;03m# cancel all pending tasks\u001b[39;00m\n",
      "File \u001b[1;32mc:\\Users\\moosa\\anaconda3\\Lib\\site-packages\\langgraph\\pregel\\executor.py:76\u001b[0m, in \u001b[0;36mBackgroundExecutor.done\u001b[1;34m(self, task)\u001b[0m\n\u001b[0;32m     74\u001b[0m \u001b[38;5;28;01mdef\u001b[39;00m \u001b[38;5;21mdone\u001b[39m(\u001b[38;5;28mself\u001b[39m, task: concurrent\u001b[38;5;241m.\u001b[39mfutures\u001b[38;5;241m.\u001b[39mFuture) \u001b[38;5;241m-\u001b[39m\u001b[38;5;241m>\u001b[39m \u001b[38;5;28;01mNone\u001b[39;00m:\n\u001b[0;32m     75\u001b[0m     \u001b[38;5;28;01mtry\u001b[39;00m:\n\u001b[1;32m---> 76\u001b[0m         task\u001b[38;5;241m.\u001b[39mresult()\n\u001b[0;32m     77\u001b[0m     \u001b[38;5;28;01mexcept\u001b[39;00m GraphBubbleUp:\n\u001b[0;32m     78\u001b[0m         \u001b[38;5;66;03m# This exception is an interruption signal, not an error\u001b[39;00m\n\u001b[0;32m     79\u001b[0m         \u001b[38;5;66;03m# so we don't want to re-raise it on exit\u001b[39;00m\n\u001b[0;32m     80\u001b[0m         \u001b[38;5;28mself\u001b[39m\u001b[38;5;241m.\u001b[39mtasks\u001b[38;5;241m.\u001b[39mpop(task)\n",
      "File \u001b[1;32mc:\\Users\\moosa\\anaconda3\\Lib\\concurrent\\futures\\_base.py:449\u001b[0m, in \u001b[0;36mFuture.result\u001b[1;34m(self, timeout)\u001b[0m\n\u001b[0;32m    447\u001b[0m     \u001b[38;5;28;01mraise\u001b[39;00m CancelledError()\n\u001b[0;32m    448\u001b[0m \u001b[38;5;28;01melif\u001b[39;00m \u001b[38;5;28mself\u001b[39m\u001b[38;5;241m.\u001b[39m_state \u001b[38;5;241m==\u001b[39m FINISHED:\n\u001b[1;32m--> 449\u001b[0m     \u001b[38;5;28;01mreturn\u001b[39;00m \u001b[38;5;28mself\u001b[39m\u001b[38;5;241m.\u001b[39m__get_result()\n\u001b[0;32m    451\u001b[0m \u001b[38;5;28mself\u001b[39m\u001b[38;5;241m.\u001b[39m_condition\u001b[38;5;241m.\u001b[39mwait(timeout)\n\u001b[0;32m    453\u001b[0m \u001b[38;5;28;01mif\u001b[39;00m \u001b[38;5;28mself\u001b[39m\u001b[38;5;241m.\u001b[39m_state \u001b[38;5;129;01min\u001b[39;00m [CANCELLED, CANCELLED_AND_NOTIFIED]:\n",
      "File \u001b[1;32mc:\\Users\\moosa\\anaconda3\\Lib\\concurrent\\futures\\_base.py:401\u001b[0m, in \u001b[0;36mFuture.__get_result\u001b[1;34m(self)\u001b[0m\n\u001b[0;32m    399\u001b[0m \u001b[38;5;28;01mif\u001b[39;00m \u001b[38;5;28mself\u001b[39m\u001b[38;5;241m.\u001b[39m_exception:\n\u001b[0;32m    400\u001b[0m     \u001b[38;5;28;01mtry\u001b[39;00m:\n\u001b[1;32m--> 401\u001b[0m         \u001b[38;5;28;01mraise\u001b[39;00m \u001b[38;5;28mself\u001b[39m\u001b[38;5;241m.\u001b[39m_exception\n\u001b[0;32m    402\u001b[0m     \u001b[38;5;28;01mfinally\u001b[39;00m:\n\u001b[0;32m    403\u001b[0m         \u001b[38;5;66;03m# Break a reference cycle with the exception in self._exception\u001b[39;00m\n\u001b[0;32m    404\u001b[0m         \u001b[38;5;28mself\u001b[39m \u001b[38;5;241m=\u001b[39m \u001b[38;5;28;01mNone\u001b[39;00m\n",
      "File \u001b[1;32mc:\\Users\\moosa\\anaconda3\\Lib\\concurrent\\futures\\thread.py:58\u001b[0m, in \u001b[0;36m_WorkItem.run\u001b[1;34m(self)\u001b[0m\n\u001b[0;32m     55\u001b[0m     \u001b[38;5;28;01mreturn\u001b[39;00m\n\u001b[0;32m     57\u001b[0m \u001b[38;5;28;01mtry\u001b[39;00m:\n\u001b[1;32m---> 58\u001b[0m     result \u001b[38;5;241m=\u001b[39m \u001b[38;5;28mself\u001b[39m\u001b[38;5;241m.\u001b[39mfn(\u001b[38;5;241m*\u001b[39m\u001b[38;5;28mself\u001b[39m\u001b[38;5;241m.\u001b[39margs, \u001b[38;5;241m*\u001b[39m\u001b[38;5;241m*\u001b[39m\u001b[38;5;28mself\u001b[39m\u001b[38;5;241m.\u001b[39mkwargs)\n\u001b[0;32m     59\u001b[0m \u001b[38;5;28;01mexcept\u001b[39;00m \u001b[38;5;167;01mBaseException\u001b[39;00m \u001b[38;5;28;01mas\u001b[39;00m exc:\n\u001b[0;32m     60\u001b[0m     \u001b[38;5;28mself\u001b[39m\u001b[38;5;241m.\u001b[39mfuture\u001b[38;5;241m.\u001b[39mset_exception(exc)\n",
      "File \u001b[1;32mc:\\Users\\moosa\\anaconda3\\Lib\\site-packages\\langgraph\\pregel\\retry.py:40\u001b[0m, in \u001b[0;36mrun_with_retry\u001b[1;34m(task, retry_policy, configurable)\u001b[0m\n\u001b[0;32m     38\u001b[0m     task\u001b[38;5;241m.\u001b[39mwrites\u001b[38;5;241m.\u001b[39mclear()\n\u001b[0;32m     39\u001b[0m     \u001b[38;5;66;03m# run the task\u001b[39;00m\n\u001b[1;32m---> 40\u001b[0m     \u001b[38;5;28;01mreturn\u001b[39;00m task\u001b[38;5;241m.\u001b[39mproc\u001b[38;5;241m.\u001b[39minvoke(task\u001b[38;5;241m.\u001b[39minput, config)\n\u001b[0;32m     41\u001b[0m \u001b[38;5;28;01mexcept\u001b[39;00m ParentCommand \u001b[38;5;28;01mas\u001b[39;00m exc:\n\u001b[0;32m     42\u001b[0m     ns: \u001b[38;5;28mstr\u001b[39m \u001b[38;5;241m=\u001b[39m config[CONF][CONFIG_KEY_CHECKPOINT_NS]\n",
      "File \u001b[1;32mc:\\Users\\moosa\\anaconda3\\Lib\\site-packages\\langgraph\\utils\\runnable.py:408\u001b[0m, in \u001b[0;36mRunnableSeq.invoke\u001b[1;34m(self, input, config, **kwargs)\u001b[0m\n\u001b[0;32m    404\u001b[0m config \u001b[38;5;241m=\u001b[39m patch_config(\n\u001b[0;32m    405\u001b[0m     config, callbacks\u001b[38;5;241m=\u001b[39mrun_manager\u001b[38;5;241m.\u001b[39mget_child(\u001b[38;5;124mf\u001b[39m\u001b[38;5;124m\"\u001b[39m\u001b[38;5;124mseq:step:\u001b[39m\u001b[38;5;132;01m{\u001b[39;00mi\u001b[38;5;241m+\u001b[39m\u001b[38;5;241m1\u001b[39m\u001b[38;5;132;01m}\u001b[39;00m\u001b[38;5;124m\"\u001b[39m)\n\u001b[0;32m    406\u001b[0m )\n\u001b[0;32m    407\u001b[0m \u001b[38;5;28;01mif\u001b[39;00m i \u001b[38;5;241m==\u001b[39m \u001b[38;5;241m0\u001b[39m:\n\u001b[1;32m--> 408\u001b[0m     \u001b[38;5;28minput\u001b[39m \u001b[38;5;241m=\u001b[39m step\u001b[38;5;241m.\u001b[39minvoke(\u001b[38;5;28minput\u001b[39m, config, \u001b[38;5;241m*\u001b[39m\u001b[38;5;241m*\u001b[39mkwargs)\n\u001b[0;32m    409\u001b[0m \u001b[38;5;28;01melse\u001b[39;00m:\n\u001b[0;32m    410\u001b[0m     \u001b[38;5;28minput\u001b[39m \u001b[38;5;241m=\u001b[39m step\u001b[38;5;241m.\u001b[39minvoke(\u001b[38;5;28minput\u001b[39m, config)\n",
      "File \u001b[1;32mc:\\Users\\moosa\\anaconda3\\Lib\\site-packages\\langgraph\\utils\\runnable.py:184\u001b[0m, in \u001b[0;36mRunnableCallable.invoke\u001b[1;34m(self, input, config, **kwargs)\u001b[0m\n\u001b[0;32m    182\u001b[0m \u001b[38;5;28;01melse\u001b[39;00m:\n\u001b[0;32m    183\u001b[0m     context\u001b[38;5;241m.\u001b[39mrun(_set_config_context, config)\n\u001b[1;32m--> 184\u001b[0m     ret \u001b[38;5;241m=\u001b[39m context\u001b[38;5;241m.\u001b[39mrun(\u001b[38;5;28mself\u001b[39m\u001b[38;5;241m.\u001b[39mfunc, \u001b[38;5;28minput\u001b[39m, \u001b[38;5;241m*\u001b[39m\u001b[38;5;241m*\u001b[39mkwargs)\n\u001b[0;32m    185\u001b[0m \u001b[38;5;28;01mif\u001b[39;00m \u001b[38;5;28misinstance\u001b[39m(ret, Runnable) \u001b[38;5;129;01mand\u001b[39;00m \u001b[38;5;28mself\u001b[39m\u001b[38;5;241m.\u001b[39mrecurse:\n\u001b[0;32m    186\u001b[0m     \u001b[38;5;28;01mreturn\u001b[39;00m ret\u001b[38;5;241m.\u001b[39minvoke(\u001b[38;5;28minput\u001b[39m, config)\n",
      "Cell \u001b[1;32mIn[963], line 133\u001b[0m, in \u001b[0;36mhandle_user_query_node\u001b[1;34m(state)\u001b[0m\n\u001b[0;32m    121\u001b[0m all_messages \u001b[38;5;241m=\u001b[39m (\n\u001b[0;32m    122\u001b[0m     [system_message]\n\u001b[0;32m    123\u001b[0m     \u001b[38;5;241m+\u001b[39m ([messages[\u001b[38;5;241m-\u001b[39m\u001b[38;5;241m1\u001b[39m]] \u001b[38;5;28;01mif\u001b[39;00m messages \u001b[38;5;129;01mand\u001b[39;00m messages[\u001b[38;5;241m-\u001b[39m\u001b[38;5;241m1\u001b[39m]\u001b[38;5;241m.\u001b[39mtype \u001b[38;5;241m==\u001b[39m \u001b[38;5;124m\"\u001b[39m\u001b[38;5;124mhuman\u001b[39m\u001b[38;5;124m\"\u001b[39m \u001b[38;5;28;01melse\u001b[39;00m [])  \u001b[38;5;66;03m# Last message if human\u001b[39;00m\n\u001b[0;32m    124\u001b[0m     \u001b[38;5;241m+\u001b[39m ([ai_msg] \u001b[38;5;28;01mif\u001b[39;00m ai_msg \u001b[38;5;28;01melse\u001b[39;00m [])  \u001b[38;5;66;03m# AI message if exists\u001b[39;00m\n\u001b[0;32m    125\u001b[0m     \u001b[38;5;241m+\u001b[39m order_tools  \u001b[38;5;66;03m# Sorted tool messages\u001b[39;00m\n\u001b[0;32m    126\u001b[0m )\n\u001b[0;32m    128\u001b[0m \u001b[38;5;66;03m# Display all messages (optional, for debugging purposes)\u001b[39;00m\n\u001b[0;32m    129\u001b[0m \u001b[38;5;66;03m# display(ai_msg)\u001b[39;00m\n\u001b[0;32m    130\u001b[0m \u001b[38;5;66;03m# display(msgs)\u001b[39;00m\n\u001b[0;32m    131\u001b[0m \n\u001b[0;32m    132\u001b[0m \u001b[38;5;66;03m# Call the model with the full message history (system message, tool messages, and user query)\u001b[39;00m\n\u001b[1;32m--> 133\u001b[0m result \u001b[38;5;241m=\u001b[39m model_with_tools\u001b[38;5;241m.\u001b[39minvoke(all_messages)\n\u001b[0;32m    135\u001b[0m \u001b[38;5;28;01mif\u001b[39;00m result\u001b[38;5;241m.\u001b[39mtool_calls:\n\u001b[0;32m    136\u001b[0m     \u001b[38;5;66;03m# Safeguard for creating a clean AIMessage if tool calls are present\u001b[39;00m\n\u001b[0;32m    137\u001b[0m     result \u001b[38;5;241m=\u001b[39m AIMessage(\u001b[38;5;241m*\u001b[39m\u001b[38;5;241m*\u001b[39mresult\u001b[38;5;241m.\u001b[39mmodel_dump(exclude\u001b[38;5;241m=\u001b[39m[\u001b[38;5;124m\"\u001b[39m\u001b[38;5;124mcontent\u001b[39m\u001b[38;5;124m\"\u001b[39m]), content\u001b[38;5;241m=\u001b[39m\u001b[38;5;124m\"\u001b[39m\u001b[38;5;124m\"\u001b[39m)\n",
      "File \u001b[1;32mc:\\Users\\moosa\\anaconda3\\Lib\\site-packages\\langchain_core\\runnables\\base.py:5354\u001b[0m, in \u001b[0;36mRunnableBindingBase.invoke\u001b[1;34m(self, input, config, **kwargs)\u001b[0m\n\u001b[0;32m   5348\u001b[0m \u001b[38;5;28;01mdef\u001b[39;00m \u001b[38;5;21minvoke\u001b[39m(\n\u001b[0;32m   5349\u001b[0m     \u001b[38;5;28mself\u001b[39m,\n\u001b[0;32m   5350\u001b[0m     \u001b[38;5;28minput\u001b[39m: Input,\n\u001b[0;32m   5351\u001b[0m     config: Optional[RunnableConfig] \u001b[38;5;241m=\u001b[39m \u001b[38;5;28;01mNone\u001b[39;00m,\n\u001b[0;32m   5352\u001b[0m     \u001b[38;5;241m*\u001b[39m\u001b[38;5;241m*\u001b[39mkwargs: Optional[Any],\n\u001b[0;32m   5353\u001b[0m ) \u001b[38;5;241m-\u001b[39m\u001b[38;5;241m>\u001b[39m Output:\n\u001b[1;32m-> 5354\u001b[0m     \u001b[38;5;28;01mreturn\u001b[39;00m \u001b[38;5;28mself\u001b[39m\u001b[38;5;241m.\u001b[39mbound\u001b[38;5;241m.\u001b[39minvoke(\n\u001b[0;32m   5355\u001b[0m         \u001b[38;5;28minput\u001b[39m,\n\u001b[0;32m   5356\u001b[0m         \u001b[38;5;28mself\u001b[39m\u001b[38;5;241m.\u001b[39m_merge_configs(config),\n\u001b[0;32m   5357\u001b[0m         \u001b[38;5;241m*\u001b[39m\u001b[38;5;241m*\u001b[39m{\u001b[38;5;241m*\u001b[39m\u001b[38;5;241m*\u001b[39m\u001b[38;5;28mself\u001b[39m\u001b[38;5;241m.\u001b[39mkwargs, \u001b[38;5;241m*\u001b[39m\u001b[38;5;241m*\u001b[39mkwargs},\n\u001b[0;32m   5358\u001b[0m     )\n",
      "File \u001b[1;32mc:\\Users\\moosa\\anaconda3\\Lib\\site-packages\\langchain_core\\language_models\\chat_models.py:286\u001b[0m, in \u001b[0;36mBaseChatModel.invoke\u001b[1;34m(self, input, config, stop, **kwargs)\u001b[0m\n\u001b[0;32m    275\u001b[0m \u001b[38;5;28;01mdef\u001b[39;00m \u001b[38;5;21minvoke\u001b[39m(\n\u001b[0;32m    276\u001b[0m     \u001b[38;5;28mself\u001b[39m,\n\u001b[0;32m    277\u001b[0m     \u001b[38;5;28minput\u001b[39m: LanguageModelInput,\n\u001b[1;32m   (...)\u001b[0m\n\u001b[0;32m    281\u001b[0m     \u001b[38;5;241m*\u001b[39m\u001b[38;5;241m*\u001b[39mkwargs: Any,\n\u001b[0;32m    282\u001b[0m ) \u001b[38;5;241m-\u001b[39m\u001b[38;5;241m>\u001b[39m BaseMessage:\n\u001b[0;32m    283\u001b[0m     config \u001b[38;5;241m=\u001b[39m ensure_config(config)\n\u001b[0;32m    284\u001b[0m     \u001b[38;5;28;01mreturn\u001b[39;00m cast(\n\u001b[0;32m    285\u001b[0m         ChatGeneration,\n\u001b[1;32m--> 286\u001b[0m         \u001b[38;5;28mself\u001b[39m\u001b[38;5;241m.\u001b[39mgenerate_prompt(\n\u001b[0;32m    287\u001b[0m             [\u001b[38;5;28mself\u001b[39m\u001b[38;5;241m.\u001b[39m_convert_input(\u001b[38;5;28minput\u001b[39m)],\n\u001b[0;32m    288\u001b[0m             stop\u001b[38;5;241m=\u001b[39mstop,\n\u001b[0;32m    289\u001b[0m             callbacks\u001b[38;5;241m=\u001b[39mconfig\u001b[38;5;241m.\u001b[39mget(\u001b[38;5;124m\"\u001b[39m\u001b[38;5;124mcallbacks\u001b[39m\u001b[38;5;124m\"\u001b[39m),\n\u001b[0;32m    290\u001b[0m             tags\u001b[38;5;241m=\u001b[39mconfig\u001b[38;5;241m.\u001b[39mget(\u001b[38;5;124m\"\u001b[39m\u001b[38;5;124mtags\u001b[39m\u001b[38;5;124m\"\u001b[39m),\n\u001b[0;32m    291\u001b[0m             metadata\u001b[38;5;241m=\u001b[39mconfig\u001b[38;5;241m.\u001b[39mget(\u001b[38;5;124m\"\u001b[39m\u001b[38;5;124mmetadata\u001b[39m\u001b[38;5;124m\"\u001b[39m),\n\u001b[0;32m    292\u001b[0m             run_name\u001b[38;5;241m=\u001b[39mconfig\u001b[38;5;241m.\u001b[39mget(\u001b[38;5;124m\"\u001b[39m\u001b[38;5;124mrun_name\u001b[39m\u001b[38;5;124m\"\u001b[39m),\n\u001b[0;32m    293\u001b[0m             run_id\u001b[38;5;241m=\u001b[39mconfig\u001b[38;5;241m.\u001b[39mpop(\u001b[38;5;124m\"\u001b[39m\u001b[38;5;124mrun_id\u001b[39m\u001b[38;5;124m\"\u001b[39m, \u001b[38;5;28;01mNone\u001b[39;00m),\n\u001b[0;32m    294\u001b[0m             \u001b[38;5;241m*\u001b[39m\u001b[38;5;241m*\u001b[39mkwargs,\n\u001b[0;32m    295\u001b[0m         )\u001b[38;5;241m.\u001b[39mgenerations[\u001b[38;5;241m0\u001b[39m][\u001b[38;5;241m0\u001b[39m],\n\u001b[0;32m    296\u001b[0m     )\u001b[38;5;241m.\u001b[39mmessage\n",
      "File \u001b[1;32mc:\\Users\\moosa\\anaconda3\\Lib\\site-packages\\langchain_core\\language_models\\chat_models.py:786\u001b[0m, in \u001b[0;36mBaseChatModel.generate_prompt\u001b[1;34m(self, prompts, stop, callbacks, **kwargs)\u001b[0m\n\u001b[0;32m    778\u001b[0m \u001b[38;5;28;01mdef\u001b[39;00m \u001b[38;5;21mgenerate_prompt\u001b[39m(\n\u001b[0;32m    779\u001b[0m     \u001b[38;5;28mself\u001b[39m,\n\u001b[0;32m    780\u001b[0m     prompts: \u001b[38;5;28mlist\u001b[39m[PromptValue],\n\u001b[1;32m   (...)\u001b[0m\n\u001b[0;32m    783\u001b[0m     \u001b[38;5;241m*\u001b[39m\u001b[38;5;241m*\u001b[39mkwargs: Any,\n\u001b[0;32m    784\u001b[0m ) \u001b[38;5;241m-\u001b[39m\u001b[38;5;241m>\u001b[39m LLMResult:\n\u001b[0;32m    785\u001b[0m     prompt_messages \u001b[38;5;241m=\u001b[39m [p\u001b[38;5;241m.\u001b[39mto_messages() \u001b[38;5;28;01mfor\u001b[39;00m p \u001b[38;5;129;01min\u001b[39;00m prompts]\n\u001b[1;32m--> 786\u001b[0m     \u001b[38;5;28;01mreturn\u001b[39;00m \u001b[38;5;28mself\u001b[39m\u001b[38;5;241m.\u001b[39mgenerate(prompt_messages, stop\u001b[38;5;241m=\u001b[39mstop, callbacks\u001b[38;5;241m=\u001b[39mcallbacks, \u001b[38;5;241m*\u001b[39m\u001b[38;5;241m*\u001b[39mkwargs)\n",
      "File \u001b[1;32mc:\\Users\\moosa\\anaconda3\\Lib\\site-packages\\langchain_core\\language_models\\chat_models.py:643\u001b[0m, in \u001b[0;36mBaseChatModel.generate\u001b[1;34m(self, messages, stop, callbacks, tags, metadata, run_name, run_id, **kwargs)\u001b[0m\n\u001b[0;32m    641\u001b[0m         \u001b[38;5;28;01mif\u001b[39;00m run_managers:\n\u001b[0;32m    642\u001b[0m             run_managers[i]\u001b[38;5;241m.\u001b[39mon_llm_error(e, response\u001b[38;5;241m=\u001b[39mLLMResult(generations\u001b[38;5;241m=\u001b[39m[]))\n\u001b[1;32m--> 643\u001b[0m         \u001b[38;5;28;01mraise\u001b[39;00m e\n\u001b[0;32m    644\u001b[0m flattened_outputs \u001b[38;5;241m=\u001b[39m [\n\u001b[0;32m    645\u001b[0m     LLMResult(generations\u001b[38;5;241m=\u001b[39m[res\u001b[38;5;241m.\u001b[39mgenerations], llm_output\u001b[38;5;241m=\u001b[39mres\u001b[38;5;241m.\u001b[39mllm_output)  \u001b[38;5;66;03m# type: ignore[list-item]\u001b[39;00m\n\u001b[0;32m    646\u001b[0m     \u001b[38;5;28;01mfor\u001b[39;00m res \u001b[38;5;129;01min\u001b[39;00m results\n\u001b[0;32m    647\u001b[0m ]\n\u001b[0;32m    648\u001b[0m llm_output \u001b[38;5;241m=\u001b[39m \u001b[38;5;28mself\u001b[39m\u001b[38;5;241m.\u001b[39m_combine_llm_outputs([res\u001b[38;5;241m.\u001b[39mllm_output \u001b[38;5;28;01mfor\u001b[39;00m res \u001b[38;5;129;01min\u001b[39;00m results])\n",
      "File \u001b[1;32mc:\\Users\\moosa\\anaconda3\\Lib\\site-packages\\langchain_core\\language_models\\chat_models.py:633\u001b[0m, in \u001b[0;36mBaseChatModel.generate\u001b[1;34m(self, messages, stop, callbacks, tags, metadata, run_name, run_id, **kwargs)\u001b[0m\n\u001b[0;32m    630\u001b[0m \u001b[38;5;28;01mfor\u001b[39;00m i, m \u001b[38;5;129;01min\u001b[39;00m \u001b[38;5;28menumerate\u001b[39m(messages):\n\u001b[0;32m    631\u001b[0m     \u001b[38;5;28;01mtry\u001b[39;00m:\n\u001b[0;32m    632\u001b[0m         results\u001b[38;5;241m.\u001b[39mappend(\n\u001b[1;32m--> 633\u001b[0m             \u001b[38;5;28mself\u001b[39m\u001b[38;5;241m.\u001b[39m_generate_with_cache(\n\u001b[0;32m    634\u001b[0m                 m,\n\u001b[0;32m    635\u001b[0m                 stop\u001b[38;5;241m=\u001b[39mstop,\n\u001b[0;32m    636\u001b[0m                 run_manager\u001b[38;5;241m=\u001b[39mrun_managers[i] \u001b[38;5;28;01mif\u001b[39;00m run_managers \u001b[38;5;28;01melse\u001b[39;00m \u001b[38;5;28;01mNone\u001b[39;00m,\n\u001b[0;32m    637\u001b[0m                 \u001b[38;5;241m*\u001b[39m\u001b[38;5;241m*\u001b[39mkwargs,\n\u001b[0;32m    638\u001b[0m             )\n\u001b[0;32m    639\u001b[0m         )\n\u001b[0;32m    640\u001b[0m     \u001b[38;5;28;01mexcept\u001b[39;00m \u001b[38;5;167;01mBaseException\u001b[39;00m \u001b[38;5;28;01mas\u001b[39;00m e:\n\u001b[0;32m    641\u001b[0m         \u001b[38;5;28;01mif\u001b[39;00m run_managers:\n",
      "File \u001b[1;32mc:\\Users\\moosa\\anaconda3\\Lib\\site-packages\\langchain_core\\language_models\\chat_models.py:839\u001b[0m, in \u001b[0;36mBaseChatModel._generate_with_cache\u001b[1;34m(self, messages, stop, run_manager, **kwargs)\u001b[0m\n\u001b[0;32m    833\u001b[0m \u001b[38;5;28;01mif\u001b[39;00m \u001b[38;5;28mself\u001b[39m\u001b[38;5;241m.\u001b[39m_should_stream(\n\u001b[0;32m    834\u001b[0m     async_api\u001b[38;5;241m=\u001b[39m\u001b[38;5;28;01mFalse\u001b[39;00m,\n\u001b[0;32m    835\u001b[0m     run_manager\u001b[38;5;241m=\u001b[39mrun_manager,\n\u001b[0;32m    836\u001b[0m     \u001b[38;5;241m*\u001b[39m\u001b[38;5;241m*\u001b[39mkwargs,\n\u001b[0;32m    837\u001b[0m ):\n\u001b[0;32m    838\u001b[0m     chunks: \u001b[38;5;28mlist\u001b[39m[ChatGenerationChunk] \u001b[38;5;241m=\u001b[39m []\n\u001b[1;32m--> 839\u001b[0m     \u001b[38;5;28;01mfor\u001b[39;00m chunk \u001b[38;5;129;01min\u001b[39;00m \u001b[38;5;28mself\u001b[39m\u001b[38;5;241m.\u001b[39m_stream(messages, stop\u001b[38;5;241m=\u001b[39mstop, \u001b[38;5;241m*\u001b[39m\u001b[38;5;241m*\u001b[39mkwargs):\n\u001b[0;32m    840\u001b[0m         chunk\u001b[38;5;241m.\u001b[39mmessage\u001b[38;5;241m.\u001b[39mresponse_metadata \u001b[38;5;241m=\u001b[39m _gen_info_and_msg_metadata(chunk)\n\u001b[0;32m    841\u001b[0m         \u001b[38;5;28;01mif\u001b[39;00m run_manager:\n",
      "File \u001b[1;32mc:\\Users\\moosa\\anaconda3\\Lib\\site-packages\\langchain_google_genai\\chat_models.py:1029\u001b[0m, in \u001b[0;36mChatGoogleGenerativeAI._stream\u001b[1;34m(self, messages, stop, run_manager, tools, functions, safety_settings, tool_config, generation_config, cached_content, tool_choice, **kwargs)\u001b[0m\n\u001b[0;32m   1003\u001b[0m \u001b[38;5;28;01mdef\u001b[39;00m \u001b[38;5;21m_stream\u001b[39m(\n\u001b[0;32m   1004\u001b[0m     \u001b[38;5;28mself\u001b[39m,\n\u001b[0;32m   1005\u001b[0m     messages: List[BaseMessage],\n\u001b[1;32m   (...)\u001b[0m\n\u001b[0;32m   1016\u001b[0m     \u001b[38;5;241m*\u001b[39m\u001b[38;5;241m*\u001b[39mkwargs: Any,\n\u001b[0;32m   1017\u001b[0m ) \u001b[38;5;241m-\u001b[39m\u001b[38;5;241m>\u001b[39m Iterator[ChatGenerationChunk]:\n\u001b[0;32m   1018\u001b[0m     request \u001b[38;5;241m=\u001b[39m \u001b[38;5;28mself\u001b[39m\u001b[38;5;241m.\u001b[39m_prepare_request(\n\u001b[0;32m   1019\u001b[0m         messages,\n\u001b[0;32m   1020\u001b[0m         stop\u001b[38;5;241m=\u001b[39mstop,\n\u001b[1;32m   (...)\u001b[0m\n\u001b[0;32m   1027\u001b[0m         tool_choice\u001b[38;5;241m=\u001b[39mtool_choice,\n\u001b[0;32m   1028\u001b[0m     )\n\u001b[1;32m-> 1029\u001b[0m     response: GenerateContentResponse \u001b[38;5;241m=\u001b[39m _chat_with_retry(\n\u001b[0;32m   1030\u001b[0m         request\u001b[38;5;241m=\u001b[39mrequest,\n\u001b[0;32m   1031\u001b[0m         generation_method\u001b[38;5;241m=\u001b[39m\u001b[38;5;28mself\u001b[39m\u001b[38;5;241m.\u001b[39mclient\u001b[38;5;241m.\u001b[39mstream_generate_content,\n\u001b[0;32m   1032\u001b[0m         \u001b[38;5;241m*\u001b[39m\u001b[38;5;241m*\u001b[39mkwargs,\n\u001b[0;32m   1033\u001b[0m         metadata\u001b[38;5;241m=\u001b[39m\u001b[38;5;28mself\u001b[39m\u001b[38;5;241m.\u001b[39mdefault_metadata,\n\u001b[0;32m   1034\u001b[0m     )\n\u001b[0;32m   1036\u001b[0m     prev_usage_metadata: UsageMetadata \u001b[38;5;241m|\u001b[39m \u001b[38;5;28;01mNone\u001b[39;00m \u001b[38;5;241m=\u001b[39m \u001b[38;5;28;01mNone\u001b[39;00m\n\u001b[0;32m   1037\u001b[0m     \u001b[38;5;28;01mfor\u001b[39;00m chunk \u001b[38;5;129;01min\u001b[39;00m response:\n",
      "File \u001b[1;32mc:\\Users\\moosa\\anaconda3\\Lib\\site-packages\\langchain_google_genai\\chat_models.py:196\u001b[0m, in \u001b[0;36m_chat_with_retry\u001b[1;34m(generation_method, **kwargs)\u001b[0m\n\u001b[0;32m    193\u001b[0m     \u001b[38;5;28;01mexcept\u001b[39;00m \u001b[38;5;167;01mException\u001b[39;00m \u001b[38;5;28;01mas\u001b[39;00m e:\n\u001b[0;32m    194\u001b[0m         \u001b[38;5;28;01mraise\u001b[39;00m e\n\u001b[1;32m--> 196\u001b[0m \u001b[38;5;28;01mreturn\u001b[39;00m _chat_with_retry(\u001b[38;5;241m*\u001b[39m\u001b[38;5;241m*\u001b[39mkwargs)\n",
      "File \u001b[1;32mc:\\Users\\moosa\\anaconda3\\Lib\\site-packages\\tenacity\\__init__.py:336\u001b[0m, in \u001b[0;36mBaseRetrying.wraps.<locals>.wrapped_f\u001b[1;34m(*args, **kw)\u001b[0m\n\u001b[0;32m    334\u001b[0m copy \u001b[38;5;241m=\u001b[39m \u001b[38;5;28mself\u001b[39m\u001b[38;5;241m.\u001b[39mcopy()\n\u001b[0;32m    335\u001b[0m wrapped_f\u001b[38;5;241m.\u001b[39mstatistics \u001b[38;5;241m=\u001b[39m copy\u001b[38;5;241m.\u001b[39mstatistics  \u001b[38;5;66;03m# type: ignore[attr-defined]\u001b[39;00m\n\u001b[1;32m--> 336\u001b[0m \u001b[38;5;28;01mreturn\u001b[39;00m copy(f, \u001b[38;5;241m*\u001b[39margs, \u001b[38;5;241m*\u001b[39m\u001b[38;5;241m*\u001b[39mkw)\n",
      "File \u001b[1;32mc:\\Users\\moosa\\anaconda3\\Lib\\site-packages\\tenacity\\__init__.py:475\u001b[0m, in \u001b[0;36mRetrying.__call__\u001b[1;34m(self, fn, *args, **kwargs)\u001b[0m\n\u001b[0;32m    473\u001b[0m retry_state \u001b[38;5;241m=\u001b[39m RetryCallState(retry_object\u001b[38;5;241m=\u001b[39m\u001b[38;5;28mself\u001b[39m, fn\u001b[38;5;241m=\u001b[39mfn, args\u001b[38;5;241m=\u001b[39margs, kwargs\u001b[38;5;241m=\u001b[39mkwargs)\n\u001b[0;32m    474\u001b[0m \u001b[38;5;28;01mwhile\u001b[39;00m \u001b[38;5;28;01mTrue\u001b[39;00m:\n\u001b[1;32m--> 475\u001b[0m     do \u001b[38;5;241m=\u001b[39m \u001b[38;5;28mself\u001b[39m\u001b[38;5;241m.\u001b[39miter(retry_state\u001b[38;5;241m=\u001b[39mretry_state)\n\u001b[0;32m    476\u001b[0m     \u001b[38;5;28;01mif\u001b[39;00m \u001b[38;5;28misinstance\u001b[39m(do, DoAttempt):\n\u001b[0;32m    477\u001b[0m         \u001b[38;5;28;01mtry\u001b[39;00m:\n",
      "File \u001b[1;32mc:\\Users\\moosa\\anaconda3\\Lib\\site-packages\\tenacity\\__init__.py:376\u001b[0m, in \u001b[0;36mBaseRetrying.iter\u001b[1;34m(self, retry_state)\u001b[0m\n\u001b[0;32m    374\u001b[0m result \u001b[38;5;241m=\u001b[39m \u001b[38;5;28;01mNone\u001b[39;00m\n\u001b[0;32m    375\u001b[0m \u001b[38;5;28;01mfor\u001b[39;00m action \u001b[38;5;129;01min\u001b[39;00m \u001b[38;5;28mself\u001b[39m\u001b[38;5;241m.\u001b[39miter_state\u001b[38;5;241m.\u001b[39mactions:\n\u001b[1;32m--> 376\u001b[0m     result \u001b[38;5;241m=\u001b[39m action(retry_state)\n\u001b[0;32m    377\u001b[0m \u001b[38;5;28;01mreturn\u001b[39;00m result\n",
      "File \u001b[1;32mc:\\Users\\moosa\\anaconda3\\Lib\\site-packages\\tenacity\\__init__.py:398\u001b[0m, in \u001b[0;36mBaseRetrying._post_retry_check_actions.<locals>.<lambda>\u001b[1;34m(rs)\u001b[0m\n\u001b[0;32m    396\u001b[0m \u001b[38;5;28;01mdef\u001b[39;00m \u001b[38;5;21m_post_retry_check_actions\u001b[39m(\u001b[38;5;28mself\u001b[39m, retry_state: \u001b[38;5;124m\"\u001b[39m\u001b[38;5;124mRetryCallState\u001b[39m\u001b[38;5;124m\"\u001b[39m) \u001b[38;5;241m-\u001b[39m\u001b[38;5;241m>\u001b[39m \u001b[38;5;28;01mNone\u001b[39;00m:\n\u001b[0;32m    397\u001b[0m     \u001b[38;5;28;01mif\u001b[39;00m \u001b[38;5;129;01mnot\u001b[39;00m (\u001b[38;5;28mself\u001b[39m\u001b[38;5;241m.\u001b[39miter_state\u001b[38;5;241m.\u001b[39mis_explicit_retry \u001b[38;5;129;01mor\u001b[39;00m \u001b[38;5;28mself\u001b[39m\u001b[38;5;241m.\u001b[39miter_state\u001b[38;5;241m.\u001b[39mretry_run_result):\n\u001b[1;32m--> 398\u001b[0m         \u001b[38;5;28mself\u001b[39m\u001b[38;5;241m.\u001b[39m_add_action_func(\u001b[38;5;28;01mlambda\u001b[39;00m rs: rs\u001b[38;5;241m.\u001b[39moutcome\u001b[38;5;241m.\u001b[39mresult())\n\u001b[0;32m    399\u001b[0m         \u001b[38;5;28;01mreturn\u001b[39;00m\n\u001b[0;32m    401\u001b[0m     \u001b[38;5;28;01mif\u001b[39;00m \u001b[38;5;28mself\u001b[39m\u001b[38;5;241m.\u001b[39mafter \u001b[38;5;129;01mis\u001b[39;00m \u001b[38;5;129;01mnot\u001b[39;00m \u001b[38;5;28;01mNone\u001b[39;00m:\n",
      "File \u001b[1;32mc:\\Users\\moosa\\anaconda3\\Lib\\concurrent\\futures\\_base.py:449\u001b[0m, in \u001b[0;36mFuture.result\u001b[1;34m(self, timeout)\u001b[0m\n\u001b[0;32m    447\u001b[0m     \u001b[38;5;28;01mraise\u001b[39;00m CancelledError()\n\u001b[0;32m    448\u001b[0m \u001b[38;5;28;01melif\u001b[39;00m \u001b[38;5;28mself\u001b[39m\u001b[38;5;241m.\u001b[39m_state \u001b[38;5;241m==\u001b[39m FINISHED:\n\u001b[1;32m--> 449\u001b[0m     \u001b[38;5;28;01mreturn\u001b[39;00m \u001b[38;5;28mself\u001b[39m\u001b[38;5;241m.\u001b[39m__get_result()\n\u001b[0;32m    451\u001b[0m \u001b[38;5;28mself\u001b[39m\u001b[38;5;241m.\u001b[39m_condition\u001b[38;5;241m.\u001b[39mwait(timeout)\n\u001b[0;32m    453\u001b[0m \u001b[38;5;28;01mif\u001b[39;00m \u001b[38;5;28mself\u001b[39m\u001b[38;5;241m.\u001b[39m_state \u001b[38;5;129;01min\u001b[39;00m [CANCELLED, CANCELLED_AND_NOTIFIED]:\n",
      "File \u001b[1;32mc:\\Users\\moosa\\anaconda3\\Lib\\concurrent\\futures\\_base.py:401\u001b[0m, in \u001b[0;36mFuture.__get_result\u001b[1;34m(self)\u001b[0m\n\u001b[0;32m    399\u001b[0m \u001b[38;5;28;01mif\u001b[39;00m \u001b[38;5;28mself\u001b[39m\u001b[38;5;241m.\u001b[39m_exception:\n\u001b[0;32m    400\u001b[0m     \u001b[38;5;28;01mtry\u001b[39;00m:\n\u001b[1;32m--> 401\u001b[0m         \u001b[38;5;28;01mraise\u001b[39;00m \u001b[38;5;28mself\u001b[39m\u001b[38;5;241m.\u001b[39m_exception\n\u001b[0;32m    402\u001b[0m     \u001b[38;5;28;01mfinally\u001b[39;00m:\n\u001b[0;32m    403\u001b[0m         \u001b[38;5;66;03m# Break a reference cycle with the exception in self._exception\u001b[39;00m\n\u001b[0;32m    404\u001b[0m         \u001b[38;5;28mself\u001b[39m \u001b[38;5;241m=\u001b[39m \u001b[38;5;28;01mNone\u001b[39;00m\n",
      "File \u001b[1;32mc:\\Users\\moosa\\anaconda3\\Lib\\site-packages\\tenacity\\__init__.py:478\u001b[0m, in \u001b[0;36mRetrying.__call__\u001b[1;34m(self, fn, *args, **kwargs)\u001b[0m\n\u001b[0;32m    476\u001b[0m \u001b[38;5;28;01mif\u001b[39;00m \u001b[38;5;28misinstance\u001b[39m(do, DoAttempt):\n\u001b[0;32m    477\u001b[0m     \u001b[38;5;28;01mtry\u001b[39;00m:\n\u001b[1;32m--> 478\u001b[0m         result \u001b[38;5;241m=\u001b[39m fn(\u001b[38;5;241m*\u001b[39margs, \u001b[38;5;241m*\u001b[39m\u001b[38;5;241m*\u001b[39mkwargs)\n\u001b[0;32m    479\u001b[0m     \u001b[38;5;28;01mexcept\u001b[39;00m \u001b[38;5;167;01mBaseException\u001b[39;00m:  \u001b[38;5;66;03m# noqa: B902\u001b[39;00m\n\u001b[0;32m    480\u001b[0m         retry_state\u001b[38;5;241m.\u001b[39mset_exception(sys\u001b[38;5;241m.\u001b[39mexc_info())  \u001b[38;5;66;03m# type: ignore[arg-type]\u001b[39;00m\n",
      "File \u001b[1;32mc:\\Users\\moosa\\anaconda3\\Lib\\site-packages\\langchain_google_genai\\chat_models.py:190\u001b[0m, in \u001b[0;36m_chat_with_retry.<locals>._chat_with_retry\u001b[1;34m(**kwargs)\u001b[0m\n\u001b[0;32m    187\u001b[0m         \u001b[38;5;28;01mraise\u001b[39;00m \u001b[38;5;167;01mValueError\u001b[39;00m(error_msg)\n\u001b[0;32m    189\u001b[0m \u001b[38;5;28;01mexcept\u001b[39;00m google\u001b[38;5;241m.\u001b[39mapi_core\u001b[38;5;241m.\u001b[39mexceptions\u001b[38;5;241m.\u001b[39mInvalidArgument \u001b[38;5;28;01mas\u001b[39;00m e:\n\u001b[1;32m--> 190\u001b[0m     \u001b[38;5;28;01mraise\u001b[39;00m ChatGoogleGenerativeAIError(\n\u001b[0;32m    191\u001b[0m         \u001b[38;5;124mf\u001b[39m\u001b[38;5;124m\"\u001b[39m\u001b[38;5;124mInvalid argument provided to Gemini: \u001b[39m\u001b[38;5;132;01m{\u001b[39;00me\u001b[38;5;132;01m}\u001b[39;00m\u001b[38;5;124m\"\u001b[39m\n\u001b[0;32m    192\u001b[0m     ) \u001b[38;5;28;01mfrom\u001b[39;00m \u001b[38;5;21;01me\u001b[39;00m\n\u001b[0;32m    193\u001b[0m \u001b[38;5;28;01mexcept\u001b[39;00m \u001b[38;5;167;01mException\u001b[39;00m \u001b[38;5;28;01mas\u001b[39;00m e:\n\u001b[0;32m    194\u001b[0m     \u001b[38;5;28;01mraise\u001b[39;00m e\n",
      "\u001b[1;31mChatGoogleGenerativeAIError\u001b[0m: Invalid argument provided to Gemini: 400 Unable to submit request because it must have a text parameter. Add a text parameter and try again. Learn more: https://cloud.google.com/vertex-ai/generative-ai/docs/model-reference/gemini",
      "\u001b[0mDuring task with name 'handle_user_query' and id 'd4c3d391-0901-fb77-ee9b-d085cab469e6'"
     ]
    }
   ],
   "source": [
    "stream_agent(\n",
    "    agent=agent,\n",
    "    config=config,\n",
    "    input_value={\n",
    "        \"query\": \"Hi, I am trying to Learn Langgraph, can you please find some reference material from the web for me to get started?\"\n",
    "    },\n",
    ")"
   ]
  },
  {
   "cell_type": "markdown",
   "metadata": {},
   "source": [
    "#### TESTING PERSISTANCE\n"
   ]
  },
  {
   "cell_type": "code",
   "execution_count": 98,
   "metadata": {},
   "outputs": [],
   "source": [
    "config = {\"configurable\": {\"thread_id\": \"1\", \"user_id\": str(user_id)}}"
   ]
  },
  {
   "cell_type": "code",
   "execution_count": 99,
   "metadata": {},
   "outputs": [
    {
     "data": {
      "text/markdown": [
       "You previously asked me to find some reference material to help you get started with learning Langgraph.\n"
      ],
      "text/plain": [
       "<IPython.core.display.Markdown object>"
      ]
     },
     "metadata": {},
     "output_type": "display_data"
    }
   ],
   "source": [
    "stream_agent(\n",
    "    agent=agent,\n",
    "    config=config,\n",
    "    input_value={\"query\": \"Please Tell me what i said before\"},\n",
    ")"
   ]
  },
  {
   "cell_type": "markdown",
   "metadata": {},
   "source": [
    "#### TESTING MEMORY"
   ]
  },
  {
   "cell_type": "code",
   "execution_count": 119,
   "metadata": {},
   "outputs": [],
   "source": [
    "config = {\"configurable\": {\"thread_id\": \"5\", \"user_id\": str(user_id)}}"
   ]
  },
  {
   "cell_type": "code",
   "execution_count": 120,
   "metadata": {},
   "outputs": [
    {
     "data": {
      "text/markdown": [
       "\n",
       "Hi Moosa, it's great to hear from you again! I remember you mentioned that you love Langgraph. Is there anything specific you'd like to discuss or work on today related to Langgraph or any other topic?\n"
      ],
      "text/plain": [
       "<IPython.core.display.Markdown object>"
      ]
     },
     "metadata": {},
     "output_type": "display_data"
    }
   ],
   "source": [
    "stream_agent(\n",
    "    agent=agent,\n",
    "    config=config,\n",
    "    input_value={\"query\": \"Hi, I am Moosa and i love langgraph\"},\n",
    ")"
   ]
  },
  {
   "cell_type": "code",
   "execution_count": 121,
   "metadata": {},
   "outputs": [],
   "source": [
    "config = {\"configurable\": {\"thread_id\": \"111\", \"user_id\": str(user_id)}}"
   ]
  },
  {
   "cell_type": "code",
   "execution_count": 122,
   "metadata": {},
   "outputs": [
    {
     "data": {
      "text/markdown": [
       "I'm sorry, but I don't have access to that information. Could you please share your name with me?\n"
      ],
      "text/plain": [
       "<IPython.core.display.Markdown object>"
      ]
     },
     "metadata": {},
     "output_type": "display_data"
    }
   ],
   "source": [
    "stream_agent(\n",
    "    agent=agent,\n",
    "    config=config,\n",
    "    input_value={\"query\": \"What is my Name?\"},\n",
    ")"
   ]
  },
  {
   "cell_type": "markdown",
   "metadata": {},
   "source": [
    "#### TESTING RAG"
   ]
  },
  {
   "cell_type": "code",
   "execution_count": 762,
   "metadata": {},
   "outputs": [],
   "source": [
    "config = {\"configurable\": {\"thread_id\": \"26\", \"user_id\": str(user_id)}}"
   ]
  },
  {
   "cell_type": "code",
   "execution_count": 763,
   "metadata": {},
   "outputs": [
    {
     "data": {
      "text/markdown": [
       "Yes, I do! Based on the information I have, you have a Python test scheduled for Friday at 10 AM. The test will cover all major topics. Is there anything else I can help you with regarding your test?\n"
      ],
      "text/plain": [
       "<IPython.core.display.Markdown object>"
      ]
     },
     "metadata": {},
     "output_type": "display_data"
    }
   ],
   "source": [
    "stream_agent(\n",
    "    agent=agent,\n",
    "    config=config,\n",
    "    input_value={\"query\": \"Do you know about my test\"},\n",
    ")"
   ]
  },
  {
   "cell_type": "code",
   "execution_count": 766,
   "metadata": {},
   "outputs": [
    {
     "data": {
      "text/markdown": [
       "\n",
       "Okay, I've reviewed the LangChain PDF you uploaded. Here's a summary of the key points:\n",
       "\n",
       "**LangChain Overview:**\n",
       "LangChain is an open-source framework designed to simplify the development of applications powered by large language models (LLMs). It enhances the interaction between LLMs and various data sources, tools, and APIs, making it easier to build efficient, scalable, and manageable applications.\n",
       "\n",
       "**Key Features:**\n",
       "*   **Chains:** LangChain allows you to create sequences of actions that combine LLM calls with other operations like data retrieval, transformation, or API calls. This enables multi-step reasoning.\n",
       "*   **Document Loading and Processing:** It provides tools to load data from various sources (local files, databases, web sources) and process them for efficient retrieval. This includes indexing documents and converting them into embeddings.\n",
       "*   **Retrieval Augmented Generation (RAG):** LangChain supports RAG, allowing LLMs to retrieve relevant documents based on a query, enhancing the context and relevance of the generated output.\n",
       "*   **Integrations:** It integrates with various LLMs (like OpenAI's GPT models), data sources (documents, APIs, databases), and tools, enabling complex workflows.\n",
       "*   **SQL and Document Querying:** LangChain allows direct querying of SQL databases and indexed documents, providing contextual and relevant retrieval.\n",
       "\n",
       "**LangChain Workflow:**\n",
       "1.  **Document Loading:** Loading documents from external sources.\n",
       "2.  **Document Processing:** Processing and indexing documents for efficient retrieval.\n",
       "3.  **Querying and Retrieval:** Fetching relevant documents based on a user query.\n",
       "4.  **Chain or Agent Execution:** Passing retrieved documents to an LLM for generation, which may involve additional tools.\n",
       "5.  **Final Output:** Generating the final output based on processed information.\n",
       "\n",
       "**Ecosystem:**\n",
       "LangChain has a growing ecosystem that includes various tools and integrations to support different functionalities.\n",
       "\n",
       "**Use Cases:**\n",
       "LangChain is applicable in various domains, including but not limited to:\n",
       "*   Chatbots and conversational AI\n",
       "*   Data analysis and processing\n",
       "*   Content generation\n",
       "*   Question answering systems\n",
       "\n",
       "**Components:**\n",
       "*   **LLMs:** Interfaces with various LLMs like OpenAI, Cohere, and Anthropic.\n",
       "*   **Data Sources:** Supports integrations with documents, APIs, and databases.\n",
       "\n",
       "**Performance:**\n",
       "For large-scale deployments, performance optimization is crucial to ensure scalability, speed, and responsiveness.\n",
       "\n",
       "**Conclusion:**\n",
       "LangChain enhances the capabilities of LLMs by enabling complex workflows, tool integration, and data processing, making it a valuable tool for developers working with LLMs.\n",
       "\n",
       "Is there anything specific you would like to explore further or any other questions you have about the document?\n"
      ],
      "text/plain": [
       "<IPython.core.display.Markdown object>"
      ]
     },
     "metadata": {},
     "output_type": "display_data"
    }
   ],
   "source": [
    "stream_agent(\n",
    "    agent=agent,\n",
    "    config=config,\n",
    "    input_value={\"query\": \"I have uploaded a langchain pdf, Please Summarize the whole document\"},\n",
    ")"
   ]
  },
  {
   "cell_type": "markdown",
   "metadata": {},
   "source": [
    "#### CREATING STUDY SCHEDULE\n"
   ]
  },
  {
   "cell_type": "code",
   "execution_count": 179,
   "metadata": {},
   "outputs": [],
   "source": [
    "config = {\"configurable\": {\"thread_id\": \"12\", \"user_id\": str(user_id)}}"
   ]
  },
  {
   "cell_type": "code",
   "execution_count": 180,
   "metadata": {},
   "outputs": [
    {
     "data": {
      "text/markdown": [
       "Okay, I will create a study schedule for you based on your preferences. You have a Python test on Friday morning, you are available to study in the mornings, and you want to study for at most 3 hours each day. You want to cover all major topics in Python and prefer at least half-hour breaks between study sessions. You also want to include all days until the test from now.\n",
       "\n",
       "Since today is December 28th, 2024, I will create a schedule for today, December 28th, 29th, 30th, 31st, and January 1st.\n",
       "\n",
       "To make the schedule effective, I will allocate 3 hours each day with half-hour breaks between sessions. I will also include a mix of focused study and review sessions.\n",
       "\n",
       "Here is the study schedule:\n",
       "\n",
       "**Saturday, December 28th:**\n",
       "*   **9:00 AM - 10:00 AM:** Focused Study - Python Basics (Data types, variables, operators)\n",
       "*   **10:00 AM - 10:30 AM:** Break\n",
       "*   **10:30 AM - 11:30 AM:** Focused Study - Control Structures (if, for, while loops)\n",
       "*   **11:30 AM - 12:00 PM:** Break\n",
       "*   **12:00 PM - 1:00 PM:** Review - Python Basics and Control Structures\n",
       "\n",
       "**Sunday, December 29th:**\n",
       "*   **9:00 AM - 10:00 AM:** Focused Study - Functions and Modules\n",
       "*   **10:00 AM - 10:30 AM:** Break\n",
       "*   **10:30 AM - 11:30 AM:** Focused Study - Working with Files\n",
       "*   **11:30 AM - 12:00 PM:** Break\n",
       "*   **12:00 PM - 1:00 PM:** Review - Functions, Modules, and File Handling\n",
       "\n",
       "**Monday, December 30th:**\n",
       "*   **9:00 AM - 10:00 AM:** Focused Study - Object-Oriented Programming (Classes, Objects)\n",
       "*   **10:00 AM - 10:30 AM:** Break\n",
       "*   **10:30 AM - 11:30 AM:** Focused Study - Exception Handling\n",
       "*   **11:30 AM - 12:00 PM:** Break\n",
       "*   **12:00 PM - 1:00 PM:** Review - OOP and Exception Handling\n",
       "\n",
       "**Tuesday, December 31st:**\n",
       "*   **9:00 AM - 10:00 AM:** Focused Study - Working with Libraries (e.g., NumPy, Pandas)\n",
       "*   **10:00 AM - 10:30 AM:** Break\n",
       "*   **10:30 AM - 11:30 AM:** Focused Study - Data Structures (Lists, Dictionaries, Tuples)\n",
       "*   **11:30 AM - 12:00 PM:** Break\n",
       "*   **12:00 PM - 1:00 PM:** Review - Libraries and Data Structures\n",
       "\n",
       "**Wednesday, January 1st:**\n",
       "*   **9:00 AM - 10:00 AM:** Practice - Solving coding problems\n",
       "*   **10:00 AM - 10:30 AM:** Break\n",
       "*   **10:30 AM - 11:30 AM:** Review - All topics\n",
       "*   **11:30 AM - 12:00 PM:** Break\n",
       "*   **12:00 PM - 1:00 PM:** Practice - Mock test\n",
       "\n",
       "**Thursday, January 2nd:**\n",
       "*   **9:00 AM - 10:00 AM:** Final Review - Quick review of all topics\n",
       "*   **10:00 AM - 10:30 AM:** Break\n",
       "*   **10:30 AM - 11:30 AM:** Practice - Mock test\n",
       "*   **11:30 AM - 12:00 PM:** Break\n",
       "*   **12:00 PM - 1:00 PM:** Relax and prepare for the test\n",
       "\n",
       "I will now save this schedule to a markdown file.\n",
       "\n",
       "Okay, I've created a study schedule for you, focusing on major Python topics and including breaks. The schedule is saved in `study_schedule.md`. Let me know if you need any adjustments!\n"
      ],
      "text/plain": [
       "<IPython.core.display.Markdown object>"
      ]
     },
     "metadata": {},
     "output_type": "display_data"
    }
   ],
   "source": [
    "stream_agent(\n",
    "    agent=agent,\n",
    "    config=config,\n",
    "    input_value={\n",
    "        \"query\": \"Hi, I Like python very much and have a python test upcoming on friday, please create a study schedule for me\"\n",
    "    },\n",
    ")"
   ]
  },
  {
   "cell_type": "code",
   "execution_count": 182,
   "metadata": {},
   "outputs": [
    {
     "data": {
      "text/markdown": [
       "I have already saved the schedule in a markdown file named `study_schedule.md`. Is there anything else I can help you with?\n"
      ],
      "text/plain": [
       "<IPython.core.display.Markdown object>"
      ]
     },
     "metadata": {},
     "output_type": "display_data"
    }
   ],
   "source": [
    "stream_agent(\n",
    "    agent=agent,\n",
    "    config=config,\n",
    "    input_value={\"query\": \"Thats Great! Please save the schedule in a markdown file\"},\n",
    ")"
   ]
  }
 ],
 "metadata": {
  "kernelspec": {
   "display_name": "base",
   "language": "python",
   "name": "python3"
  },
  "language_info": {
   "codemirror_mode": {
    "name": "ipython",
    "version": 3
   },
   "file_extension": ".py",
   "mimetype": "text/x-python",
   "name": "python",
   "nbconvert_exporter": "python",
   "pygments_lexer": "ipython3",
   "version": "3.11.7"
  }
 },
 "nbformat": 4,
 "nbformat_minor": 2
}
