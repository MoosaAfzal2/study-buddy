{
 "cells": [
  {
   "cell_type": "markdown",
   "metadata": {},
   "source": [
    "### **Study Buddy AI: Your Personalized Study Assistant**\n",
    "\n",
    "<!-- ##### **Description:**\n",
    "Study Buddy AI is an intelligent assistant designed to revolutionize the way students learn and plan their studies. Equipped with advanced features like personalized study plans, web search for research, math problem-solving, and human-in-the-loop assistance, it ensures accurate, actionable, and tailored support for academic success. Leveraging memory and contextual knowledge, Study Buddy AI creates dynamic, efficient schedules and provides step-by-step explanations to help students master any subject with ease. -->\n",
    "\n",
    "##### **Current Features:**\n",
    "\n",
    "- **Tool Assistance**: Integrates with tools like Study Scheduler and Web Search.\n",
    "- **Personalized Support**: Remembers user-specific details such as exam dates, preferred study times, and past topics to deliver customized responses.\n",
    "- **Study Schedule Creation**: Automatically generates optimized study plans based on deadlines, topics, and available time.\n",
    "- **User-Friendly Interaction**: Polite, clear, and concise responses with follow-up questions to ensure clarity.\n"
   ]
  },
  {
   "cell_type": "markdown",
   "metadata": {},
   "source": [
    "### DEPENDENCIES\n"
   ]
  },
  {
   "cell_type": "code",
   "execution_count": null,
   "metadata": {},
   "outputs": [],
   "source": [
    "%pip install -q -U google-generativeai langchain-google-genai langgraph langchain langchain-core pydantic tavily-python langchain_community langgraph-checkpoint-sqlite chromadb"
   ]
  },
  {
   "cell_type": "code",
   "execution_count": 4,
   "metadata": {},
   "outputs": [],
   "source": [
    "import os, getpass\n",
    "\n",
    "\n",
    "def _set_env(var: str):\n",
    "    if not os.environ.get(var):\n",
    "        os.environ[var] = getpass.getpass(f\"{var}: \")\n",
    "\n",
    "\n",
    "_set_env(\"GOOGLE_API_KEY\")\n",
    "_set_env(\"TAVILY_API_KEY\")\n",
    "# _set_env(\"LANGCHAIN_API_KEY\")\n",
    "# _set_env(\"LANGCHAIN_PROJECT\")\n",
    "# os.environ[\"LANGCHAIN_TRACING_V2\"] = \"true\""
   ]
  },
  {
   "cell_type": "code",
   "execution_count": 5,
   "metadata": {},
   "outputs": [
    {
     "name": "stderr",
     "output_type": "stream",
     "text": [
      "c:\\Users\\moosa\\AppData\\Local\\Programs\\Python\\Python312\\Lib\\site-packages\\tqdm\\auto.py:21: TqdmWarning: IProgress not found. Please update jupyter and ipywidgets. See https://ipywidgets.readthedocs.io/en/stable/user_install.html\n",
      "  from .autonotebook import tqdm as notebook_tqdm\n"
     ]
    }
   ],
   "source": [
    "from typing import TypedDict, Optional, List, Annotated, Any, Dict, Union, Literal\n",
    "from pydantic import BaseModel, Field, ConfigDict\n",
    "from datetime import datetime, timedelta\n",
    "import csv\n",
    "import uuid\n",
    "import json\n",
    "import sqlite3\n",
    "\n",
    "from langchain_google_genai import ChatGoogleGenerativeAI, GoogleGenerativeAIEmbeddings\n",
    "\n",
    "from langgraph.graph import StateGraph, START, END, add_messages \n",
    "from langgraph.graph.state import CompiledStateGraph\n",
    "from langgraph.prebuilt import ToolNode, tools_condition, InjectedState, InjectedStore\n",
    "from langgraph.types import Command, interrupt\n",
    "\n",
    "from langgraph.checkpoint.sqlite import SqliteSaver\n",
    "\n",
    "from langgraph.store.base import BaseStore\n",
    "from langgraph.store.memory import InMemoryStore\n",
    "\n",
    "from langchain_community.tools.tavily_search import TavilySearchResults\n",
    "from langchain_community.document_loaders import TextLoader, PyPDFLoader\n",
    "from langchain_text_splitters import CharacterTextSplitter\n",
    "\n",
    "from langchain.prompts import ChatPromptTemplate, PromptTemplate, MessagesPlaceholder\n",
    "from langchain.output_parsers import PydanticOutputParser\n",
    "\n",
    "from langchain_core.tools import tool, InjectedToolArg\n",
    "from langchain_core.runnables.config import RunnableConfig\n",
    "from langchain_core.language_models import BaseChatModel\n",
    "from langchain_core.messages import (\n",
    "    BaseMessage,\n",
    "    SystemMessage,\n",
    "    HumanMessage,\n",
    "    AIMessage,\n",
    "    AnyMessage,\n",
    "    RemoveMessage,\n",
    "    ToolMessage,\n",
    "    AIMessageChunk,\n",
    ")\n",
    "\n",
    "from IPython.display import Image, clear_output, Markdown"
   ]
  },
  {
   "cell_type": "code",
   "execution_count": 9,
   "metadata": {},
   "outputs": [
    {
     "data": {
      "text/plain": [
       "[Document(metadata={'source': './docs/example.txt'}, page_content='My name is Moosa Afzal and I love Langgraph.')]"
      ]
     },
     "execution_count": 9,
     "metadata": {},
     "output_type": "execute_result"
    }
   ],
   "source": [
    "# Load the document, split it into chunks, embed each chunk and load it into the vector store.\n",
    "raw_documents = TextLoader('./docs/example.txt').load()\n",
    "text_splitter = CharacterTextSplitter(chunk_size=1000, chunk_overlap=0)\n",
    "documents = text_splitter.split_documents(raw_documents)\n",
    "documents"
   ]
  },
  {
   "cell_type": "code",
   "execution_count": null,
   "metadata": {},
   "outputs": [],
   "source": [
    "from langchain_community.vectorstores import Chroma\n",
    "\n",
    "db = Chroma.from_documents(documents, GoogleGenerativeAIEmbeddings(model=\"models/embedding-001\"))"
   ]
  },
  {
   "cell_type": "markdown",
   "metadata": {},
   "source": [
    "### STATES"
   ]
  },
  {
   "cell_type": "code",
   "execution_count": 73,
   "metadata": {},
   "outputs": [],
   "source": [
    "class InputState(TypedDict):\n",
    "    query: str\n",
    "\n",
    "\n",
    "class OutputState(TypedDict):\n",
    "    response: AIMessage\n",
    "\n",
    "\n",
    "class OverallState(InputState, OutputState):\n",
    "    messages: Annotated[List[AnyMessage], add_messages]\n",
    "    summary: Optional[str] = None\n",
    "    memories: Optional[str] = None"
   ]
  },
  {
   "cell_type": "markdown",
   "metadata": {},
   "source": [
    "### PERSISTANCE"
   ]
  },
  {
   "cell_type": "markdown",
   "metadata": {},
   "source": [
    "#### Initialize DB"
   ]
  },
  {
   "cell_type": "code",
   "execution_count": 74,
   "metadata": {},
   "outputs": [],
   "source": [
    "# In memory\n",
    "conn = sqlite3.connect(\":memory:\", check_same_thread = False)"
   ]
  },
  {
   "cell_type": "code",
   "execution_count": 75,
   "metadata": {},
   "outputs": [
    {
     "name": "stderr",
     "output_type": "stream",
     "text": [
      "A subdirectory or file db already exists.\n"
     ]
    }
   ],
   "source": [
    "# # pull file if it doesn't exist and connect to local db\n",
    "!mkdir db && [ ! -f db/sqlite.db ] && wget -P db https://github.com/MoosaAfzal2/study-buddy/db/sqlite.db && wget -P db https://github.com/MoosaAfzal2/study-buddy/db/sqlite.db-wal\n",
    "\n",
    "db_path = \"db/sqlite.db\"\n",
    "conn = sqlite3.connect(db_path, check_same_thread=False)"
   ]
  },
  {
   "cell_type": "markdown",
   "metadata": {},
   "source": [
    "#### Initializing the Checkpointer"
   ]
  },
  {
   "cell_type": "code",
   "execution_count": 76,
   "metadata": {},
   "outputs": [],
   "source": [
    "# Here is our checkpointer\n",
    "checkpointer: SqliteSaver = SqliteSaver(conn)"
   ]
  },
  {
   "cell_type": "markdown",
   "metadata": {},
   "source": [
    "### MODELS\n"
   ]
  },
  {
   "cell_type": "code",
   "execution_count": 77,
   "metadata": {},
   "outputs": [],
   "source": [
    "# MODEL_NAME = \"gemini-1.5-flash\"\n",
    "MODEL_NAME = \"gemini-2.0-flash-exp\"\n",
    "EMBEDDING_MODEL_NAME = \"models/embedding-001\"\n",
    "\n",
    "model = ChatGoogleGenerativeAI(model=MODEL_NAME, temperature=0)\n",
    "embedding_model = GoogleGenerativeAIEmbeddings(model=EMBEDDING_MODEL_NAME)"
   ]
  },
  {
   "cell_type": "markdown",
   "metadata": {},
   "source": [
    "### MEMORY\n"
   ]
  },
  {
   "cell_type": "markdown",
   "metadata": {},
   "source": [
    "#### In Memory Store\n"
   ]
  },
  {
   "cell_type": "code",
   "execution_count": 144,
   "metadata": {},
   "outputs": [],
   "source": [
    "in_memory_store = InMemoryStore(\n",
    "    index={\n",
    "        \"embed\": embedding_model,\n",
    "        \"dims\": 1536,\n",
    "    }\n",
    ")"
   ]
  },
  {
   "cell_type": "markdown",
   "metadata": {},
   "source": [
    "#### Memory Namespace\n"
   ]
  },
  {
   "cell_type": "code",
   "execution_count": 145,
   "metadata": {},
   "outputs": [],
   "source": [
    "NAMESPACE_NAME = \"memories\""
   ]
  },
  {
   "cell_type": "markdown",
   "metadata": {},
   "source": [
    "#### Memory Type\n"
   ]
  },
  {
   "cell_type": "code",
   "execution_count": 146,
   "metadata": {},
   "outputs": [],
   "source": [
    "# class ProgressType(TypedDict):\n",
    "#     \"\"\"\n",
    "#     Defines the structure of progress for a study topic as a percentage.\n",
    "#     Each progress entry includes the topic name and its completion percentage.\n",
    "#     \"\"\"\n",
    "\n",
    "#     topic: Optional[str] = None  # The name of the study topic (e.g., \"Algebra\")\n",
    "#     progress_percentage: Optional[float] = (\n",
    "#         None  # The completion percentage for the topic (e.g., 75.0)\n",
    "#     )\n",
    "\n",
    "\n",
    "class MemoryType(BaseModel):\n",
    "    \"\"\"General memory structure for a Study Buddy Agent to store memory\"\"\"\n",
    "    \n",
    "    content: str = Field(\n",
    "        description='The main content of the memory. For example: \"User expressed interest in learning about French.\"'\n",
    "    )\n",
    "    \n",
    "    context: str = Field(\n",
    "        description='Additional context for the memory. For example: \"This was mentioned while discussing career options in Europe.\"'\n",
    "    )\n",
    "\n",
    "    # # User Information (Tracking user-specific details)\n",
    "    # username: Optional[str] = Field(\n",
    "    #     default=None, description='The username of the user (e.g., \"john_doe\")'\n",
    "    # )\n",
    "\n",
    "    # age: Optional[int] = Field(\n",
    "    #     default=None, description=\"The age of the user (e.g., 21)\"\n",
    "    # )\n",
    "\n",
    "    # gender: Optional[str] = Field(\n",
    "    #     default=None,\n",
    "    #     description='The gender of the user (e.g., \"Male\", \"Female\", \"Non-binary\")',\n",
    "    # )\n",
    "\n",
    "    # preferences: Optional[str] = Field(\n",
    "    #     default=None,\n",
    "    #     description=\"User preferences, such as preferred study time, study methods, etc.\",\n",
    "    # )\n",
    "\n",
    "    # # Study Preferences\n",
    "    # study_duration: Optional[int] = Field(\n",
    "    #     default=None,\n",
    "    #     description=\"Preferred study duration in minutes (e.g., 60 minutes)\",\n",
    "    # )\n",
    "\n",
    "    # break_duration: Optional[int] = Field(\n",
    "    #     default=None,\n",
    "    #     description=\"Preferred break duration in minutes (e.g., 15 minutes)\",\n",
    "    # )\n",
    "\n",
    "    # # Scheduling and Deadlines\n",
    "    # reminders: List[ReminderType] = Field(\n",
    "    #     default=[],\n",
    "    #     description='List of reminders with descriptions and dates (e.g., [{\"description\": \"Study for Math exam\", \"date\": \"2024-12-15\"}])',\n",
    "    # )\n",
    "\n",
    "    # deadlines: List[ReminderType] = Field(\n",
    "    #     default=[],\n",
    "    #     description='List of deadlines with event names and corresponding dates (e.g., [{\"description\": \"Assignment deadline\", \"date\": \"2024-12-18\"}])',\n",
    "    # )\n",
    "\n",
    "    # # Study Topics\n",
    "    # topics_to_study: List[str] = Field(\n",
    "    #     default=[], description='List of topics to study (e.g., [\"Algebra\", \"History\"])'\n",
    "    # )\n",
    "\n",
    "    # completed_topics: List[str] = Field(\n",
    "    #     default=[],\n",
    "    #     description='List of topics that have been completed (e.g., [\"Calculus\", \"Literature\"])',\n",
    "    # )\n",
    "\n",
    "    # # Progress Tracking\n",
    "    # progress: List[ProgressType] = Field(\n",
    "    #     default=[],\n",
    "    #     description='Progress for each study topic as a percentage (e.g., [{\"topic\": \"Algebra\", \"progress_percentage\": 75.0}])',\n",
    "    # )\n",
    "\n",
    "    # # Personal Notes and Goals\n",
    "    # personal_notes: Optional[str] = Field(\n",
    "    #     default=None,\n",
    "    #     description=\"Space for personal goals, motivational notes, or other reminders\",\n",
    "    # )\n",
    "\n",
    "    # # Last Updated Timestamp\n",
    "    # last_updated: Optional[str] = Field(\n",
    "    #     default=None,\n",
    "    #     description='Timestamp for when the memory was last updated (e.g., \"2024-12-15T14:30:00\")',\n",
    "    # )"
   ]
  },
  {
   "cell_type": "markdown",
   "metadata": {},
   "source": [
    "### TOOLS\n"
   ]
  },
  {
   "cell_type": "markdown",
   "metadata": {},
   "source": [
    "#### Web Search Tools\n"
   ]
  },
  {
   "cell_type": "code",
   "execution_count": 147,
   "metadata": {},
   "outputs": [],
   "source": [
    "tavily_search_tool = TavilySearchResults(\n",
    "    name=\"tavily_web_search\",\n",
    "    max_results=3,\n",
    "    # include_answer=True,\n",
    "    # include_raw_content=True,\n",
    "    # include_images=True,\n",
    ")"
   ]
  },
  {
   "cell_type": "markdown",
   "metadata": {},
   "source": [
    "#### Ask Human Tools\n"
   ]
  },
  {
   "cell_type": "code",
   "execution_count": 148,
   "metadata": {},
   "outputs": [],
   "source": [
    "class Questions(BaseModel):\n",
    "    question: str\n",
    "    answer: Optional[str] = None\n",
    "\n",
    "\n",
    "@tool\n",
    "def ask_human(questions: List[Questions]):\n",
    "    \"\"\"\n",
    "    Prompts the user with a list of questions and captures their answers.\n",
    "\n",
    "    This function is designed to ask a series of questions to a human and store\n",
    "    their responses. Each question is represented by a dictionary that contains\n",
    "    an optional `id`, the `question` text, and an optional `answer`.\n",
    "\n",
    "    Args:\n",
    "        questions (List[Questions]): A list of question dictionaries. Each dictionary must contain the following keys:\n",
    "            - `question` (str): The question text to be presented to the user.\n",
    "            - `answer` (Optional[str], optional): The user's answer to the question. This is optional and may be left blank if the answer is unknown or pending. A default answer value may also be provided if desired.\n",
    "\n",
    "    Returns:\n",
    "        List[Dict]: A list of dictionaries representing the user's responses. Each dictionary will contain the `id` and `answer` for each question. The `answer` field will hold the user-provided response or remain empty if not provided.\n",
    "    \"\"\"\n",
    "\n",
    "    user_input = interrupt(\n",
    "        value=[\n",
    "            {\"id\": str(uuid.uuid4()), **question.model_dump()} for question in questions\n",
    "        ]\n",
    "    )\n",
    "\n",
    "    return user_input"
   ]
  },
  {
   "cell_type": "markdown",
   "metadata": {},
   "source": [
    "#### Study Scheduling Tools\n"
   ]
  },
  {
   "cell_type": "code",
   "execution_count": 149,
   "metadata": {},
   "outputs": [],
   "source": [
    "class StudySession(BaseModel):\n",
    "    \"\"\"\n",
    "    Represents a study session with details about the subject, time, notes.\n",
    "    \"\"\"\n",
    "\n",
    "    day: str = Field(\n",
    "        description='The day of the week for the study session (e.g., \"Monday\")'\n",
    "    )\n",
    "    subject: str = Field(description='The subject being studied (e.g., \"Math\")')\n",
    "    start_time: str = Field(\n",
    "        description='Start time of the session in \"HH:MM\" format (e.g., \"09:00\")'\n",
    "    )\n",
    "    end_time: str = Field(\n",
    "        description='End time of the session in \"HH:MM\" format (e.g., \"11:00\")'\n",
    "    )\n",
    "    notes: str = Field(\n",
    "        description='Additional notes for the session (e.g., \"Focus on Algebra\")'\n",
    "    )\n",
    "    priority: str = Field(\n",
    "        description='Priority of the study session (e.g., \"High\", \"Medium\", \"Low\")'\n",
    "    )\n",
    "    estimated_completion_time: int = Field(\n",
    "        description=\"Estimated time for completion of the subject in minutes\"\n",
    "    )\n",
    "    study_type: str = Field(\n",
    "        description='Type of study session (e.g., \"Focused\", \"Review\")'\n",
    "    )\n",
    "    status: str = Field(description='Completion status (e.g., \"Completed\", \"Pending\")')\n",
    "    study_notes: Optional[str] = Field(\n",
    "        default=None,\n",
    "        description='Specific study notes for the session (e.g., \"Focus on chapters 3-5\")',\n",
    "    )\n",
    "    available_time_per_day: int = Field(\n",
    "        description=\"Total study time available per day in minutes\"\n",
    "    )\n",
    "\n",
    "\n",
    "@tool\n",
    "def create_study_schedule(\n",
    "    study_sessions: List[StudySession],  # List of StudySession dictionaries\n",
    ") -> List[StudySession]:\n",
    "    \"\"\"\n",
    "    Creates a personalized study schedule based on user preferences, subjects, and available time.\n",
    "\n",
    "    This function takes a list of study sessions, calculates the required time for each, and creates a study\n",
    "    schedule based on the available time per day. It also ensures that the number of sessions does not exceed\n",
    "    the available time, provides a break between consecutive study sessions, and includes warnings when the\n",
    "    available time is insufficient for all sessions.\n",
    "\n",
    "    Args:\n",
    "        study_sessions (List[StudySession]): A list of dictionaries, each representing a study session. Each dictionary must contain the following keys:\n",
    "            - 'day': The day of the week for the study session (e.g., \"Monday\").\n",
    "            - 'subject': The subject being studied (e.g., \"Math\").\n",
    "            - 'start_time': The start time of the session in \"HH:MM\" format.\n",
    "            - 'end_time': The end time of the session in \"HH:MM\" format.\n",
    "            - 'notes': Additional notes for the session (e.g., \"Focus on Algebra\").\n",
    "            - 'priority': The priority of the session (e.g., \"High\", \"Medium\", \"Low\").\n",
    "            - 'estimated_completion_time': The estimated duration for completing the session in minutes.\n",
    "            - 'study_type': The type of session (e.g., \"Focused\", \"Review\").\n",
    "            - 'status': The completion status of the session (e.g., \"Completed\", \"Pending\").\n",
    "            - 'study_notes': Specific study notes for the session (optional).\n",
    "            - 'available_time_per_day': The total study time available per day in minutes.\n",
    "\n",
    "    Returns:\n",
    "        List[StudySession]: A list of dictionaries representing the generated study schedule. Each dictionary contains the following keys:\n",
    "            - 'day': The day of the week for the study session.\n",
    "            - 'subject': The subject being studied.\n",
    "            - 'start_time': The start time of the session in \"HH:MM\" format.\n",
    "            - 'end_time': The end time of the session in \"HH:MM\" format.\n",
    "            - 'notes': Additional notes for the session.\n",
    "            - 'priority': The priority of the session.\n",
    "            - 'estimated_completion_time': The estimated duration for completing the session.\n",
    "            - 'study_type': The type of session.\n",
    "            - 'status': The completion status of the session.\n",
    "            - 'study_notes': Specific study notes for the session.\n",
    "            - 'available_time_per_day': The total study time available per day.\n",
    "            - Breaks: A break is included after each session unless it’s the last session.\n",
    "\n",
    "    Warnings:\n",
    "        - If the total time for all sessions exceeds the available time per day, the function will try to fit as many sessions as possible.\n",
    "        - If there is remaining time after scheduling, a message will be shown to inform the user.\n",
    "    \"\"\"\n",
    "\n",
    "    schedule: List = []\n",
    "    current_day = datetime.now()\n",
    "\n",
    "    for session in study_sessions:\n",
    "        # Parse start_time into a datetime object\n",
    "        start_time = datetime.strptime(session.start_time, \"%H:%M\").replace(\n",
    "            year=current_day.year, month=current_day.month, day=current_day.day\n",
    "        )\n",
    "\n",
    "        # Adjust start time if it has already passed today\n",
    "        if start_time < current_day:\n",
    "            start_time += timedelta(days=1)  # Schedule for the next day\n",
    "\n",
    "        # Calculate end_time based on estimated duration\n",
    "        end_time = start_time + timedelta(minutes=session.estimated_completion_time)\n",
    "\n",
    "        # Create and add the study session to the schedule\n",
    "        new_session = StudySession(\n",
    "            day=start_time.strftime(\"%A\"),\n",
    "            subject=session.subject,\n",
    "            start_time=start_time.strftime(\"%H:%M\"),\n",
    "            end_time=end_time.strftime(\"%H:%M\"),\n",
    "            notes=session.notes,\n",
    "            priority=session.priority,\n",
    "            estimated_completion_time=session.estimated_completion_time,\n",
    "            study_type=session.study_type,\n",
    "            status=session.status,\n",
    "            study_notes=session.study_notes or \"\",  # Use empty string if None\n",
    "            available_time_per_day=session.available_time_per_day,\n",
    "        )\n",
    "\n",
    "        schedule.append(new_session.model_dump())\n",
    "\n",
    "        # Add a break time after each session (unless it's the last session)\n",
    "        if session != study_sessions[-1]:\n",
    "            break_time_start = end_time\n",
    "            break_time_end = break_time_start + timedelta(minutes=15)\n",
    "            break_session = StudySession(\n",
    "                day=start_time.strftime(\"%A\"),\n",
    "                subject=\"Break\",\n",
    "                start_time=break_time_start.strftime(\"%H:%M\"),\n",
    "                end_time=break_time_end.strftime(\"%H:%M\"),\n",
    "                notes=\"Take a 15-minute break\",\n",
    "                priority=\"Low\",\n",
    "                estimated_completion_time=15,\n",
    "                study_type=\"Break\",\n",
    "                status=\"Pending\",\n",
    "                study_notes=\"\",\n",
    "                available_time_per_day=session.available_time_per_day,\n",
    "            )\n",
    "\n",
    "            schedule.append(break_session.model_dump())\n",
    "\n",
    "    return schedule\n",
    "\n",
    "\n",
    "@tool\n",
    "def save_study_schedule_to_markdown(\n",
    "    markdown: str,\n",
    "    file_name: str = \"study_schedule.md\",\n",
    ") -> str:\n",
    "    \"\"\"\n",
    "    Saves the study schedule content into a Markdown file, ensuring proper line breaks and formatting.\n",
    "\n",
    "    Args:\n",
    "        markdown (str): The content in Markdown format to be saved.\n",
    "        file_name (str): The name of the Markdown file where the schedule will be saved (default is 'study_schedule.md').\n",
    "\n",
    "    Returns:\n",
    "        str: Success Messages\n",
    "    \"\"\"\n",
    "    try:\n",
    "        # Ensure line breaks are properly handled and formatting is correct\n",
    "        formatted_markdown = markdown.replace(\"\\\\n\", \"\\n\")  # Ensure proper line breaks\n",
    "\n",
    "        # Open the file in write mode and save the Markdown content\n",
    "        with open(file_name, mode=\"w\") as file:\n",
    "            file.write(formatted_markdown)\n",
    "        return f\"Study schedule saved successfully to {file_name}\"\n",
    "\n",
    "    except PermissionError:\n",
    "        print(f\"Error: Permission denied when trying to write to {file_name}.\")\n",
    "    except FileNotFoundError:\n",
    "        print(f\"Error: Directory or file path {file_name} not found.\")\n",
    "    except Exception as e:\n",
    "        print(f\"Error saving study schedule: {e}\")\n",
    "\n",
    "\n",
    "@tool\n",
    "def save_study_schedule_to_csv(\n",
    "    schedule_data: List[StudySession],\n",
    "    file_name: str = \"study_schedule.csv\",\n",
    "    field_names: List[str] = [\n",
    "        \"day\",\n",
    "        \"subject\",\n",
    "        \"start_time\",\n",
    "        \"end_time\",\n",
    "        \"notes\",\n",
    "        \"priority\",\n",
    "        \"estimated_completion_time\",\n",
    "        \"study_type\",\n",
    "        \"status\",\n",
    "        \"study_notes\",\n",
    "        \"available_time_per_day\",\n",
    "    ],\n",
    ") -> str:\n",
    "    \"\"\"\n",
    "    Saves the study schedule to a CSV file.\n",
    "\n",
    "    Args:\n",
    "        schedule_data (List[StudySession]): A list of dictionaries, each representing a study session. Each dictionary must contain the following keys:\n",
    "            - 'day': The day of the week for the study session (e.g., \"Monday\").\n",
    "            - 'subject': The subject being studied (e.g., \"Math\").\n",
    "            - 'start_time': The start time of the session in \"HH:MM\" format.\n",
    "            - 'end_time': The end time of the session in \"HH:MM\" format.\n",
    "            - 'notes': Additional notes for the session (e.g., \"Focus on Algebra\").\n",
    "            - 'priority': The priority of the session (e.g., \"High\", \"Medium\", \"Low\").\n",
    "            - 'estimated_completion_time': The estimated duration for completing the session in minutes.\n",
    "            - 'study_type': The type of session (e.g., \"Focused\", \"Review\").\n",
    "            - 'status': The completion status of the session (e.g., \"Completed\", \"Pending\").\n",
    "            - 'study_notes': Specific study notes for the session (optional).\n",
    "            - 'available_time_per_day': The total study time available per day in minutes.\n",
    "        file_name (str): The name of the CSV file where the schedule will be saved (default is 'study_schedule.csv').\n",
    "        field_names (List[str]): The column names for the CSV file (default is [\"day\",\"subject\",\"start_time\",\"end_time\",\"notes\",\"priority\",\"estimated_completion_time\",\"study_type\",\"status\",\"study_notes\",\"available_time_per_day\"]).\n",
    "\n",
    "    Returns:\n",
    "        str: Success Messages\n",
    "    \"\"\"\n",
    "\n",
    "    # Dynamically fetch required keys from StudySession TypedDict\n",
    "    required_keys = set(StudySession.__annotations__.keys())  # Set of required keys\n",
    "\n",
    "    for session in schedule_data:\n",
    "        if not required_keys.issubset(session.model_dump().keys()):\n",
    "            raise ValueError(\n",
    "                f\"Each schedule entry must contain the following keys: {', '.join(required_keys)}\"\n",
    "            )\n",
    "\n",
    "    try:\n",
    "        with open(file_name, mode=\"w\", newline=\"\") as file:\n",
    "            writer = csv.DictWriter(file, fieldnames=field_names)\n",
    "            writer.writeheader()\n",
    "\n",
    "            # Handling falsy or empty values for any field in the session\n",
    "            for session in schedule_data:\n",
    "                session_dict = (\n",
    "                    session.model_copy().model_dump()\n",
    "                )  # Create a copy of the session to avoid modifying the original\n",
    "\n",
    "                # Iterate through each field and handle falsy or empty values\n",
    "                for key, value in session_dict.items():\n",
    "                    if value in (None, \"\", [], {}, 0, False):  # Check for falsy values\n",
    "                        if key == \"study_notes\":\n",
    "                            session_dict[key] = (\n",
    "                                \"\"  # Empty study_notes should be an empty string\n",
    "                            )\n",
    "                        else:\n",
    "                            session_dict[key] = (\n",
    "                                \"N/A\"  # Default for other fields (e.g., \"N/A\" or 0)\n",
    "                            )\n",
    "\n",
    "                # Write the session row\n",
    "                writer.writerow(session_dict)\n",
    "\n",
    "        return f\"Study schedule saved successfully to {file_name}\"\n",
    "    except PermissionError:\n",
    "        print(f\"Error: Permission denied when trying to write to {file_name}.\")\n",
    "    except FileNotFoundError:\n",
    "        print(f\"Error: File {file_name} not found.\")\n",
    "    except Exception as e:\n",
    "        print(f\"Error saving study schedule: {e}\")"
   ]
  },
  {
   "cell_type": "markdown",
   "metadata": {},
   "source": [
    "#### Memory Tools"
   ]
  },
  {
   "cell_type": "code",
   "execution_count": 150,
   "metadata": {},
   "outputs": [],
   "source": [
    "@tool\n",
    "def upsert_memory(\n",
    "    memory: MemoryType,\n",
    "    *,\n",
    "    memory_id: Optional[Union[str, uuid.UUID]] = None,\n",
    "    # Hide these arguments from the model.\n",
    "    config: Annotated[RunnableConfig, InjectedToolArg],\n",
    "    store: Annotated[BaseStore, InjectedStore],\n",
    "):\n",
    "    \"\"\"Upsert a memory in the database.\n",
    "\n",
    "    If a memory conflicts with an existing one, then just UPDATE the\n",
    "    existing one by passing in memory_id - don't create two memories\n",
    "    that are the same. If the user corrects a memory, UPDATE it.\n",
    "\n",
    "    Args:\n",
    "        memory (MemoryType): A memory dictionary containing the following keys: \n",
    "            - `content`: The main content of the memory. For example: \"User expressed interest in learning about French.\"\n",
    "            - `context`: Additional context for the memory. For example: \"This was mentioned while discussing career options in Europe.\"\n",
    "        memory_id: ONLY PROVIDE IF UPDATING AN EXISTING MEMORY. The memory to overwrite.\n",
    "    \"\"\"\n",
    "    mem_id = memory_id or uuid.uuid4()\n",
    "    user_id = config[\"configurable\"].get(\"user_id\")\n",
    "    store.put(\n",
    "        (NAMESPACE_NAME, user_id),\n",
    "        key=str(mem_id),\n",
    "        value=memory.model_dump()\n",
    "    )\n",
    "    return f\"Stored memory {mem_id}\"\n",
    "\n",
    "\n",
    "@tool\n",
    "def delete_memory(\n",
    "    memory_id: uuid.UUID | str,\n",
    "    config: RunnableConfig,\n",
    "    store: Annotated[BaseStore, InjectedToolArg],\n",
    ") -> str:\n",
    "    \"\"\"\n",
    "    Delete a memory from the database by its ID.\n",
    "    This function removes a specific memory from the store based on the provided\n",
    "    memory ID. The memory ID must exist in the store for the deletion to be successful.\n",
    "\n",
    "    Args:\n",
    "        memory_id (uuid.UUID | str): The ID of the memory to delete.\n",
    "\n",
    "    Returns:\n",
    "        str: A message confirming whether the memory was successfully deleted or if the memory ID was not found.\n",
    "    \"\"\"\n",
    "\n",
    "    user_id = config[\"configurable\"].get(\"user_id\")\n",
    "    memory_key = str(memory_id)\n",
    "\n",
    "    # Check if the memory exists before deleting\n",
    "    memory = store.get((NAMESPACE_NAME, user_id), key=memory_key)\n",
    "\n",
    "    if memory:\n",
    "        store.delete((NAMESPACE_NAME, user_id), key=memory_key)\n",
    "        return f\"Memory {memory_id} successfully deleted.\"\n",
    "    else:\n",
    "        return f\"Memory {memory_id} not found.\""
   ]
  },
  {
   "cell_type": "markdown",
   "metadata": {},
   "source": [
    "#### All Available Tools\n"
   ]
  },
  {
   "cell_type": "code",
   "execution_count": 151,
   "metadata": {},
   "outputs": [],
   "source": [
    "tools = [\n",
    "    tavily_search_tool,\n",
    "    ask_human,\n",
    "    create_study_schedule,\n",
    "    save_study_schedule_to_csv,\n",
    "    save_study_schedule_to_markdown,\n",
    "    upsert_memory,\n",
    "    delete_memory,\n",
    "]\n",
    "\n",
    "model_with_tools = model.bind_tools(tools=tools)"
   ]
  },
  {
   "cell_type": "markdown",
   "metadata": {},
   "source": [
    "### UTILS\n"
   ]
  },
  {
   "cell_type": "code",
   "execution_count": 166,
   "metadata": {},
   "outputs": [],
   "source": [
    "def invoke_chat_template(\n",
    "    model: BaseChatModel,\n",
    "    template: str,\n",
    "    template_data: dict[str, Any],\n",
    ") -> BaseMessage:\n",
    "    \"\"\"Invoke the chat template with the provided tenplate data and return the response.\"\"\"\n",
    "    prompt = ChatPromptTemplate.from_template(template)\n",
    "    chain = prompt | model\n",
    "    result = chain.invoke(template_data)\n",
    "    return result\n",
    "\n",
    "\n",
    "def stream_agent(\n",
    "    agent: CompiledStateGraph,\n",
    "    input_value: Dict | List[Dict],\n",
    "    config: RunnableConfig,\n",
    "    debug: bool = False,\n",
    "):\n",
    "    \"\"\"\n",
    "    A function to interact with an agent in a streaming manner, handling updates and messages\n",
    "    during the stream. The function facilitates communication with the agent by providing\n",
    "    answers to questions when prompted and displaying messages based on specific conditions.\n",
    "\n",
    "    Args:\n",
    "        agent (CompiledStateGraph):\n",
    "            The compiled state graph representing the agent's behavior or knowledge graph.\n",
    "            This is used to drive the state transitions and handle the stream processing.\n",
    "\n",
    "        input_value (Dict | List[Dict]):\n",
    "            The input data that is passed to the agent. This can either be a single dictionary or\n",
    "            a list of dictionaries. These inputs are processed by the agent to generate stream outputs.\n",
    "\n",
    "        config (RunnableConfig):\n",
    "            The configuration object that governs how the agent runs. This may include settings\n",
    "            related to execution parameters, logging, error handling, and any other agent-specific configurations.\n",
    "\n",
    "        debug (bool):\n",
    "            If True, enables detailed logging for debugging purposes.\n",
    "\n",
    "    Returns:\n",
    "        None: This function is designed to interact with the agent and display messages interactively.\n",
    "              It doesn't return a value but may perform side effects such as displaying output.\n",
    "    \"\"\"\n",
    "    message = \"\"\n",
    "    for stream_mode, data in agent.stream(\n",
    "        input=input_value,\n",
    "        config=config,\n",
    "        stream_mode=[\"updates\", \"messages\"],\n",
    "        debug=debug,\n",
    "    ):\n",
    "        interrupt = (\n",
    "            data.get(\"__interrupt__\", None)\n",
    "            if isinstance(data, dict) and stream_mode == \"updates\"\n",
    "            else None\n",
    "        )\n",
    "\n",
    "        if stream_mode == \"updates\" and interrupt and len(interrupt) > 0:\n",
    "            questions = interrupt[0].value\n",
    "            questions_with_ans = []\n",
    "            for question in questions:\n",
    "                user_input = input(question.get(\"question\", \"\"))\n",
    "\n",
    "                questions_with_ans.append({**question, \"answer\": user_input})\n",
    "\n",
    "            stream_agent(\n",
    "                agent=agent,\n",
    "                config=config,\n",
    "                input_value=Command(resume=questions_with_ans),\n",
    "            )\n",
    "\n",
    "        elif (\n",
    "            stream_mode == \"messages\"\n",
    "            and data[-1].get(\"langgraph_node\") == \"handle_user_query\"\n",
    "            and data[0].content\n",
    "            and isinstance(data[0], (AIMessage, AIMessageChunk))\n",
    "        ):\n",
    "            message += data[0].content  # Append content without a newline\n",
    "            clear_output(True)\n",
    "            display(Markdown(message))  # Display the message as Markdown"
   ]
  },
  {
   "cell_type": "markdown",
   "metadata": {},
   "source": [
    "### NODES\n"
   ]
  },
  {
   "cell_type": "markdown",
   "metadata": {},
   "source": [
    "#### Tool Node\n"
   ]
  },
  {
   "cell_type": "code",
   "execution_count": 167,
   "metadata": {},
   "outputs": [],
   "source": [
    "# Tool Node\n",
    "tool_node = ToolNode(tools)"
   ]
  },
  {
   "cell_type": "markdown",
   "metadata": {},
   "source": [
    "#### Memory Nodes\n"
   ]
  },
  {
   "cell_type": "code",
   "execution_count": 168,
   "metadata": {},
   "outputs": [],
   "source": [
    "def get_memory_node(\n",
    "    state: OverallState,\n",
    "    config: RunnableConfig,\n",
    "    store: BaseStore,\n",
    ") -> OverallState:\n",
    "    \"\"\"Retrieve memories associated with a user based on a query.\"\"\"\n",
    "    user_id = config[\"configurable\"].get(\"user_id\")\n",
    "\n",
    "    memories = store.search(\n",
    "        (NAMESPACE_NAME, user_id),\n",
    "        query=str([m.content for m in state[\"messages\"][-3:]]),\n",
    "        limit=10,\n",
    "    )\n",
    "\n",
    "    # Format memories for inclusion in the prompt\n",
    "    formatted_memories = \"\\n\".join(\n",
    "        f\"[{mem.key}]: {mem.value} (similarity: {mem.score})\" for mem in memories\n",
    "    )\n",
    "\n",
    "    if formatted_memories:\n",
    "        formatted_memories = f\"\"\"\n",
    "<memories>\n",
    "{formatted_memories}\n",
    "</memories>\n",
    "\"\"\"\n",
    "\n",
    "    return {\"memories\": formatted_memories}\n",
    "\n",
    "\n",
    "class ParsedMemory(BaseModel):\n",
    "    memory_id: Optional[str] = None\n",
    "    memory: MemoryType\n",
    "\n",
    "\n",
    "def update_memory_node(\n",
    "    state: OverallState,\n",
    "    config: RunnableConfig,\n",
    "    store: BaseStore,\n",
    ") -> OverallState:\n",
    "    summary = state.get(\"summary\", \"\")\n",
    "    memories = state.get(\"memories\", \"\")\n",
    "    user_query = state.get(\"query\", \"\")\n",
    "    history = summary if summary else state.get(\"messages\", [])\n",
    "\n",
    "    user_id = config[\"configurable\"].get(\"user_id\")\n",
    "    namespace = (NAMESPACE_NAME, user_id)\n",
    "\n",
    "    parser = PydanticOutputParser(pydantic_object=ParsedMemory)\n",
    "\n",
    "    # Create our memories prompt\n",
    "    memories_message = ChatPromptTemplate.from_template(\n",
    "        \"This is the current user's memory namespace: {namespace}\\n\\n\"\n",
    "        \"This is summary or history of the conversation to date: {history}\\n\\n\"\n",
    "        \"This is the latest user query: {user_query}\\n\\n\"\n",
    "        \"These are the memories of the user based on the latest query: {memories}\\n\\n\"\n",
    "        \"If a memory conflicts with an existing one, then just UPDATE the existing one by passing in memory_id - don't create two memories that are the same.\"\n",
    "        \"Now based on the above if you think that the current memories should be updated or a new memory should be added then return the new or updated memory in the following Format:\"\n",
    "        \"\"\"\n",
    "        {format_instructions}\n",
    "        \"\"\"\n",
    "        \"EXAMPLES:\"\n",
    "        \" - Creating a New Memory:\"\n",
    "        \"\"\"\n",
    "        {{\n",
    "          \"memory\": {{\n",
    "            \"content\": \"User expressed interest in learning about French.\",\n",
    "            \"context\": \"This was mentioned while discussing career options in Europe.\",\n",
    "            ...other_fields\n",
    "          }}\n",
    "        }}\n",
    "        \"\"\"\n",
    "        \" - Updating a Memory:\"\n",
    "        \"\"\"\n",
    "        {{\n",
    "          \"memory_id\": \"...\",\n",
    "          \"memory\": {{\n",
    "            \"content\": \"User expressed interest in learning about French.\",\n",
    "            \"context\": \"This was mentioned while discussing career options in Europe.\",\n",
    "            ...other_fields\n",
    "          }}\n",
    "        }}\n",
    "        \"\"\"\n",
    "    ).format(\n",
    "        format_instructions=parser.get_format_instructions(),\n",
    "        history=history,\n",
    "        memories=memories,\n",
    "        user_query=user_query,\n",
    "        namespace=str(namespace),\n",
    "    )\n",
    "\n",
    "    response = model.invoke(memories_message)\n",
    "\n",
    "    parsed_response = parser.parse(response.content)\n",
    "\n",
    "    mem_id = parsed_response.memory_id or uuid.uuid4()\n",
    "    mem_type = parsed_response.memory_type or \"general\"\n",
    "    store.put(\n",
    "        namespace,\n",
    "        key=str(mem_id),\n",
    "        value={  # Store memory with its type\n",
    "            \"memory_type\": str(mem_type),\n",
    "            \"memory_data\": parsed_response.model_dump().get(\"memory\"),\n",
    "        },\n",
    "    )\n",
    "\n",
    "    return {\"memories\": state.get(\"memories\")}"
   ]
  },
  {
   "cell_type": "markdown",
   "metadata": {},
   "source": [
    "#### Input Node\n"
   ]
  },
  {
   "cell_type": "code",
   "execution_count": 169,
   "metadata": {},
   "outputs": [],
   "source": [
    "def input_node(state: InputState) -> OverallState:\n",
    "    user_query = state.get(\"query\")\n",
    "    # Return the result as a response\n",
    "    return {\"messages\": [HumanMessage(content=user_query)], \"query\": \"\"}"
   ]
  },
  {
   "cell_type": "markdown",
   "metadata": {},
   "source": [
    "#### Handle User Query Node\n"
   ]
  },
  {
   "cell_type": "code",
   "execution_count": 170,
   "metadata": {},
   "outputs": [],
   "source": [
    "system_prompt = ChatPromptTemplate.from_template(\n",
    "    \"\"\"\n",
    "You are Study Buddy AI, an intelligent assistant designed to support students with their study plans, research, and problem-solving tasks. Your core capabilities include:\n",
    "\n",
    "1. **Tool Assistance**: Utilize external tools such as Study Scheduler, math solvers, calendar APIs, Web Search, and knowledge bases to provide accurate, actionable, and tailored solutions.\n",
    "2. **Web Search**: Use external tools like Tavily Web Search to find relevant reference materials for the user.\n",
    "3. **Human-in-the-Loop (HITL)**: Whenever you need to get human input or clarification, always use the **ask human** tool. Make sure to gather all necessary details in a single request to avoid multiple interactions. Avoid assumptions and ask for precise, unambiguous information.\n",
    "4. **Personalized Support**: Use memory to provide tailored responses, such as recalling exam dates, preferred study times, and previous topics covered.\n",
    "5. **Agentic RAG (Retrieval-Augmented Generation)**: Retrieve contextually relevant information from knowledge bases and other tools to generate accurate, concise answers.\n",
    "\n",
    "### BEHAVIORAL GUIDELINES:\n",
    "- Be polite, clear, and concise in your responses.\n",
    "- Ensure accuracy and ask for clarification if needed to avoid misunderstandings.\n",
    "- Provide detailed explanations, especially when it comes to study concepts or solving problems.\n",
    "- Always provide educational insights to help the user understand, not just the answer.\n",
    "- When planning or scheduling, ask about topics to cover, time availability, and any constraints or preferences related to the study routine using the **ask human** tool.\n",
    "- If the user has no preferences or details, create an optimal study schedule based on best practices.\n",
    "- For ambiguous or complex queries, **pause and use the ask human tool** to involve a human assistant.\n",
    "\n",
    "### REQUIREMENTS:\n",
    "- If there is missing or unclear information (e.g., study preferences, specific topics, or scheduling constraints), you must **ask human** to clarify.\n",
    "- If you need to gather multiple pieces of information, **ask human** should include all necessary details in one message.\n",
    "- ALWAYS USE THE **ask human** to take any kind of input or information from the user and always ask precise questions to avoid multiple rounds of clarification.\n",
    "- If you have already asked for user input and you still need more information you can invoke the ask human tool again.\n",
    "- DO NOT EVER DO TOOL CALLING IN PARALLEL.\n",
    "- The content can NEVER be ONLY '\\n' either leave it empty or add someting.\n",
    "\n",
    "### EXAMPLES:\n",
    "\n",
    "#### Human: \"What is Langgraph?\"\n",
    "- **Tool Call**: Use tools to search the web and gather content.\n",
    "- **AI**: \"Langgraph is an AI framework designed to...\"\n",
    "\n",
    "#### Human: \"Please create a study schedule for me.\"\n",
    "- **Tool Call (ask human)**: \n",
    "  - AI: \"In order to create a personalized study schedule for you, I'll need a few details. Please answer the following:\n",
    "         **Asks the user all the details needed to create a schedule.**\n",
    "- **AI (after receiving user input)**: \n",
    "  - **Tool Call**: calls the create study schedule to create schedule.\n",
    "  - AI: \"Here is your Study schedule...\"\n",
    "\n",
    "#### Human: \"Please save that schedule in a (markdown|csv) file.\"\n",
    "- **Tool Call**: Save the study schedule in (markdown|csv) format.\n",
    "- **AI (using tool message)**: \"I have successfully saved your study schedule in (markdown|csv) format. Let me know if you need any further adjustments.\"\n",
    "\n",
    "#### Human: \"What is my name?\"\n",
    "- **AI**: \"I'm sorry, but I don’t know your name yet. Could you please share it with me so I can address you properly in future conversations?\"\n",
    "\n",
    "### MEMORIES\n",
    "{memories}\n",
    "\n",
    "### SUMMARY\n",
    "{summary}\n",
    "\n",
    "System Time: {time}\n",
    "\"\"\"\n",
    ")\n",
    "\n",
    "\n",
    "def handle_user_query_node(state: OverallState) -> OverallState:\n",
    "    \"\"\"\n",
    "    Calls the model with the correct input state, integrating all messages (including tool calls and prior responses)\n",
    "    to ensure the model has the full context.\n",
    "    \"\"\"\n",
    "\n",
    "    # Retrieve the conversation history and user query\n",
    "    messages = state.get(\"messages\", [])\n",
    "    summary = state.get(\"summary\", \"\")\n",
    "    memories = state.get(\"memories\", \"\")\n",
    "\n",
    "    # Construct the system message with the summary and memories (if available)\n",
    "    system_message = SystemMessage(\n",
    "        content=system_prompt.format(\n",
    "            summary=summary,  # Include summary context if available\n",
    "            memories=memories,  # Include memory context if available\n",
    "            time=datetime.now().isoformat(),\n",
    "        )\n",
    "    )\n",
    "\n",
    "    # Combine system message, prior tool messages\n",
    "    # Ensure all relevant messages are included in the context\n",
    "    all_messages = [system_message] + messages\n",
    "\n",
    "    # Call the model with the full message history (system message, tool messages, and user query)\n",
    "    result = model_with_tools.invoke(all_messages)\n",
    "\n",
    "    if result.tool_calls:\n",
    "        result = AIMessage(**result.model_dump(exclude=[\"content\"]), content=\"\")\n",
    "\n",
    "    # Return the result as a response\n",
    "    return {\"messages\": [result]}"
   ]
  },
  {
   "cell_type": "markdown",
   "metadata": {},
   "source": [
    "#### Summarization Node\n"
   ]
  },
  {
   "cell_type": "code",
   "execution_count": 171,
   "metadata": {},
   "outputs": [],
   "source": [
    "def summarization_node(state: OverallState) -> OverallState:\n",
    "    # First, we get any existing summary\n",
    "    summary = state.get(\"summary\")\n",
    "    messages = state.get(\"messages\")\n",
    "\n",
    "    # Create our summarization prompt\n",
    "    if summary:\n",
    "        # A summary already exists\n",
    "        summary_message = (\n",
    "            f\"This is summary of the conversation to date: {summary}\\n\\n\"\n",
    "            \"Extend the summary by taking into account the new messages above:\"\n",
    "        )\n",
    "\n",
    "    else:\n",
    "        summary_message = \"Create a summary of the conversation above:\"\n",
    "\n",
    "    if len(messages) > 6:\n",
    "        # Add prompt to our history\n",
    "        messages = messages + [HumanMessage(content=summary_message)]\n",
    "        response = model.invoke(messages)\n",
    "        # Delete all but the 2 most recent messages\n",
    "        delete_messages = [RemoveMessage(id=m.id or \"\") for m in messages[:-2]]\n",
    "\n",
    "        return {\n",
    "            \"summary\": response.content,\n",
    "            \"messages\": delete_messages,\n",
    "        }\n",
    "\n",
    "    else:\n",
    "        return {\"summary\": \"\"}"
   ]
  },
  {
   "cell_type": "markdown",
   "metadata": {},
   "source": [
    "#### Output Node\n"
   ]
  },
  {
   "cell_type": "code",
   "execution_count": 172,
   "metadata": {},
   "outputs": [],
   "source": [
    "def output_node(state: OverallState) -> OutputState:\n",
    "    return {\"response\": state[\"messages\"][-1]}"
   ]
  },
  {
   "cell_type": "markdown",
   "metadata": {},
   "source": [
    "### AGENT COMPILATION\n"
   ]
  },
  {
   "cell_type": "code",
   "execution_count": 173,
   "metadata": {},
   "outputs": [],
   "source": [
    "# Create the graph\n",
    "workflow = StateGraph(OverallState, input=InputState, output=OutputState)\n",
    "\n",
    "# Add nodes\n",
    "workflow.add_node(\"input\", input_node)\n",
    "workflow.add_node(\"handle_user_query\", handle_user_query_node)\n",
    "workflow.add_node(\"get_memory\", get_memory_node)\n",
    "workflow.add_node(\"tools\", tool_node)\n",
    "workflow.add_node(\"summarization\", summarization_node)\n",
    "workflow.add_node(\"finalize_output\", output_node)\n",
    "# workflow.add_node(\"update_memory\", update_memory_node)\n",
    "\n",
    "# Add edges\n",
    "workflow.add_edge(START, \"input\")\n",
    "workflow.add_edge(\"input\", \"get_memory\")\n",
    "workflow.add_edge(\"get_memory\", \"handle_user_query\")\n",
    "workflow.add_conditional_edges(\n",
    "    \"handle_user_query\", tools_condition, {\"tools\": \"tools\", END: END}\n",
    ")\n",
    "workflow.add_edge(\"tools\", \"handle_user_query\")\n",
    "workflow.add_edge(\"handle_user_query\", \"summarization\")\n",
    "workflow.add_edge(\"summarization\", \"finalize_output\")\n",
    "# workflow.add_edge(\"update_memory\", \"finalize_output\")\n",
    "workflow.add_edge(\"finalize_output\", END)\n",
    "\n",
    "# Compile the graph\n",
    "agent = workflow.compile(checkpointer=checkpointer, store=in_memory_store)"
   ]
  },
  {
   "cell_type": "code",
   "execution_count": 174,
   "metadata": {},
   "outputs": [
    {
     "data": {
      "image/png": "[encoded data removed]",
      "text/plain": [
       "<IPython.core.display.Image object>"
      ]
     },
     "execution_count": 174,
     "metadata": {},
     "output_type": "execute_result"
    }
   ],
   "source": [
    "Image(agent.get_graph().draw_mermaid_png())"
   ]
  },
  {
   "cell_type": "markdown",
   "metadata": {},
   "source": [
    "### TESTING SCENARIOIS\n"
   ]
  },
  {
   "cell_type": "code",
   "execution_count": 175,
   "metadata": {},
   "outputs": [],
   "source": [
    "# We would generally get the user_id from the authenticated User\n",
    "user_id = str(uuid.uuid4())"
   ]
  },
  {
   "cell_type": "markdown",
   "metadata": {},
   "source": [
    "#### NEED REFERENCE MATERIALS FOR LEARNING?\n"
   ]
  },
  {
   "cell_type": "code",
   "execution_count": 96,
   "metadata": {},
   "outputs": [],
   "source": [
    "config = {\"configurable\": {\"thread_id\": \"1\", \"user_id\": str(user_id)}}"
   ]
  },
  {
   "cell_type": "code",
   "execution_count": 97,
   "metadata": {},
   "outputs": [
    {
     "data": {
      "text/markdown": [
       "Okay, I found a few resources that should help you get started with Langgraph:\n",
       "\n",
       "1.  **LangGraph Quickstart**: This tutorial from the official Langchain documentation guides you through building a chatbot that uses tools and keeps track of conversation history. It also covers human-in-the-loop capabilities and time-travel features.\n",
       "    [https://langchain-ai.github.io/langgraph/tutorials/](https://langchain-ai.github.io/langgraph/tutorials/)\n",
       "2.  **Introduction to LangGraph: A Beginner's Guide**: This article provides an overview of LangGraph's core concepts and includes simple examples to help beginners understand how to use it for building stateful applications with LLMs.\n",
       "    [https://medium.com/@cplog/introduction-to-langgraph-a-beginners-guide-14f9be027141](https://medium.com/@cplog/introduction-to-langgraph-a-beginners-guide-14f9be027141)\n",
       "3.  **Getting Started with LangGraph: A Practical Guide for Beginners**: This guide explains the basics of LangGraph, why it's useful, and how to set it up.\n",
       "    [https://toxigon.com/getting-started-with-langgraph](https://toxigon.com/getting-started-with-langgraph)\n",
       "\n",
       "These resources should provide a good starting point for learning Langgraph. Let me know if you have any other questions or need further assistance!\n"
      ],
      "text/plain": [
       "<IPython.core.display.Markdown object>"
      ]
     },
     "metadata": {},
     "output_type": "display_data"
    }
   ],
   "source": [
    "stream_agent(\n",
    "    agent=agent,\n",
    "    config=config,\n",
    "    input_value={\n",
    "        \"query\": \"Hi, I am trying to Learn Langgraph, can you please find some reference material for me to get Started?\"\n",
    "    },\n",
    ")"
   ]
  },
  {
   "cell_type": "markdown",
   "metadata": {},
   "source": [
    "#### TESTING PERSISTANCE\n"
   ]
  },
  {
   "cell_type": "code",
   "execution_count": 98,
   "metadata": {},
   "outputs": [],
   "source": [
    "config = {\"configurable\": {\"thread_id\": \"1\", \"user_id\": str(user_id)}}"
   ]
  },
  {
   "cell_type": "code",
   "execution_count": 99,
   "metadata": {},
   "outputs": [
    {
     "data": {
      "text/markdown": [
       "You previously asked me to find some reference material to help you get started with learning Langgraph.\n"
      ],
      "text/plain": [
       "<IPython.core.display.Markdown object>"
      ]
     },
     "metadata": {},
     "output_type": "display_data"
    }
   ],
   "source": [
    "stream_agent(\n",
    "    agent=agent,\n",
    "    config=config,\n",
    "    input_value={\"query\": \"Please Tell me what i said before\"},\n",
    ")"
   ]
  },
  {
   "cell_type": "markdown",
   "metadata": {},
   "source": [
    "#### TESTING MEMORY\n"
   ]
  },
  {
   "cell_type": "code",
   "execution_count": 119,
   "metadata": {},
   "outputs": [],
   "source": [
    "config = {\"configurable\": {\"thread_id\": \"5\", \"user_id\": str(user_id)}}"
   ]
  },
  {
   "cell_type": "code",
   "execution_count": 120,
   "metadata": {},
   "outputs": [
    {
     "data": {
      "text/markdown": [
       "\n",
       "Hi Moosa, it's great to hear from you again! I remember you mentioned that you love Langgraph. Is there anything specific you'd like to discuss or work on today related to Langgraph or any other topic?\n"
      ],
      "text/plain": [
       "<IPython.core.display.Markdown object>"
      ]
     },
     "metadata": {},
     "output_type": "display_data"
    }
   ],
   "source": [
    "stream_agent(\n",
    "    agent=agent,\n",
    "    config=config,\n",
    "    input_value={\"query\": \"Hi, I am Moosa and i love langgraph\"},\n",
    ")"
   ]
  },
  {
   "cell_type": "code",
   "execution_count": 121,
   "metadata": {},
   "outputs": [],
   "source": [
    "config = {\"configurable\": {\"thread_id\": \"111\", \"user_id\": str(user_id)}}"
   ]
  },
  {
   "cell_type": "code",
   "execution_count": 122,
   "metadata": {},
   "outputs": [
    {
     "data": {
      "text/markdown": [
       "I'm sorry, but I don't have access to that information. Could you please share your name with me?\n"
      ],
      "text/plain": [
       "<IPython.core.display.Markdown object>"
      ]
     },
     "metadata": {},
     "output_type": "display_data"
    }
   ],
   "source": [
    "stream_agent(\n",
    "    agent=agent,\n",
    "    config=config,\n",
    "    input_value={\"query\": \"What is my Name?\"},\n",
    ")"
   ]
  },
  {
   "cell_type": "markdown",
   "metadata": {},
   "source": [
    "#### CREATING STUDY SCHEDULE\n"
   ]
  },
  {
   "cell_type": "code",
   "execution_count": 179,
   "metadata": {},
   "outputs": [],
   "source": [
    "config = {\"configurable\": {\"thread_id\": \"12\", \"user_id\": str(user_id)}}"
   ]
  },
  {
   "cell_type": "code",
   "execution_count": 180,
   "metadata": {},
   "outputs": [
    {
     "data": {
      "text/markdown": [
       "Okay, I will create a study schedule for you based on your preferences. You have a Python test on Friday morning, you are available to study in the mornings, and you want to study for at most 3 hours each day. You want to cover all major topics in Python and prefer at least half-hour breaks between study sessions. You also want to include all days until the test from now.\n",
       "\n",
       "Since today is December 28th, 2024, I will create a schedule for today, December 28th, 29th, 30th, 31st, and January 1st.\n",
       "\n",
       "To make the schedule effective, I will allocate 3 hours each day with half-hour breaks between sessions. I will also include a mix of focused study and review sessions.\n",
       "\n",
       "Here is the study schedule:\n",
       "\n",
       "**Saturday, December 28th:**\n",
       "*   **9:00 AM - 10:00 AM:** Focused Study - Python Basics (Data types, variables, operators)\n",
       "*   **10:00 AM - 10:30 AM:** Break\n",
       "*   **10:30 AM - 11:30 AM:** Focused Study - Control Structures (if, for, while loops)\n",
       "*   **11:30 AM - 12:00 PM:** Break\n",
       "*   **12:00 PM - 1:00 PM:** Review - Python Basics and Control Structures\n",
       "\n",
       "**Sunday, December 29th:**\n",
       "*   **9:00 AM - 10:00 AM:** Focused Study - Functions and Modules\n",
       "*   **10:00 AM - 10:30 AM:** Break\n",
       "*   **10:30 AM - 11:30 AM:** Focused Study - Working with Files\n",
       "*   **11:30 AM - 12:00 PM:** Break\n",
       "*   **12:00 PM - 1:00 PM:** Review - Functions, Modules, and File Handling\n",
       "\n",
       "**Monday, December 30th:**\n",
       "*   **9:00 AM - 10:00 AM:** Focused Study - Object-Oriented Programming (Classes, Objects)\n",
       "*   **10:00 AM - 10:30 AM:** Break\n",
       "*   **10:30 AM - 11:30 AM:** Focused Study - Exception Handling\n",
       "*   **11:30 AM - 12:00 PM:** Break\n",
       "*   **12:00 PM - 1:00 PM:** Review - OOP and Exception Handling\n",
       "\n",
       "**Tuesday, December 31st:**\n",
       "*   **9:00 AM - 10:00 AM:** Focused Study - Working with Libraries (e.g., NumPy, Pandas)\n",
       "*   **10:00 AM - 10:30 AM:** Break\n",
       "*   **10:30 AM - 11:30 AM:** Focused Study - Data Structures (Lists, Dictionaries, Tuples)\n",
       "*   **11:30 AM - 12:00 PM:** Break\n",
       "*   **12:00 PM - 1:00 PM:** Review - Libraries and Data Structures\n",
       "\n",
       "**Wednesday, January 1st:**\n",
       "*   **9:00 AM - 10:00 AM:** Practice - Solving coding problems\n",
       "*   **10:00 AM - 10:30 AM:** Break\n",
       "*   **10:30 AM - 11:30 AM:** Review - All topics\n",
       "*   **11:30 AM - 12:00 PM:** Break\n",
       "*   **12:00 PM - 1:00 PM:** Practice - Mock test\n",
       "\n",
       "**Thursday, January 2nd:**\n",
       "*   **9:00 AM - 10:00 AM:** Final Review - Quick review of all topics\n",
       "*   **10:00 AM - 10:30 AM:** Break\n",
       "*   **10:30 AM - 11:30 AM:** Practice - Mock test\n",
       "*   **11:30 AM - 12:00 PM:** Break\n",
       "*   **12:00 PM - 1:00 PM:** Relax and prepare for the test\n",
       "\n",
       "I will now save this schedule to a markdown file.\n",
       "\n",
       "Okay, I've created a study schedule for you, focusing on major Python topics and including breaks. The schedule is saved in `study_schedule.md`. Let me know if you need any adjustments!\n"
      ],
      "text/plain": [
       "<IPython.core.display.Markdown object>"
      ]
     },
     "metadata": {},
     "output_type": "display_data"
    }
   ],
   "source": [
    "stream_agent(\n",
    "    agent=agent,\n",
    "    config=config,\n",
    "    input_value={\n",
    "        \"query\": \"Hi, I Like python very much and have a python test upcoming on friday, please create a study schedule for me\"\n",
    "    },\n",
    ")"
   ]
  },
  {
   "cell_type": "code",
   "execution_count": 181,
   "metadata": {},
   "outputs": [
    {
     "data": {
      "text/plain": [
       "{'query': '',\n",
       " 'response': AIMessage(content=\"Okay, I've created a study schedule for you, focusing on major Python topics and including breaks. The schedule is saved in `study_schedule.md`. Let me know if you need any adjustments!\\n\", additional_kwargs={}, response_metadata={'safety_ratings': [{'category': 'HARM_CATEGORY_HATE_SPEECH', 'probability': 'NEGLIGIBLE', 'blocked': False}, {'category': 'HARM_CATEGORY_DANGEROUS_CONTENT', 'probability': 'NEGLIGIBLE', 'blocked': False}, {'category': 'HARM_CATEGORY_HARASSMENT', 'probability': 'NEGLIGIBLE', 'blocked': False}, {'category': 'HARM_CATEGORY_SEXUALLY_EXPLICIT', 'probability': 'NEGLIGIBLE', 'blocked': False}, {'category': 'HARM_CATEGORY_HATE_SPEECH', 'probability': 'NEGLIGIBLE', 'blocked': False}, {'category': 'HARM_CATEGORY_DANGEROUS_CONTENT', 'probability': 'NEGLIGIBLE', 'blocked': False}, {'category': 'HARM_CATEGORY_HARASSMENT', 'probability': 'NEGLIGIBLE', 'blocked': False}, {'category': 'HARM_CATEGORY_SEXUALLY_EXPLICIT', 'probability': 'NEGLIGIBLE', 'blocked': False}, {'category': 'HARM_CATEGORY_HATE_SPEECH', 'probability': 'NEGLIGIBLE', 'blocked': False}, {'category': 'HARM_CATEGORY_DANGEROUS_CONTENT', 'probability': 'NEGLIGIBLE', 'blocked': False}, {'category': 'HARM_CATEGORY_HARASSMENT', 'probability': 'NEGLIGIBLE', 'blocked': False}, {'category': 'HARM_CATEGORY_SEXUALLY_EXPLICIT', 'probability': 'NEGLIGIBLE', 'blocked': False}], 'finish_reason': 'STOP'}, id='run-6e1f9f20-f1ce-4c3e-be18-62179be6a6cd', usage_metadata={'input_tokens': 5086, 'output_tokens': 43, 'total_tokens': 5129, 'input_token_details': {'cache_read': 0}}),\n",
       " 'messages': [HumanMessage(content='Hi, I Like python very much and have a python test upcoming on friday, please create a study schedule for me', additional_kwargs={}, response_metadata={}, id='21972f0b-ce06-49b3-b654-77ec254aac77'),\n",
       "  AIMessage(content='', additional_kwargs={'function_call': {'name': 'ask_human', 'arguments': '{\"questions\": [{\"question\": \"What time is your python test on Friday?\"}, {\"question\": \"What time are you available to study each day?\"}, {\"question\": \"How many hours do you want to study each day?\"}, {\"question\": \"What specific topics in Python do you want to focus on for your test?\"}, {\"question\": \"Do you have any specific preferences for your study sessions, such as study type (focused, review, practice) or priority of topics?\"}]}'}}, response_metadata={'safety_ratings': [{'category': 'HARM_CATEGORY_HATE_SPEECH', 'probability': 'NEGLIGIBLE', 'blocked': False}, {'category': 'HARM_CATEGORY_DANGEROUS_CONTENT', 'probability': 'NEGLIGIBLE', 'blocked': False}, {'category': 'HARM_CATEGORY_HARASSMENT', 'probability': 'NEGLIGIBLE', 'blocked': False}, {'category': 'HARM_CATEGORY_SEXUALLY_EXPLICIT', 'probability': 'NEGLIGIBLE', 'blocked': False}], 'finish_reason': 'STOP'}, id='run-fdd8599a-ef9c-420c-b988-b72b66d47f60', tool_calls=[{'name': 'ask_human', 'args': {'questions': [{'question': 'What time is your python test on Friday?'}, {'question': 'What time are you available to study each day?'}, {'question': 'How many hours do you want to study each day?'}, {'question': 'What specific topics in Python do you want to focus on for your test?'}, {'question': 'Do you have any specific preferences for your study sessions, such as study type (focused, review, practice) or priority of topics?'}]}, 'id': '643afd7d-6620-4865-8dc8-825b31db2c55', 'type': 'tool_call'}], usage_metadata={'input_tokens': 3748, 'output_tokens': 81, 'total_tokens': 3829, 'input_token_details': {'cache_read': 0}}),\n",
       "  ToolMessage(content='[{\"id\": \"e547a4c3-91ef-4adc-b63a-06bd5cc10c53\", \"question\": \"What time is your python test on Friday?\", \"answer\": \"morning\"}, {\"id\": \"98966947-e8d1-4bee-a0c8-11afd0dd8e1c\", \"question\": \"What time are you available to study each day?\", \"answer\": \"mornings\"}, {\"id\": \"91c2d0fc-8393-4398-9c38-48dc0f60531a\", \"question\": \"How many hours do you want to study each day?\", \"answer\": \"at most 3\"}, {\"id\": \"4ef556f6-b32e-4e6a-a6f4-7ef9ff1c9d7d\", \"question\": \"What specific topics in Python do you want to focus on for your test?\", \"answer\": \"all major ones\"}, {\"id\": \"ff0935e5-f2f2-4916-9528-71088b93db03\", \"question\": \"Do you have any specific preferences for your study sessions, such as study type (focused, review, practice) or priority of topics?\", \"answer\": \"at least half hour breaks please and include all days until test from now\"}]', name='ask_human', id='3784701b-2758-4950-babb-57a33d6e1ae1', tool_call_id='643afd7d-6620-4865-8dc8-825b31db2c55'),\n",
       "  AIMessage(content='', additional_kwargs={'function_call': {'name': 'save_study_schedule_to_markdown', 'arguments': '{\"markdown\": \"\\\\n**Saturday, December 28th:**\\\\n*   **9:00 AM - 10:00 AM:** Focused Study - Python Basics (Data types, variables, operators)\\\\n*   **10:00 AM - 10:30 AM:** Break\\\\n*   **10:30 AM - 11:30 AM:** Focused Study - Control Structures (if, for, while loops)\\\\n*   **11:30 AM - 12:00 PM:** Break\\\\n*   **12:00 PM - 1:00 PM:** Review - Python Basics and Control Structures\\\\n\\\\n**Sunday, December 29th:**\\\\n*   **9:00 AM - 10:00 AM:** Focused Study - Functions and Modules\\\\n*   **10:00 AM - 10:30 AM:** Break\\\\n*   **10:30 AM - 11:30 AM:** Focused Study - Working with Files\\\\n*   **11:30 AM - 12:00 PM:** Break\\\\n*   **12:00 PM - 1:00 PM:** Review - Functions, Modules, and File Handling\\\\n\\\\n**Monday, December 30th:**\\\\n*   **9:00 AM - 10:00 AM:** Focused Study - Object-Oriented Programming (Classes, Objects)\\\\n*   **10:00 AM - 10:30 AM:** Break\\\\n*   **10:30 AM - 11:30 AM:** Focused Study - Exception Handling\\\\n*   **11:30 AM - 12:00 PM:** Break\\\\n*   **12:00 PM - 1:00 PM:** Review - OOP and Exception Handling\\\\n\\\\n**Tuesday, December 31st:**\\\\n*   **9:00 AM - 10:00 AM:** Focused Study - Working with Libraries (e.g., NumPy, Pandas)\\\\n*   **10:00 AM - 10:30 AM:** Break\\\\n*   **10:30 AM - 11:30 AM:** Focused Study - Data Structures (Lists, Dictionaries, Tuples)\\\\n*   **11:30 AM - 12:00 PM:** Break\\\\n*   **12:00 PM - 1:00 PM:** Review - Libraries and Data Structures\\\\n\\\\n**Wednesday, January 1st:**\\\\n*   **9:00 AM - 10:00 AM:** Practice - Solving coding problems\\\\n*   **10:00 AM - 10:30 AM:** Break\\\\n*   **10:30 AM - 11:30 AM:** Review - All topics\\\\n*   **11:30 AM - 12:00 PM:** Break\\\\n*   **12:00 PM - 1:00 PM:** Practice - Mock test\\\\n\\\\n**Thursday, January 2nd:**\\\\n*   **9:00 AM - 10:00 AM:** Final Review - Quick review of all topics\\\\n*   **10:00 AM - 10:30 AM:** Break\\\\n*   **10:30 AM - 11:30 AM:** Practice - Mock test\\\\n*   **11:30 AM - 12:00 PM:** Break\\\\n*   **12:00 PM - 1:00 PM:** Relax and prepare for the test\\\\n\", \"file_name\": \"study_schedule.md\"}'}}, response_metadata={'safety_ratings': [{'category': 'HARM_CATEGORY_HATE_SPEECH', 'probability': 'NEGLIGIBLE', 'blocked': False}, {'category': 'HARM_CATEGORY_DANGEROUS_CONTENT', 'probability': 'NEGLIGIBLE', 'blocked': False}, {'category': 'HARM_CATEGORY_HARASSMENT', 'probability': 'NEGLIGIBLE', 'blocked': False}, {'category': 'HARM_CATEGORY_SEXUALLY_EXPLICIT', 'probability': 'NEGLIGIBLE', 'blocked': False}, {'category': 'HARM_CATEGORY_HATE_SPEECH', 'probability': 'NEGLIGIBLE', 'blocked': False}, {'category': 'HARM_CATEGORY_DANGEROUS_CONTENT', 'probability': 'NEGLIGIBLE', 'blocked': False}, {'category': 'HARM_CATEGORY_HARASSMENT', 'probability': 'NEGLIGIBLE', 'blocked': False}, {'category': 'HARM_CATEGORY_SEXUALLY_EXPLICIT', 'probability': 'NEGLIGIBLE', 'blocked': False}, {'category': 'HARM_CATEGORY_HATE_SPEECH', 'probability': 'NEGLIGIBLE', 'blocked': False}, {'category': 'HARM_CATEGORY_DANGEROUS_CONTENT', 'probability': 'NEGLIGIBLE', 'blocked': False}, {'category': 'HARM_CATEGORY_HARASSMENT', 'probability': 'NEGLIGIBLE', 'blocked': False}, {'category': 'HARM_CATEGORY_SEXUALLY_EXPLICIT', 'probability': 'NEGLIGIBLE', 'blocked': False}, {'category': 'HARM_CATEGORY_HATE_SPEECH', 'probability': 'NEGLIGIBLE', 'blocked': False}, {'category': 'HARM_CATEGORY_DANGEROUS_CONTENT', 'probability': 'NEGLIGIBLE', 'blocked': False}, {'category': 'HARM_CATEGORY_HARASSMENT', 'probability': 'NEGLIGIBLE', 'blocked': False}, {'category': 'HARM_CATEGORY_SEXUALLY_EXPLICIT', 'probability': 'NEGLIGIBLE', 'blocked': False}, {'category': 'HARM_CATEGORY_HATE_SPEECH', 'probability': 'NEGLIGIBLE', 'blocked': False}, {'category': 'HARM_CATEGORY_DANGEROUS_CONTENT', 'probability': 'NEGLIGIBLE', 'blocked': False}, {'category': 'HARM_CATEGORY_HARASSMENT', 'probability': 'NEGLIGIBLE', 'blocked': False}, {'category': 'HARM_CATEGORY_SEXUALLY_EXPLICIT', 'probability': 'NEGLIGIBLE', 'blocked': False}, {'category': 'HARM_CATEGORY_HATE_SPEECH', 'probability': 'NEGLIGIBLE', 'blocked': False}, {'category': 'HARM_CATEGORY_DANGEROUS_CONTENT', 'probability': 'NEGLIGIBLE', 'blocked': False}, {'category': 'HARM_CATEGORY_HARASSMENT', 'probability': 'NEGLIGIBLE', 'blocked': False}, {'category': 'HARM_CATEGORY_SEXUALLY_EXPLICIT', 'probability': 'NEGLIGIBLE', 'blocked': False}, {'category': 'HARM_CATEGORY_HATE_SPEECH', 'probability': 'NEGLIGIBLE', 'blocked': False}, {'category': 'HARM_CATEGORY_DANGEROUS_CONTENT', 'probability': 'NEGLIGIBLE', 'blocked': False}, {'category': 'HARM_CATEGORY_HARASSMENT', 'probability': 'NEGLIGIBLE', 'blocked': False}, {'category': 'HARM_CATEGORY_SEXUALLY_EXPLICIT', 'probability': 'NEGLIGIBLE', 'blocked': False}, {'category': 'HARM_CATEGORY_HATE_SPEECH', 'probability': 'NEGLIGIBLE', 'blocked': False}, {'category': 'HARM_CATEGORY_DANGEROUS_CONTENT', 'probability': 'NEGLIGIBLE', 'blocked': False}, {'category': 'HARM_CATEGORY_HARASSMENT', 'probability': 'NEGLIGIBLE', 'blocked': False}, {'category': 'HARM_CATEGORY_SEXUALLY_EXPLICIT', 'probability': 'NEGLIGIBLE', 'blocked': False}, {'category': 'HARM_CATEGORY_HATE_SPEECH', 'probability': 'NEGLIGIBLE', 'blocked': False}, {'category': 'HARM_CATEGORY_DANGEROUS_CONTENT', 'probability': 'NEGLIGIBLE', 'blocked': False}, {'category': 'HARM_CATEGORY_HARASSMENT', 'probability': 'NEGLIGIBLE', 'blocked': False}, {'category': 'HARM_CATEGORY_SEXUALLY_EXPLICIT', 'probability': 'NEGLIGIBLE', 'blocked': False}, {'category': 'HARM_CATEGORY_HATE_SPEECH', 'probability': 'NEGLIGIBLE', 'blocked': False}, {'category': 'HARM_CATEGORY_DANGEROUS_CONTENT', 'probability': 'NEGLIGIBLE', 'blocked': False}, {'category': 'HARM_CATEGORY_HARASSMENT', 'probability': 'NEGLIGIBLE', 'blocked': False}, {'category': 'HARM_CATEGORY_SEXUALLY_EXPLICIT', 'probability': 'NEGLIGIBLE', 'blocked': False}, {'category': 'HARM_CATEGORY_HATE_SPEECH', 'probability': 'NEGLIGIBLE', 'blocked': False}, {'category': 'HARM_CATEGORY_DANGEROUS_CONTENT', 'probability': 'NEGLIGIBLE', 'blocked': False}, {'category': 'HARM_CATEGORY_HARASSMENT', 'probability': 'NEGLIGIBLE', 'blocked': False}, {'category': 'HARM_CATEGORY_SEXUALLY_EXPLICIT', 'probability': 'NEGLIGIBLE', 'blocked': False}, {'category': 'HARM_CATEGORY_HATE_SPEECH', 'probability': 'NEGLIGIBLE', 'blocked': False}, {'category': 'HARM_CATEGORY_DANGEROUS_CONTENT', 'probability': 'NEGLIGIBLE', 'blocked': False}, {'category': 'HARM_CATEGORY_HARASSMENT', 'probability': 'NEGLIGIBLE', 'blocked': False}, {'category': 'HARM_CATEGORY_SEXUALLY_EXPLICIT', 'probability': 'NEGLIGIBLE', 'blocked': False}, {'category': 'HARM_CATEGORY_HATE_SPEECH', 'probability': 'NEGLIGIBLE', 'blocked': False}, {'category': 'HARM_CATEGORY_DANGEROUS_CONTENT', 'probability': 'NEGLIGIBLE', 'blocked': False}, {'category': 'HARM_CATEGORY_HARASSMENT', 'probability': 'NEGLIGIBLE', 'blocked': False}, {'category': 'HARM_CATEGORY_SEXUALLY_EXPLICIT', 'probability': 'NEGLIGIBLE', 'blocked': False}, {'category': 'HARM_CATEGORY_HATE_SPEECH', 'probability': 'NEGLIGIBLE', 'blocked': False}, {'category': 'HARM_CATEGORY_DANGEROUS_CONTENT', 'probability': 'NEGLIGIBLE', 'blocked': False}, {'category': 'HARM_CATEGORY_HARASSMENT', 'probability': 'NEGLIGIBLE', 'blocked': False}, {'category': 'HARM_CATEGORY_SEXUALLY_EXPLICIT', 'probability': 'NEGLIGIBLE', 'blocked': False}, {'category': 'HARM_CATEGORY_HATE_SPEECH', 'probability': 'NEGLIGIBLE', 'blocked': False}, {'category': 'HARM_CATEGORY_DANGEROUS_CONTENT', 'probability': 'NEGLIGIBLE', 'blocked': False}, {'category': 'HARM_CATEGORY_HARASSMENT', 'probability': 'NEGLIGIBLE', 'blocked': False}, {'category': 'HARM_CATEGORY_SEXUALLY_EXPLICIT', 'probability': 'NEGLIGIBLE', 'blocked': False}, {'category': 'HARM_CATEGORY_HATE_SPEECH', 'probability': 'NEGLIGIBLE', 'blocked': False}, {'category': 'HARM_CATEGORY_DANGEROUS_CONTENT', 'probability': 'NEGLIGIBLE', 'blocked': False}, {'category': 'HARM_CATEGORY_HARASSMENT', 'probability': 'NEGLIGIBLE', 'blocked': False}, {'category': 'HARM_CATEGORY_SEXUALLY_EXPLICIT', 'probability': 'NEGLIGIBLE', 'blocked': False}, {'category': 'HARM_CATEGORY_HATE_SPEECH', 'probability': 'NEGLIGIBLE', 'blocked': False}, {'category': 'HARM_CATEGORY_DANGEROUS_CONTENT', 'probability': 'NEGLIGIBLE', 'blocked': False}, {'category': 'HARM_CATEGORY_HARASSMENT', 'probability': 'NEGLIGIBLE', 'blocked': False}, {'category': 'HARM_CATEGORY_SEXUALLY_EXPLICIT', 'probability': 'NEGLIGIBLE', 'blocked': False}, {'category': 'HARM_CATEGORY_HATE_SPEECH', 'probability': 'NEGLIGIBLE', 'blocked': False}, {'category': 'HARM_CATEGORY_DANGEROUS_CONTENT', 'probability': 'NEGLIGIBLE', 'blocked': False}, {'category': 'HARM_CATEGORY_HARASSMENT', 'probability': 'NEGLIGIBLE', 'blocked': False}, {'category': 'HARM_CATEGORY_SEXUALLY_EXPLICIT', 'probability': 'NEGLIGIBLE', 'blocked': False}, {'category': 'HARM_CATEGORY_HATE_SPEECH', 'probability': 'NEGLIGIBLE', 'blocked': False}, {'category': 'HARM_CATEGORY_DANGEROUS_CONTENT', 'probability': 'NEGLIGIBLE', 'blocked': False}, {'category': 'HARM_CATEGORY_HARASSMENT', 'probability': 'NEGLIGIBLE', 'blocked': False}, {'category': 'HARM_CATEGORY_SEXUALLY_EXPLICIT', 'probability': 'NEGLIGIBLE', 'blocked': False}, {'category': 'HARM_CATEGORY_HATE_SPEECH', 'probability': 'NEGLIGIBLE', 'blocked': False}, {'category': 'HARM_CATEGORY_DANGEROUS_CONTENT', 'probability': 'NEGLIGIBLE', 'blocked': False}, {'category': 'HARM_CATEGORY_HARASSMENT', 'probability': 'NEGLIGIBLE', 'blocked': False}, {'category': 'HARM_CATEGORY_SEXUALLY_EXPLICIT', 'probability': 'NEGLIGIBLE', 'blocked': False}], 'finish_reason': 'STOP'}, id='run-e393f538-d434-46a3-a136-f6bf3c4c42c4', tool_calls=[{'name': 'save_study_schedule_to_markdown', 'args': {'markdown': '\\n**Saturday, December 28th:**\\n*   **9:00 AM - 10:00 AM:** Focused Study - Python Basics (Data types, variables, operators)\\n*   **10:00 AM - 10:30 AM:** Break\\n*   **10:30 AM - 11:30 AM:** Focused Study - Control Structures (if, for, while loops)\\n*   **11:30 AM - 12:00 PM:** Break\\n*   **12:00 PM - 1:00 PM:** Review - Python Basics and Control Structures\\n\\n**Sunday, December 29th:**\\n*   **9:00 AM - 10:00 AM:** Focused Study - Functions and Modules\\n*   **10:00 AM - 10:30 AM:** Break\\n*   **10:30 AM - 11:30 AM:** Focused Study - Working with Files\\n*   **11:30 AM - 12:00 PM:** Break\\n*   **12:00 PM - 1:00 PM:** Review - Functions, Modules, and File Handling\\n\\n**Monday, December 30th:**\\n*   **9:00 AM - 10:00 AM:** Focused Study - Object-Oriented Programming (Classes, Objects)\\n*   **10:00 AM - 10:30 AM:** Break\\n*   **10:30 AM - 11:30 AM:** Focused Study - Exception Handling\\n*   **11:30 AM - 12:00 PM:** Break\\n*   **12:00 PM - 1:00 PM:** Review - OOP and Exception Handling\\n\\n**Tuesday, December 31st:**\\n*   **9:00 AM - 10:00 AM:** Focused Study - Working with Libraries (e.g., NumPy, Pandas)\\n*   **10:00 AM - 10:30 AM:** Break\\n*   **10:30 AM - 11:30 AM:** Focused Study - Data Structures (Lists, Dictionaries, Tuples)\\n*   **11:30 AM - 12:00 PM:** Break\\n*   **12:00 PM - 1:00 PM:** Review - Libraries and Data Structures\\n\\n**Wednesday, January 1st:**\\n*   **9:00 AM - 10:00 AM:** Practice - Solving coding problems\\n*   **10:00 AM - 10:30 AM:** Break\\n*   **10:30 AM - 11:30 AM:** Review - All topics\\n*   **11:30 AM - 12:00 PM:** Break\\n*   **12:00 PM - 1:00 PM:** Practice - Mock test\\n\\n**Thursday, January 2nd:**\\n*   **9:00 AM - 10:00 AM:** Final Review - Quick review of all topics\\n*   **10:00 AM - 10:30 AM:** Break\\n*   **10:30 AM - 11:30 AM:** Practice - Mock test\\n*   **11:30 AM - 12:00 PM:** Break\\n*   **12:00 PM - 1:00 PM:** Relax and prepare for the test\\n', 'file_name': 'study_schedule.md'}, 'id': 'ee9f36b3-eb0b-4252-b7ed-562ea7388bab', 'type': 'tool_call'}], usage_metadata={'input_tokens': 4210, 'output_tokens': 1750, 'total_tokens': 5960, 'input_token_details': {'cache_read': 0}}),\n",
       "  ToolMessage(content='Study schedule saved successfully to study_schedule.md', name='save_study_schedule_to_markdown', id='e13018d2-0653-4d1c-b84b-dc5fd57c3900', tool_call_id='ee9f36b3-eb0b-4252-b7ed-562ea7388bab'),\n",
       "  AIMessage(content=\"Okay, I've created a study schedule for you, focusing on major Python topics and including breaks. The schedule is saved in `study_schedule.md`. Let me know if you need any adjustments!\\n\", additional_kwargs={}, response_metadata={'safety_ratings': [{'category': 'HARM_CATEGORY_HATE_SPEECH', 'probability': 'NEGLIGIBLE', 'blocked': False}, {'category': 'HARM_CATEGORY_DANGEROUS_CONTENT', 'probability': 'NEGLIGIBLE', 'blocked': False}, {'category': 'HARM_CATEGORY_HARASSMENT', 'probability': 'NEGLIGIBLE', 'blocked': False}, {'category': 'HARM_CATEGORY_SEXUALLY_EXPLICIT', 'probability': 'NEGLIGIBLE', 'blocked': False}, {'category': 'HARM_CATEGORY_HATE_SPEECH', 'probability': 'NEGLIGIBLE', 'blocked': False}, {'category': 'HARM_CATEGORY_DANGEROUS_CONTENT', 'probability': 'NEGLIGIBLE', 'blocked': False}, {'category': 'HARM_CATEGORY_HARASSMENT', 'probability': 'NEGLIGIBLE', 'blocked': False}, {'category': 'HARM_CATEGORY_SEXUALLY_EXPLICIT', 'probability': 'NEGLIGIBLE', 'blocked': False}, {'category': 'HARM_CATEGORY_HATE_SPEECH', 'probability': 'NEGLIGIBLE', 'blocked': False}, {'category': 'HARM_CATEGORY_DANGEROUS_CONTENT', 'probability': 'NEGLIGIBLE', 'blocked': False}, {'category': 'HARM_CATEGORY_HARASSMENT', 'probability': 'NEGLIGIBLE', 'blocked': False}, {'category': 'HARM_CATEGORY_SEXUALLY_EXPLICIT', 'probability': 'NEGLIGIBLE', 'blocked': False}], 'finish_reason': 'STOP'}, id='run-6e1f9f20-f1ce-4c3e-be18-62179be6a6cd', usage_metadata={'input_tokens': 5086, 'output_tokens': 43, 'total_tokens': 5129, 'input_token_details': {'cache_read': 0}})],\n",
       " 'summary': '',\n",
       " 'memories': ''}"
      ]
     },
     "execution_count": 181,
     "metadata": {},
     "output_type": "execute_result"
    }
   ],
   "source": [
    "agent.get_state(config).values"
   ]
  },
  {
   "cell_type": "code",
   "execution_count": 182,
   "metadata": {},
   "outputs": [
    {
     "data": {
      "text/markdown": [
       "I have already saved the schedule in a markdown file named `study_schedule.md`. Is there anything else I can help you with?\n"
      ],
      "text/plain": [
       "<IPython.core.display.Markdown object>"
      ]
     },
     "metadata": {},
     "output_type": "display_data"
    }
   ],
   "source": [
    "stream_agent(\n",
    "    agent=agent,\n",
    "    config=config,\n",
    "    input_value={\"query\": \"Thats Great! Please save the schedule in a markdown file\"},\n",
    ")"
   ]
  }
 ],
 "metadata": {
  "kernelspec": {
   "display_name": "Python 3",
   "language": "python",
   "name": "python3"
  },
  "language_info": {
   "codemirror_mode": {
    "name": "ipython",
    "version": 3
   },
   "file_extension": ".py",
   "mimetype": "text/x-python",
   "name": "python",
   "nbconvert_exporter": "python",
   "pygments_lexer": "ipython3",
   "version": "3.12.2"
  }
 },
 "nbformat": 4,
 "nbformat_minor": 2
}
