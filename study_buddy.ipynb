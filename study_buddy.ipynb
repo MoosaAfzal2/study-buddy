{
 "cells": [
  {
   "cell_type": "markdown",
   "metadata": {},
   "source": [
    "### **Study Buddy AI: Your Personalized Study Assistant**  \n",
    "<!-- ##### **Description:**  \n",
    "Study Buddy AI is an intelligent assistant designed to revolutionize the way students learn and plan their studies. Equipped with advanced features like personalized study plans, web search for research, math problem-solving, and human-in-the-loop assistance, it ensures accurate, actionable, and tailored support for academic success. Leveraging memory and contextual knowledge, Study Buddy AI creates dynamic, efficient schedules and provides step-by-step explanations to help students master any subject with ease. -->\n",
    "##### **Current Features:**  \n",
    "- **Tool Assistance**: Integrates with tools like Study Scheduler and Web Search.\n",
    "- **Personalized Support**: Remembers user-specific details such as exam dates, preferred study times, and past topics to deliver customized responses.\n",
    "- **Study Schedule Creation**: Automatically generates optimized study plans based on deadlines, topics, and available time.\n",
    "- **User-Friendly Interaction**: Polite, clear, and concise responses with follow-up questions to ensure clarity."
   ]
  },
  {
   "cell_type": "markdown",
   "metadata": {},
   "source": [
    "### DEPENDCIES\n"
   ]
  },
  {
   "cell_type": "code",
   "execution_count": 1274,
   "metadata": {},
   "outputs": [
    {
     "name": "stdout",
     "output_type": "stream",
     "text": [
      "^C\n",
      "Note: you may need to restart the kernel to use updated packages.\n"
     ]
    }
   ],
   "source": [
    "%pip install -q -U google-generativeai langchain-google-genai langgraph langchain langchain-core pydantic tavily-python langchain_community"
   ]
  },
  {
   "cell_type": "code",
   "execution_count": 1391,
   "metadata": {},
   "outputs": [],
   "source": [
    "import os, getpass\n",
    "\n",
    "\n",
    "def _set_env(var: str):\n",
    "    if not os.environ.get(var):\n",
    "        os.environ[var] = getpass.getpass(f\"{var}: \")\n",
    "\n",
    "\n",
    "_set_env(\"GOOGLE_API_KEY\")\n",
    "_set_env(\"TAVILY_API_KEY\")\n",
    "# _set_env(\"LANGCHAIN_API_KEY\")\n",
    "# _set_env(\"LANGCHAIN_PROJECT\")\n",
    "# os.environ[\"LANGCHAIN_TRACING_V2\"] = \"true\""
   ]
  },
  {
   "cell_type": "code",
   "execution_count": 1392,
   "metadata": {},
   "outputs": [],
   "source": [
    "from typing import TypedDict, Optional, List, Annotated, Any, Dict, Union\n",
    "from pydantic import BaseModel\n",
    "import csv\n",
    "import uuid\n",
    "import json\n",
    "from datetime import datetime, timedelta\n",
    "\n",
    "from langchain_google_genai import ChatGoogleGenerativeAI, GoogleGenerativeAIEmbeddings\n",
    "\n",
    "from langgraph.graph import StateGraph, START, END, add_messages\n",
    "from langgraph.prebuilt import ToolNode, tools_condition\n",
    "\n",
    "from langgraph.checkpoint.memory import MemorySaver\n",
    "\n",
    "from langgraph.store.base import BaseStore\n",
    "from langgraph.store.memory import InMemoryStore\n",
    "\n",
    "from langchain_community.tools.tavily_search import TavilySearchResults\n",
    "\n",
    "from langchain.prompts import ChatPromptTemplate, PromptTemplate, MessagesPlaceholder\n",
    "from langchain.output_parsers import PydanticOutputParser\n",
    "\n",
    "from langchain_core.tools import tool, InjectedToolArg\n",
    "from langchain_core.runnables.config import RunnableConfig\n",
    "from langchain_core.language_models import BaseChatModel\n",
    "from langchain_core.messages import (\n",
    "    BaseMessage,\n",
    "    SystemMessage,\n",
    "    HumanMessage,\n",
    "    AIMessage,\n",
    "    AnyMessage,\n",
    "    RemoveMessage,\n",
    ")\n",
    "\n",
    "from IPython.display import Image"
   ]
  },
  {
   "cell_type": "markdown",
   "metadata": {},
   "source": [
    "### STATES\n"
   ]
  },
  {
   "cell_type": "code",
   "execution_count": 1393,
   "metadata": {},
   "outputs": [],
   "source": [
    "class InputState(TypedDict):\n",
    "    query: str\n",
    "\n",
    "\n",
    "class OutputState(TypedDict):\n",
    "    response: AIMessage\n",
    "\n",
    "\n",
    "class OverallState(InputState, OutputState):\n",
    "    messages: Annotated[List[AnyMessage], add_messages]\n",
    "    summary: Optional[str] = None\n",
    "    memories: Optional[str] = None"
   ]
  },
  {
   "cell_type": "markdown",
   "metadata": {},
   "source": [
    "### PERSISTANCE"
   ]
  },
  {
   "cell_type": "code",
   "execution_count": 1394,
   "metadata": {},
   "outputs": [],
   "source": [
    "checkpointer = MemorySaver()"
   ]
  },
  {
   "cell_type": "markdown",
   "metadata": {},
   "source": [
    "### MODELS\n"
   ]
  },
  {
   "cell_type": "code",
   "execution_count": 1395,
   "metadata": {},
   "outputs": [],
   "source": [
    "# MODEL_NAME = \"gemini-2.0-flash-exp\"\n",
    "MODEL_NAME = \"gemini-1.5-flash\"\n",
    "EMBEDDING_MODEL_NAME = \"models/embedding-001\"\n",
    "\n",
    "model = ChatGoogleGenerativeAI(model=MODEL_NAME, temperature=0)\n",
    "embedding_model = GoogleGenerativeAIEmbeddings(model=EMBEDDING_MODEL_NAME)"
   ]
  },
  {
   "cell_type": "markdown",
   "metadata": {},
   "source": [
    "### MEMORY"
   ]
  },
  {
   "cell_type": "markdown",
   "metadata": {},
   "source": [
    "#### In Memory Store\n"
   ]
  },
  {
   "cell_type": "code",
   "execution_count": 1396,
   "metadata": {},
   "outputs": [],
   "source": [
    "in_memory_store = InMemoryStore(\n",
    "    index={\n",
    "        \"embed\": embedding_model,\n",
    "        \"dims\": 1536,\n",
    "    }\n",
    ")"
   ]
  },
  {
   "cell_type": "markdown",
   "metadata": {},
   "source": [
    "#### Memory Namespace\n"
   ]
  },
  {
   "cell_type": "code",
   "execution_count": 1397,
   "metadata": {},
   "outputs": [],
   "source": [
    "NAMESPACE_NAME = \"memories\"\n",
    "\n",
    "# We would generally get the user_id from the authenticated User\n",
    "user_id = uuid.uuid4()"
   ]
  },
  {
   "cell_type": "markdown",
   "metadata": {},
   "source": [
    "#### Memory Type\n"
   ]
  },
  {
   "cell_type": "code",
   "execution_count": 1398,
   "metadata": {},
   "outputs": [],
   "source": [
    "class ReminderType(TypedDict):\n",
    "    \"\"\"\n",
    "    Defines the structure of a reminder with a description and a date.\n",
    "    Each reminder includes a description of the event and the date when it should occur.\n",
    "    \"\"\"\n",
    "    description: Optional[str] = None # A short description of the reminder (e.g., \"Study session\" or \"Exam\")\n",
    "    date: Optional[str] = None # The date of the reminder in \"YYYY-MM-DD\" format (e.g., \"2024-12-15\")\n",
    "\n",
    "\n",
    "class ProgressType(TypedDict):\n",
    "    \"\"\"\n",
    "    Defines the structure of progress for a study topic as a percentage.\n",
    "    Each progress entry includes the topic name and its completion percentage.\n",
    "    \"\"\"\n",
    "    topic: Optional[str] = None  # The name of the study topic (e.g., \"Algebra\")\n",
    "    progress_percentage: Optional[float] = None  # The completion percentage for the topic (e.g., 75.0)\n",
    "\n",
    "\n",
    "class MemoryType(TypedDict):\n",
    "    \"\"\"\n",
    "    General memory structure for a Study Buddy Agent to store study preferences,\n",
    "    reminders, deadlines, progress, and personal notes.\n",
    "    \"\"\"\n",
    "    # User Information (Tracking user-specific details)\n",
    "    username: Optional[str] = None\n",
    "    \"\"\"The username of the user (e.g., \"john_doe\")\"\"\"\n",
    "\n",
    "    age: Optional[int] = None\n",
    "    \"\"\"The age of the user (e.g., 21)\"\"\"\n",
    "\n",
    "    gender: Optional[str] = None\n",
    "    \"\"\"The gender of the user (e.g., \"Male\", \"Female\", \"Non-binary\")\"\"\"\n",
    "\n",
    "    preferences: Optional[str] = None\n",
    "    \"\"\"User preferences, such as preferred study time, study methods, etc.\"\"\"\n",
    "\n",
    "    # Study Preferences\n",
    "    study_duration: Optional[int] = None\n",
    "    \"\"\"Preferred study duration in minutes (e.g., 60 minutes)\"\"\"\n",
    "\n",
    "    break_duration: Optional[int] = None\n",
    "    \"\"\"Preferred break duration in minutes (e.g., 15 minutes)\"\"\"\n",
    "\n",
    "    # Scheduling and Deadlines\n",
    "    reminders: List[ReminderType] = []\n",
    "    \"\"\"List of reminders with descriptions and dates (e.g., [{\"description\": \"Study for Math exam\", \"date\": \"2024-12-15\"}])\"\"\"\n",
    "\n",
    "    deadlines: List[ReminderType] = []\n",
    "    \"\"\"List of deadlines with event names and corresponding dates (e.g., [{\"description\": \"Assignment deadline\", \"date\": \"2024-12-18\"}])\"\"\"\n",
    "\n",
    "    # Study Topics\n",
    "    topics_to_study: List[str] = []\n",
    "    \"\"\"List of topics to study (e.g., [\"Algebra\", \"History\"])\"\"\"\n",
    "\n",
    "    completed_topics: List[str] = []\n",
    "    \"\"\"List of topics that have been completed (e.g., [\"Calculus\", \"Literature\"])\"\"\"\n",
    "\n",
    "    # Progress Tracking\n",
    "    progress: List[ProgressType] = []\n",
    "    \"\"\"Progress for each study topic as a percentage (e.g., [{\"topic\": \"Algebra\", \"progress_percentage\": 75.0}])\"\"\"\n",
    "\n",
    "    # Personal Notes and Goals\n",
    "    personal_notes: Optional[str] = None\n",
    "    \"\"\"Space for personal goals, motivational notes, or other reminders\"\"\"\n",
    "\n",
    "    # Last Updated Timestamp\n",
    "    last_updated: Optional[str] = None\n",
    "    \"\"\"Timestamp for when the memory was last updated (e.g., \"2024-12-15T14:30:00\")\"\"\""
   ]
  },
  {
   "cell_type": "markdown",
   "metadata": {},
   "source": [
    "### TOOLS\n"
   ]
  },
  {
   "cell_type": "markdown",
   "metadata": {},
   "source": [
    "#### Web Search Tools\n"
   ]
  },
  {
   "cell_type": "code",
   "execution_count": 1399,
   "metadata": {},
   "outputs": [],
   "source": [
    "tavily_search_tool = TavilySearchResults(\n",
    "    name=\"tavily_web_search\",\n",
    "    max_results=5,\n",
    "    # include_answer=True,\n",
    "    # include_raw_content=True,\n",
    "    # include_images=True,\n",
    ")"
   ]
  },
  {
   "cell_type": "markdown",
   "metadata": {},
   "source": [
    "#### Study Scheduling Tools\n"
   ]
  },
  {
   "cell_type": "code",
   "execution_count": 1400,
   "metadata": {},
   "outputs": [],
   "source": [
    "# class DeadlineType(TypedDict):\n",
    "#     \"\"\"\n",
    "#     Represents a deadline associated with a subject.\n",
    "#     \"\"\"\n",
    "\n",
    "#     subject: Optional[str]  # The subject for which the deadline applies (e.g., \"Math\")\n",
    "#     deadline_date:Optional[str]  # The date of the deadline in \"YYYY-MM-DD\" format (e.g., \"2024-12-15\")\n",
    "    \n",
    "\n",
    "class StudySession(TypedDict):\n",
    "    \"\"\"\n",
    "    Represents a study session with details about the subject, time, notes.\n",
    "    \"\"\"\n",
    "\n",
    "    day: str  # The day of the week for the study session (e.g., \"Monday\")\n",
    "    subject: str  # The subject being studied (e.g., \"Math\")\n",
    "    start_time: str  # Start time of the session in \"HH:MM\" format (e.g., \"09:00\")\n",
    "    end_time: str  # End time of the session in \"HH:MM\" format (e.g., \"11:00\")\n",
    "    notes: str  # Additional notes for the session (e.g., \"Focus on Algebra\")\n",
    "    priority: str  # Priority of the study session (e.g., \"High\", \"Medium\", \"Low\")\n",
    "    estimated_completion_time: (\n",
    "        int  # Estimated time for completion of the subject in minutes\n",
    "    )\n",
    "    study_type: str  # Type of study session (e.g., \"Focused\", \"Review\")\n",
    "    status: str  # Completion status (e.g., \"Completed\", \"Pending\")\n",
    "    study_notes: Optional[\n",
    "        str\n",
    "    ]  # Specific study notes for the session (e.g., \"Focus on chapters 3-5\")\n",
    "    available_time_per_day: int  # Total study time available per day in minutes\n",
    "    # deadlines: DeadlineType\n",
    "\n",
    "\n",
    "@tool\n",
    "def create_study_schedule(\n",
    "    study_sessions: List[StudySession],  # List of StudySession dictionaries\n",
    ") -> List[StudySession]:\n",
    "    \"\"\"\n",
    "    Creates a personalized study schedule based on user preferences, subjects, and available time.\n",
    "\n",
    "    This function takes a list of study sessions, calculates the required time for each, and creates a study\n",
    "    schedule based on the available time per day. It also ensures that the number of sessions does not exceed\n",
    "    the available time, provides a break between consecutive study sessions, and includes warnings when the\n",
    "    available time is insufficient for all sessions.\n",
    "\n",
    "    Args:\n",
    "        study_sessions (List[StudySession]): A list of dictionaries, each representing a study session. Each dictionary must contain the following keys:\n",
    "            - 'day': The day of the week for the study session (e.g., \"Monday\").\n",
    "            - 'subject': The subject being studied (e.g., \"Math\").\n",
    "            - 'start_time': The start time of the session in \"HH:MM\" format.\n",
    "            - 'end_time': The end time of the session in \"HH:MM\" format.\n",
    "            - 'notes': Additional notes for the session (e.g., \"Focus on Algebra\").\n",
    "            - 'priority': The priority of the session (e.g., \"High\", \"Medium\", \"Low\").\n",
    "            - 'estimated_completion_time': The estimated duration for completing\n",
    "            the session in minutes.\n",
    "            - 'study_type': The type of session (e.g., \"Focused\", \"Review\").\n",
    "            - 'status': The completion status of the session (e.g., \"Completed\", \"Pending\").\n",
    "            - 'study_notes': Specific study notes for the session (optional).\n",
    "            - 'available_time_per_day': The total study time available per day in minutes.\n",
    "\n",
    "    Returns:\n",
    "        List[StudySession]: A list of dictionaries representing the generated study schedule. Each dictionary contains the following keys:\n",
    "            - 'day': The day of the week for the study session.\n",
    "            - 'subject': The subject being studied.\n",
    "            - 'start_time': The start time of the session in \"HH:MM\" format.\n",
    "            - 'end_time': The end time of the session in \"HH:MM\" format.\n",
    "            - 'notes': Additional notes for the session.\n",
    "            - 'priority': The priority of the session.\n",
    "            - 'estimated_completion_time': The estimated duration for completing the session.\n",
    "            - 'study_type': The type of session.\n",
    "            - 'status': The completion status of the session.\n",
    "            - 'study_notes': Specific study notes for the session.\n",
    "            - 'available_time_per_day': The total study time available per day.\n",
    "            - Breaks: A break is included after each session unless it’s the last session.\n",
    "\n",
    "    Warnings:\n",
    "        - If the total time for all sessions exceeds the available time per day, the function will try to fit as many sessions as possible.\n",
    "        - If there is remaining time after scheduling, a message will be shown to inform the user.\n",
    "    \"\"\"\n",
    "\n",
    "    schedule = []\n",
    "    current_day = datetime.now()\n",
    "\n",
    "    total_sessions = len(study_sessions)\n",
    "\n",
    "    for i, session in enumerate(study_sessions):\n",
    "        available_time_per_day = session[\"available_time_per_day\"]\n",
    "\n",
    "        # Calculate the total time required for all study sessions\n",
    "        total_session_time = session[\"estimated_completion_time\"]\n",
    "        max_sessions_per_day = available_time_per_day // total_session_time\n",
    "\n",
    "        # # If more sessions exist than can fit into the available time, we generate a warning\n",
    "        # if total_sessions > max_sessions_per_day:\n",
    "        #     print(\n",
    "        #         f\"Warning: Only {max_sessions_per_day} study sessions can fit into the available time per day.\"\n",
    "        #     )\n",
    "\n",
    "        # Calculate remaining time for the day\n",
    "        remaining_time = available_time_per_day - (total_sessions * total_session_time)\n",
    "\n",
    "        # Loop through each study session to allocate time slots\n",
    "        for i, study_session in enumerate(study_sessions):\n",
    "            # Calculate start time and end time for each session\n",
    "            start_time = current_day.replace(hour=9, minute=0) + timedelta(days=i)\n",
    "            end_time = start_time + timedelta(\n",
    "                minutes=study_session[\"estimated_completion_time\"]\n",
    "            )\n",
    "\n",
    "            # Create the study session entry\n",
    "            schedule.append(\n",
    "                StudySession(\n",
    "                    day=start_time.strftime(\"%A\"),\n",
    "                    subject=study_session[\"subject\"],\n",
    "                    start_time=start_time.strftime(\"%H:%M\"),\n",
    "                    end_time=end_time.strftime(\"%H:%M\"),\n",
    "                    notes=study_session[\"notes\"],\n",
    "                    priority=study_session[\"priority\"],\n",
    "                    estimated_completion_time=study_session[\n",
    "                        \"estimated_completion_time\"\n",
    "                    ],\n",
    "                    study_type=study_session[\"study_type\"],\n",
    "                    status=study_session[\"status\"],\n",
    "                    study_notes=(\n",
    "                        study_session[\"study_notes\"]\n",
    "                        if \"study_notes\" in study_session\n",
    "                        else \"\"\n",
    "                    ),\n",
    "                    available_time_per_day=study_session[\"available_time_per_day\"],\n",
    "                )\n",
    "            )\n",
    "\n",
    "            # If this is not the last session, add a break\n",
    "            if i < len(study_sessions) - 1:\n",
    "                break_time_start = end_time\n",
    "                break_time_end = break_time_start + timedelta(\n",
    "                    minutes=15\n",
    "                )  # Assuming a 15-minute break\n",
    "                schedule.append(\n",
    "                    StudySession(\n",
    "                        day=start_time.strftime(\"%A\"),\n",
    "                        subject=\"Break\",\n",
    "                        start_time=break_time_start.strftime(\"%H:%M\"),\n",
    "                        end_time=break_time_end.strftime(\"%H:%M\"),\n",
    "                        notes=\"Break\",\n",
    "                        priority=\"Low\",\n",
    "                        estimated_completion_time=15,\n",
    "                        study_type=\"Break\",\n",
    "                        status=\"Pending\",\n",
    "                        study_notes=\"\",\n",
    "                        available_time_per_day=study_session[\"available_time_per_day\"],\n",
    "                    )\n",
    "                )\n",
    "\n",
    "        # Inform the user about any remaining time\n",
    "        # if remaining_time > 0:\n",
    "        #     print(f\"Remaining time after schedule: {remaining_time} minutes.\")\n",
    "\n",
    "    return schedule\n",
    "\n",
    "\n",
    "@tool\n",
    "def save_study_schedule_to_markdown(\n",
    "    markdown: str, file_name: str = \"study_schedule.md\"\n",
    ") -> str:\n",
    "    \"\"\"\n",
    "    Saves the study schedule content into a Markdown file, ensuring proper line breaks and formatting.\n",
    "\n",
    "    Args:\n",
    "        markdown (str): The content in Markdown format to be saved.\n",
    "        file_name (str): The name of the Markdown file where the schedule will be saved (default is 'study_schedule.md').\n",
    "\n",
    "    Returns:\n",
    "        str: Success Messages\n",
    "    \"\"\"\n",
    "    try:\n",
    "        # Ensure line breaks are properly handled and formatting is correct\n",
    "        formatted_markdown = markdown.replace(\"\\\\n\", \"\\n\")  # Ensure proper line breaks\n",
    "\n",
    "        # Open the file in write mode and save the Markdown content\n",
    "        with open(file_name, mode=\"w\") as file:\n",
    "            file.write(formatted_markdown)\n",
    "        return f\"Study schedule saved successfully to {file_name}\"\n",
    "\n",
    "    except PermissionError:\n",
    "        print(f\"Error: Permission denied when trying to write to {file_name}.\")\n",
    "    except FileNotFoundError:\n",
    "        print(f\"Error: Directory or file path {file_name} not found.\")\n",
    "    except Exception as e:\n",
    "        print(f\"Error saving study schedule: {e}\")\n",
    "\n",
    "\n",
    "@tool\n",
    "def save_study_schedule_to_csv(\n",
    "    schedule_data: List[StudySession],\n",
    "    file_name: str = \"study_schedule.csv\",\n",
    "    field_names: List[str] = [\n",
    "        \"day\",\n",
    "        \"subject\",\n",
    "        \"start_time\",\n",
    "        \"end_time\",\n",
    "        \"notes\",\n",
    "        \"priority\",\n",
    "        \"estimated_completion_time\",\n",
    "        \"study_type\",\n",
    "        \"status\",\n",
    "        \"study_notes\",\n",
    "        \"available_time_per_day\",\n",
    "    ],\n",
    ") -> str:\n",
    "    \"\"\"\n",
    "    Saves the study schedule to a CSV file.\n",
    "\n",
    "    Args:\n",
    "        schedule_data (List[StudySession]): A list of study sessions to be saved.\n",
    "        file_name (str): The name of the CSV file where the schedule will be saved (default is 'study_schedule.csv').\n",
    "        field_names (List[str]): The column names for the CSV file (default is [\"day\", \"subject\", \"start_time\", \"end_time\", \"notes\"]).\n",
    "\n",
    "    Returns:\n",
    "        str: Success Messages\n",
    "    \"\"\"\n",
    "\n",
    "    # Dynamically fetch required keys from StudySession TypedDict\n",
    "    required_keys = set(StudySession.__annotations__.keys())  # Set of required keys\n",
    "\n",
    "    for session in schedule_data:\n",
    "        if not required_keys.issubset(session.keys()):\n",
    "            raise ValueError(\n",
    "                f\"Each schedule entry must contain the following keys: {', '.join(required_keys)}\"\n",
    "            )\n",
    "\n",
    "    try:\n",
    "        with open(file_name, mode=\"w\", newline=\"\") as file:\n",
    "            writer = csv.DictWriter(file, fieldnames=field_names)\n",
    "            writer.writeheader()\n",
    "\n",
    "            # Handling falsy or empty values for any field in the session\n",
    "            for session in schedule_data:\n",
    "                session_dict = (\n",
    "                    session.copy()\n",
    "                )  # Create a copy of the session to avoid modifying the original\n",
    "\n",
    "                # Iterate through each field and handle falsy or empty values\n",
    "                for key, value in session_dict.items():\n",
    "                    if value in (None, \"\", [], {}, 0, False):  # Check for falsy values\n",
    "                        if key == \"study_notes\":\n",
    "                            session_dict[key] = (\n",
    "                                \"\"  # Empty study_notes should be an empty string\n",
    "                            )\n",
    "                        else:\n",
    "                            session_dict[key] = (\n",
    "                                \"N/A\"  # Default for other fields (e.g., \"N/A\" or 0)\n",
    "                            )\n",
    "\n",
    "                # Write the session row\n",
    "                writer.writerow(session_dict)\n",
    "\n",
    "        return f\"Study schedule saved successfully to {file_name}\"\n",
    "    except PermissionError:\n",
    "        print(f\"Error: Permission denied when trying to write to {file_name}.\")\n",
    "    except FileNotFoundError:\n",
    "        print(f\"Error: File {file_name} not found.\")\n",
    "    except Exception as e:\n",
    "        print(f\"Error saving study schedule: {e}\")"
   ]
  },
  {
   "cell_type": "markdown",
   "metadata": {},
   "source": [
    "#### Memory Tools (Currently Not Using This)"
   ]
  },
  {
   "cell_type": "code",
   "execution_count": 1401,
   "metadata": {},
   "outputs": [],
   "source": [
    "from pydantic import ConfigDict\n",
    "\n",
    "class UpsertMemoryInput(BaseModel):\n",
    "    model_config = ConfigDict(arbitrary_types_allowed=True)\n",
    "\n",
    "    memory: MemoryType\n",
    "    memory_id: Optional[Union[uuid.UUID, str]]\n",
    "    memory_type: Optional[str]\n",
    "    store: Annotated[BaseStore, InjectedToolArg]\n",
    "\n",
    "\n",
    "@tool(args_schema=UpsertMemoryInput)\n",
    "def upsert_memory(\n",
    "    memory: MemoryType,\n",
    "    memory_id: Optional[Union[uuid.UUID, str]],\n",
    "    memory_type: Optional[str],\n",
    "    store,\n",
    "):\n",
    "    \"\"\"\n",
    "    Store or update a generalized memory for the Study Buddy Agent in the database.\n",
    "\n",
    "    Args:\n",
    "        memory (MemoryType): The memory dictionary must contain the following keys:\n",
    "            - `username` (Optional[str], optional): The username of the user (e.g., \"john_doe\").\n",
    "            - `age` (Optional[int], optional): The age of the user (e.g., 21).\n",
    "            - `gender` (Optional[str], optional): The gender of the user (e.g., \"Male\", \"Female\", \"Non-binary\").\n",
    "            - `preferences` (Optional[str], optional): User preferences, such as preferred study time, study methods, etc.\n",
    "            - `study_duration` (Optional[int], optional): Preferred study duration in minutes (e.g., 60 minutes).\n",
    "            - `break_duration` (Optional[int], optional): Preferred break duration in minutes (e.g., 15 minutes).\n",
    "            - `reminders` (List[ReminderType], optional): A list of reminders, where each reminder is a dictionary containing:\n",
    "                - `description` (Optional[str], optional): A short description of the reminder (e.g., \"Study for Math exam\").\n",
    "                - `date` (Optional[str], optional): The date of the reminder in \"YYYY-MM-DD\" format (e.g., \"2024-12-15\").\n",
    "            - `deadlines` (List[ReminderType], optional): A list of deadlines, each defined by a `description` and `date`, similar to reminders.\n",
    "            - `topics_to_study` (List[str], optional): A list of study topics the user needs to cover (e.g., [\"Algebra\", \"History\"]).\n",
    "            - `completed_topics` (List[str], optional): A list of study topics that have already been completed (e.g., [\"Calculus\", \"Literature\"]).\n",
    "            - `progress` (List[ProgressType], optional): A list of progress entries, where each entry includes:\n",
    "                - `topic` (Optional[str], optional): The name of the study topic (e.g., \"Algebra\").\n",
    "                - `progress_percentage` (Optional[float], optional): The completion percentage for the topic (e.g., 75.0).\n",
    "            - `personal_notes` (Optional[str], optional): Space for personal notes, motivational goals, or other user-specific information.\n",
    "            - `last_updated` (Optional[datetime], optional): A timestamp of when the memory was last updated (e.g., \"2024-12-15T14:30:00\").\n",
    "\n",
    "        memory_id (Optional[Union[uuid.UUID, str]], optional): The ID of the memory to update. If not provided, a new ID will be generated. This is used to uniquely identify an existing memory entry that needs to be updated.\n",
    "        memory_type (Optional[str], optional): The type of memory, used to categorize the memory. Examples include:\n",
    "            - \"study_preferences\" for user-specific study habits (e.g., preferred study time, break duration).\n",
    "            - \"exam_schedule\" for tracking exam dates and related reminders.\n",
    "            - \"progress_tracking\" for tracking progress on different study topics.\n",
    "            - \"personal_notes\" for storing motivational notes or goals.\n",
    "        \n",
    "    Returns:\n",
    "        str: A message confirming that the memory has been stored or updated, including the memory ID and memory type.\n",
    "    \"\"\"\n",
    "\n",
    "\n",
    "    # Validate memory structure (TypedDict structure is already defined)\n",
    "    if not memory:\n",
    "        return \"Error: Invalid memory format. Memory data cannot be empty.\"\n",
    "\n",
    "    # Generate or use existing memory ID\n",
    "    mem_id = memory_id or uuid.uuid4()\n",
    "\n",
    "    # Ensure memory_type is provided or categorized, defaults to 'general'\n",
    "    mem_type = memory_type or \"general\"\n",
    "\n",
    "    # Retrieve user_id from the config\n",
    "    # user_id = config[\"configurable\"].get(\"user_id\")\n",
    "    if not user_id:\n",
    "        return \"Error: No user ID found in the configuration.\"\n",
    "\n",
    "    try:\n",
    "        # Store or update memory in the database\n",
    "        store.put(\n",
    "            (user_id, NAMESPACE_NAME),\n",
    "            key=str(mem_id),\n",
    "            value={  # Store memory with its type\n",
    "                \"memory_type\": mem_type,\n",
    "                \"memory_data\": memory,\n",
    "            },\n",
    "        )\n",
    "        return f\"Memory of type '{mem_type}' stored with ID {mem_id}.\"\n",
    "\n",
    "    except Exception as e:\n",
    "        print(e)\n",
    "        # Return an error message if something goes wrong\n",
    "        return f\"Error: Failed to store memory. Please try again later.\"\n",
    "\n",
    "\n",
    "\n",
    "@tool\n",
    "def delete_memory(\n",
    "    memory_id: uuid.UUID | str,\n",
    "    config: RunnableConfig,\n",
    "    store: Annotated[BaseStore, InjectedToolArg],\n",
    ") -> str:\n",
    "    \"\"\"\n",
    "    Delete a memory from the database by its ID.\n",
    "    This function removes a specific memory from the store based on the provided\n",
    "    memory ID. The memory ID must exist in the store for the deletion to be successful.\n",
    "\n",
    "    Args:\n",
    "        memory_id (uuid.UUID | str): The ID of the memory to delete.\n",
    "\n",
    "    Returns:\n",
    "        str: A message confirming whether the memory was successfully deleted or if the memory ID was not found.\n",
    "    \"\"\"\n",
    "\n",
    "\n",
    "    user_id = config[\"configurable\"].get(\"user_id\")\n",
    "    memory_key = str(memory_id)\n",
    "\n",
    "    # Check if the memory exists before deleting\n",
    "    memory = store.get((user_id, NAMESPACE_NAME), key=memory_key)\n",
    "\n",
    "    if memory:\n",
    "        store.delete((user_id, NAMESPACE_NAME), key=memory_key)\n",
    "        return f\"Memory {memory_id} successfully deleted.\"\n",
    "    else:\n",
    "        return f\"Memory {memory_id} not found.\""
   ]
  },
  {
   "cell_type": "markdown",
   "metadata": {},
   "source": [
    "#### All Available Tools\n"
   ]
  },
  {
   "cell_type": "code",
   "execution_count": 1402,
   "metadata": {},
   "outputs": [],
   "source": [
    "tools = [\n",
    "    tavily_search_tool,\n",
    "    create_study_schedule,\n",
    "    save_study_schedule_to_csv,\n",
    "    save_study_schedule_to_markdown,\n",
    "    # upsert_memory,\n",
    "    # delete_memory,\n",
    "]\n",
    "\n",
    "model_with_tools = model.bind_tools(tools=tools)"
   ]
  },
  {
   "cell_type": "markdown",
   "metadata": {},
   "source": [
    "### UTILS\n"
   ]
  },
  {
   "cell_type": "code",
   "execution_count": 1403,
   "metadata": {},
   "outputs": [],
   "source": [
    "def invoke_chat_template(\n",
    "    model: BaseChatModel,\n",
    "    template: str,\n",
    "    template_data: dict[str, Any],\n",
    ") -> BaseMessage:\n",
    "    \"\"\"Invoke the chat template with the provided tenplate data and return the response.\"\"\"\n",
    "    prompt = ChatPromptTemplate.from_template(template)\n",
    "    chain = prompt | model\n",
    "    result = chain.invoke(template_data)\n",
    "    return result"
   ]
  },
  {
   "cell_type": "markdown",
   "metadata": {},
   "source": [
    "### NODES\n"
   ]
  },
  {
   "cell_type": "markdown",
   "metadata": {},
   "source": [
    "#### Tool Node\n"
   ]
  },
  {
   "cell_type": "code",
   "execution_count": 1404,
   "metadata": {},
   "outputs": [],
   "source": [
    "# Tool Node\n",
    "tool_node = ToolNode(tools)"
   ]
  },
  {
   "cell_type": "markdown",
   "metadata": {},
   "source": [
    "#### Memory Nodes\n"
   ]
  },
  {
   "cell_type": "code",
   "execution_count": 1405,
   "metadata": {},
   "outputs": [],
   "source": [
    "def get_memory_node(\n",
    "    state: InputState,\n",
    "    config: RunnableConfig,\n",
    "    store: BaseStore,\n",
    ") -> OverallState:\n",
    "    \"\"\"Retrieve memories associated with a user based on a query.\"\"\"\n",
    "    user_id = config[\"configurable\"].get(\"user_id\")\n",
    "\n",
    "    items = store.search((user_id, \"memories\"), query=state[\"query\"], limit=10)\n",
    "    info = \"\\n\".join([json.dumps(d.value) for d in items])\n",
    "\n",
    "    memories = f\"<memories>\\n{info if info else \"\"}\\n<memories>\"\n",
    "\n",
    "    return {\"memories\": memories}\n",
    "\n",
    "\n",
    "class ParsedMemory(BaseModel):\n",
    "    memory_id: Optional[str] = None\n",
    "    memory_type: Optional[str] = None\n",
    "    memory: MemoryType\n",
    "\n",
    "\n",
    "def update_memory_node(\n",
    "    state: OverallState,\n",
    "    config: RunnableConfig,\n",
    "    store: BaseStore,\n",
    ") -> OverallState:\n",
    "    summary = state.get(\"summary\", \"\")\n",
    "    memories = state.get(\"memories\", \"\")\n",
    "    user_query = state.get(\"query\", \"\")\n",
    "    history = summary if summary else state.get(\"messages\", [])\n",
    "\n",
    "    user_id = config[\"configurable\"].get(\"user_id\")\n",
    "    namespace = (str(user_id), NAMESPACE_NAME)\n",
    "\n",
    "    parser = PydanticOutputParser(pydantic_object=ParsedMemory)\n",
    "\n",
    "    # Create our memories prompt\n",
    "    memories_message = ChatPromptTemplate.from_template(\n",
    "        \"This is the current user's memory namespace: {namespace}\\n\\n\"\n",
    "        \"This is summary or history of the conversation to date: {history}\\n\\n\"\n",
    "        \"This is the latest user query: {user_query}\\n\\n\"\n",
    "        \"These are the memories of the user based on the latest query: {memories}\\n\\n\"\n",
    "        \"If the memories are available always first try to update instead and for updating always return the memory id\"\n",
    "        \"Now based on the above if you think that the current memories should be updated or a new memory should be added then return the new or updated memory in the following Format:\"\n",
    "        \"\"\"\n",
    "        {format_instructions}\n",
    "        \"\"\"\n",
    "        \"EXAMPLES:\"\n",
    "        \" - Creating a New Memory:\"\n",
    "        \"\"\"\n",
    "        {{\n",
    "          \"memory_type\" : \"general\",\n",
    "          \"memory\": {{\n",
    "            \"name\": \"<username>\",\n",
    "            \"preferences\": \"likes to take half hour breaks\",\n",
    "            ...other_fields\n",
    "          }}\n",
    "        }}\n",
    "        \"\"\"\n",
    "        \" - Updating a Memory:\"\n",
    "        \"\"\"\n",
    "        {{\n",
    "          \"memory_id\": \"...\",\n",
    "          \"memory\": {{\n",
    "            \"preferences\": \"Now likes to take 1 hour breaks\",\n",
    "            ...other_fields\n",
    "          }}\n",
    "        }}\n",
    "        \"\"\"\n",
    "    ).format(\n",
    "        format_instructions=parser.get_format_instructions(),\n",
    "        history=history,\n",
    "        memories=memories,\n",
    "        user_query=user_query,\n",
    "        namespace=str(namespace),\n",
    "    )\n",
    "\n",
    "    response = model.invoke(memories_message)\n",
    "\n",
    "    parsed_response = parser.parse(response.content)\n",
    "\n",
    "    mem_id = parsed_response.memory_id or uuid.uuid4()\n",
    "    mem_type = parsed_response.memory_type or \"general\"\n",
    "    store.put(\n",
    "        namespace,\n",
    "        key=str(mem_id),\n",
    "        value={  # Store memory with its type\n",
    "            \"memory_type\": str(mem_type),\n",
    "            \"memory_data\": parsed_response.model_dump().get(\"memory\"),\n",
    "        },\n",
    "    )\n",
    "\n",
    "    return {\"memories\": state.get(\"memories\")}"
   ]
  },
  {
   "cell_type": "markdown",
   "metadata": {},
   "source": [
    "#### Handle User Query Node"
   ]
  },
  {
   "cell_type": "code",
   "execution_count": 1406,
   "metadata": {},
   "outputs": [],
   "source": [
    "system_prompt = ChatPromptTemplate.from_template(\n",
    "    \"\"\"\n",
    "You are Study Buddy AI, an intelligent assistant designed to help students with their study plans, research, and problem-solving tasks. Your core capabilities include:\n",
    "\n",
    "1. **Tool Assistance**: Use external tools like Study Scheduler, math solvers, calendar APIs, Web Search, and knowledge bases to provide accurate and actionable solutions.\n",
    "1. **Web Search**: Use external tools Tavily Web Search to find reference materials for user.\n",
    "2. **Human-in-the-Loop (HITL)**: If a task is too complex or ambiguous, escalate the query to a human assistant for intervention.\n",
    "3. **Personalized Support**: Leverage user memory to provide tailored responses, such as recalling exam dates, preferred study times, and previous topics.\n",
    "4. **Agentic RAG**: Retrieve contextually relevant information from a knowledge base for accurate and concise answers.\n",
    "\n",
    "### Behavior Guidelines:\n",
    "- Be polite, clear, and concise in your responses.\n",
    "- Always ensure accuracy and ask follow-up questions if needed.\n",
    "- Provide explanations and educational insights whenever possible.\n",
    "\n",
    "### Requirements:\n",
    "- If the query involves planning (e.g., study schedules), ask for specific details like deadlines, topics, and available time.\n",
    "  If the user does not have any specific requirements, use your expertise and auto-create a schedule for them.\n",
    "- When solving problems, provide step-by-step explanations.\n",
    "- For ambiguous or complex questions, pause and notify the user about involving a human assistant.\n",
    "- If available Use the user's context and memory to personalize responses effectively.\n",
    "\n",
    "### SUMMARY\n",
    "{summary}\n",
    "\n",
    "### MEMORIES\n",
    "{memories}\n",
    "\n",
    "### EXAMPLES:\n",
    "\n",
    "#### Human: \"What is Langgraph?\"\n",
    "- Tool Call: Use Tools to search the web and get content.\n",
    "- AI: \"Langgraph is an agentic AI framework... \"\n",
    "\n",
    "#### Human: \"Plan a study schedule for me for Python test on Friday.\"\n",
    "- AI: \"What topics need to be covered? How many hours per day can you dedicate to studying? Do you want me to include break times?\"\n",
    "- Human: \"All of the main Python topics need to be covered. The rest of the data you can fill in yourself.\"\n",
    "- Tool Call: Used Study Scheduler Tool to create a schedule.\n",
    "- AI: \"Ok, since this is a Python test, I have created a schedule optimized for studying this type of test.\"\n",
    "\n",
    "#### Human: \"Explain trigonometric identities.\"\n",
    "- AI: \"Trigonometric identities are equations involving trigonometric functions that hold true for all variable values. Would you like a video link or a written example?\"\n",
    "\n",
    "#### Human: \"Solve this integration problem.\"\n",
    "- AI: \"Let me analyze this using a math tool. If it’s too complex, I’ll involve a human assistant.\"\n",
    "\"\"\"\n",
    ")\n",
    "\n",
    "\n",
    "\n",
    "def handle_user_query_node(state: InputState | OverallState) -> OverallState:\n",
    "    \"\"\"\n",
    "    Calls the model with the correct input state, integrating all messages (including tool calls and prior responses)\n",
    "    to ensure the model has the full context.\n",
    "    \"\"\"\n",
    "\n",
    "    # Retrieve the conversation history and user query\n",
    "    messages = state.get(\"messages\", [])\n",
    "    user_query = state.get(\"query\", \"\")\n",
    "    summary = state.get(\"summary\", \"\")\n",
    "    memories = state.get(\"memories\", \"\")\n",
    "\n",
    "    # Construct the system message with the summary and memories (if available)\n",
    "    system_message = SystemMessage(\n",
    "        content=system_prompt.format(\n",
    "            summary=summary,  # Include summary context if available\n",
    "            memories=memories,  # Include memory context if available\n",
    "        )\n",
    "    )\n",
    "\n",
    "    # Combine system message, prior tool messages, and the current user query\n",
    "    # Ensure all relevant messages are included in the context\n",
    "    all_messages = [system_message] + messages + [HumanMessage(content=user_query)]\n",
    "\n",
    "    # Call the model with the full message history (system message, tool messages, and user query)\n",
    "    result = model_with_tools.invoke(all_messages)\n",
    "\n",
    "    # Return the result as a response\n",
    "    return {\"messages\": [result]}"
   ]
  },
  {
   "cell_type": "markdown",
   "metadata": {},
   "source": [
    "#### Summarization Node\n"
   ]
  },
  {
   "cell_type": "code",
   "execution_count": 1407,
   "metadata": {},
   "outputs": [],
   "source": [
    "def summarization_node(state: OverallState) -> OverallState:\n",
    "    # First, we get any existing summary\n",
    "    summary = state.get(\"summary\")\n",
    "    messages = state.get(\"messages\")\n",
    "\n",
    "    # Create our summarization prompt\n",
    "    if summary:\n",
    "        # A summary already exists\n",
    "        summary_message = (\n",
    "            f\"This is summary of the conversation to date: {summary}\\n\\n\"\n",
    "            \"Extend the summary by taking into account the new messages above:\"\n",
    "        )\n",
    "\n",
    "    else:\n",
    "        summary_message = \"Create a summary of the conversation above:\"\n",
    "\n",
    "    # Add prompt to our history\n",
    "    messages = messages[:-4] + [HumanMessage(content=summary_message)]\n",
    "    response = model.invoke(messages)\n",
    "\n",
    "    delete_messages: list = []\n",
    "    if len(delete_messages) > 6:\n",
    "        # Delete all but the 2 most recent messages\n",
    "        delete_messages = [RemoveMessage(id=m.id or \"\") for m in messages[:-2]]\n",
    "\n",
    "    return {\"summary\": response.content, \"messages\": delete_messages}"
   ]
  },
  {
   "cell_type": "markdown",
   "metadata": {},
   "source": [
    "#### Output Node\n"
   ]
  },
  {
   "cell_type": "code",
   "execution_count": 1408,
   "metadata": {},
   "outputs": [],
   "source": [
    "def output_node(state: OverallState) -> OutputState:\n",
    "    return {\"response\": state[\"messages\"][-1]}"
   ]
  },
  {
   "cell_type": "markdown",
   "metadata": {},
   "source": [
    "### AGENT COMPILATION\n"
   ]
  },
  {
   "cell_type": "code",
   "execution_count": 1411,
   "metadata": {},
   "outputs": [],
   "source": [
    "# Create the graph\n",
    "workflow = StateGraph(OverallState, input=InputState, output=OutputState)\n",
    "\n",
    "# Add nodes\n",
    "workflow.add_node(\"handle_user_query\", handle_user_query_node)\n",
    "workflow.add_node(\"get_memory\", get_memory_node)\n",
    "workflow.add_node(\"tools\", tool_node)\n",
    "workflow.add_node(\"summarization\", summarization_node)\n",
    "workflow.add_node(\"finalize_output\", output_node)\n",
    "workflow.add_node(\"update_memory\", update_memory_node)\n",
    "\n",
    "# Add edges\n",
    "workflow.add_edge(START, \"get_memory\")\n",
    "workflow.add_edge(\"get_memory\", \"handle_user_query\")\n",
    "workflow.add_conditional_edges(\n",
    "    \"handle_user_query\", tools_condition, {\"tools\": \"tools\", END: END}\n",
    ")\n",
    "workflow.add_edge(\"tools\", \"handle_user_query\")\n",
    "workflow.add_edge(\"handle_user_query\", \"summarization\")\n",
    "workflow.add_edge(\"summarization\", \"update_memory\")\n",
    "workflow.add_edge(\"update_memory\", \"finalize_output\")\n",
    "workflow.add_edge(\"finalize_output\", END)\n",
    "\n",
    "# Compile the graph\n",
    "agent = workflow.compile(checkpointer=checkpointer, store=in_memory_store)"
   ]
  },
  {
   "cell_type": "code",
   "execution_count": 1412,
   "metadata": {},
   "outputs": [
    {
     "data": {
      "image/png": "[encoded data removed]",
      "text/plain": [
       "<IPython.core.display.Image object>"
      ]
     },
     "execution_count": 1412,
     "metadata": {},
     "output_type": "execute_result"
    }
   ],
   "source": [
    "Image(agent.get_graph().draw_mermaid_png())"
   ]
  },
  {
   "cell_type": "markdown",
   "metadata": {},
   "source": [
    "### TESTING SCENARIOIS"
   ]
  },
  {
   "cell_type": "markdown",
   "metadata": {},
   "source": [
    "#### NEED REFERENCE MATERIALS FOR LEARNING?"
   ]
  },
  {
   "cell_type": "code",
   "execution_count": 1413,
   "metadata": {},
   "outputs": [],
   "source": [
    "config = {\"configurable\": {\"thread_id\": \"1\", \"user_id\": str(user_id)}}"
   ]
  },
  {
   "cell_type": "code",
   "execution_count": 1414,
   "metadata": {},
   "outputs": [
    {
     "name": "stdout",
     "output_type": "stream",
     "text": [
      "==================================\u001b[1m Ai Message \u001b[0m==================================\n",
      "\n",
      "LangGraph is a framework for building and deploying language agents as graphs.  I found several resources that may help you get started:\n",
      "\n",
      "* **LangChain LangGraph Tutorials:** This provides notebooks to help you create chatbots, RAGs, SQL agents, planning agents, and more. [https://langchain-ai.github.io/langgraph/tutorials/](https://langchain-ai.github.io/langgraph/tutorials/)\n",
      "\n",
      "* **LangChain LangGraph Documentation:** This explains LangGraph as a framework for building and scaling agentic applications with LangChain Platform.  It covers control flows, human-agent collaboration, streaming, and deployment options. [https://www.langchain.com/langgraph](https://www.langchain.com/langgraph)\n",
      "\n",
      "* **LangGraph Platform Documentation:** This describes the commercial solution for deploying agentic applications to production, built on the open-source LangGraph framework.  It details the server API and architecture. [https://langchain-ai.github.io/langgraph/concepts/langgraph_platform/](https://langchain-ai.github.io/langgraph/concepts/langgraph_platform/)\n",
      "\n",
      "* **LangGraph Studio Blog Post:** This introduces LangGraph Studio, a desktop app for visualizing, interacting with, and debugging complex agentic applications.  It shows how to use it with LangSmith. [https://blog.langchain.dev/langgraph-studio-the-first-agent-ide/](https://blog.langchain.dev/langgraph-studio-the-first-agent-ide/)\n",
      "\n",
      "* **LangGraph Studio GitHub:** This is the GitHub repository for LangGraph Studio. [https://github.com/langchain-ai/langgraph-studio](https://github.com/langchain-ai/langgraph-studio)\n",
      "\n",
      "\n",
      "These resources offer a range of information, from introductory tutorials to in-depth documentation and tools.  Which one would you like to start with?  Or, do you have a specific aspect of LangGraph you'd like to learn about first?\n"
     ]
    }
   ],
   "source": [
    "result = agent.invoke(\n",
    "    input={\n",
    "        \"query\": \"Hi, I am trying to Learn Langgraph, can you please find some reference material for me to get Started?\"\n",
    "    },\n",
    "    config=config,\n",
    " \n",
    ")\n",
    "\n",
    "result.get(\"response\").pretty_print()"
   ]
  },
  {
   "cell_type": "markdown",
   "metadata": {},
   "source": [
    "#### TESTING PERSISTANCE"
   ]
  },
  {
   "cell_type": "code",
   "execution_count": 1428,
   "metadata": {},
   "outputs": [],
   "source": [
    "config = {\"configurable\": {\"thread_id\": \"1\", \"user_id\": str(user_id)}}"
   ]
  },
  {
   "cell_type": "code",
   "execution_count": 1429,
   "metadata": {},
   "outputs": [
    {
     "name": "stdout",
     "output_type": "stream",
     "text": [
      "==================================\u001b[1m Ai Message \u001b[0m==================================\n",
      "\n",
      "Our previous conversation started with your question about LangGraph.  You asked, \"What is Langgraph?\".  I then responded by providing information about LangGraph based on a web search, including links to relevant documentation and tutorials.\n"
     ]
    }
   ],
   "source": [
    "result = agent.invoke(\n",
    "    input={\n",
    "        \"query\": \"Please Tell me what i said before\"\n",
    "    },\n",
    "    config=config,\n",
    " \n",
    ")\n",
    "\n",
    "result.get(\"response\").pretty_print()"
   ]
  },
  {
   "cell_type": "markdown",
   "metadata": {},
   "source": [
    "#### TESTING MEMORY"
   ]
  },
  {
   "cell_type": "code",
   "execution_count": 1424,
   "metadata": {},
   "outputs": [],
   "source": [
    "config = {\"configurable\": {\"thread_id\": \"2\", \"user_id\": str(user_id)}}"
   ]
  },
  {
   "cell_type": "code",
   "execution_count": 1425,
   "metadata": {},
   "outputs": [
    {
     "name": "stdout",
     "output_type": "stream",
     "text": [
      "==================================\u001b[1m Ai Message \u001b[0m==================================\n",
      "\n",
      "Hi Moosa!  It's great to hear from you again. I see from your profile that you're interested in LangGraph and Python. Is there anything specific you'd like to work on today, such as creating a study plan, researching a particular LangGraph concept, or practicing some Python code?\n"
     ]
    }
   ],
   "source": [
    "result = agent.invoke(\n",
    "    input={\n",
    "        \"query\": \"Hi, I am Moosa and i love langgraph\"\n",
    "    },\n",
    "    config=config,\n",
    " \n",
    ")\n",
    "\n",
    "result.get(\"response\").pretty_print()"
   ]
  },
  {
   "cell_type": "code",
   "execution_count": 1426,
   "metadata": {},
   "outputs": [],
   "source": [
    "config = {\"configurable\": {\"thread_id\": \"111\", \"user_id\": str(user_id)}}"
   ]
  },
  {
   "cell_type": "code",
   "execution_count": 1427,
   "metadata": {},
   "outputs": [
    {
     "name": "stdout",
     "output_type": "stream",
     "text": [
      "==================================\u001b[1m Ai Message \u001b[0m==================================\n",
      "\n",
      "Your name is Moosa.\n"
     ]
    }
   ],
   "source": [
    "result = agent.invoke(\n",
    "    input={\n",
    "        \"query\": \"What is my Name?\"\n",
    "    },\n",
    "    config=config,\n",
    " \n",
    ")\n",
    "\n",
    "result.get(\"response\").pretty_print()"
   ]
  },
  {
   "cell_type": "markdown",
   "metadata": {},
   "source": [
    "#### CREATING STUDY SCHEDULE"
   ]
  },
  {
   "cell_type": "code",
   "execution_count": 1419,
   "metadata": {},
   "outputs": [],
   "source": [
    "config = {\"configurable\": {\"thread_id\": \"2\", \"user_id\": str(user_id)}}"
   ]
  },
  {
   "cell_type": "code",
   "execution_count": 1420,
   "metadata": {},
   "outputs": [
    {
     "name": "stdout",
     "output_type": "stream",
     "text": [
      "==================================\u001b[1m Ai Message \u001b[0m==================================\n",
      "\n",
      "Okay, Moosa. I can help you create a study schedule for your Python test on Friday. To make the schedule as effective as possible, I need some more information:\n",
      "\n",
      "1. **What topics in Python need to be covered for the test?**  (e.g., data structures, functions, object-oriented programming, etc.)  The more detail you provide, the better I can tailor the schedule.\n",
      "2. **How many hours per day can you dedicate to studying?**\n",
      "3. **Do you prefer to study in shorter, more frequent sessions or longer, less frequent sessions?**\n",
      "4. **Do you want to include breaks in the schedule?** If so, how long should the breaks be?\n",
      "\n",
      "\n",
      "Once I have this information, I can generate a personalized study schedule for you.\n"
     ]
    }
   ],
   "source": [
    "result = agent.invoke(\n",
    "    input={\n",
    "        \"query\": \"Hi, I Like python very much and have a python test upcoming on friday, please create a study schedule for me\"\n",
    "    },\n",
    "    config=config,\n",
    " \n",
    ")\n",
    "\n",
    "result.get(\"response\").pretty_print()"
   ]
  },
  {
   "cell_type": "code",
   "execution_count": 1421,
   "metadata": {},
   "outputs": [
    {
     "name": "stdout",
     "output_type": "stream",
     "text": [
      "==================================\u001b[1m Ai Message \u001b[0m==================================\n",
      "\n",
      "Okay, Moosa. Since you'll be tested on all major Python topics and haven't specified your daily study time or session preferences, I'll create a sample schedule assuming you can dedicate around 3 hours per day and prefer shorter study sessions with breaks.  This schedule is adjustable, of course, based on your actual availability and learning style.\n",
      "\n",
      "I'll assume the major Python topics include:\n",
      "\n",
      "* Data Types and Operators\n",
      "* Control Flow (if/else, loops)\n",
      "* Functions\n",
      "* Data Structures (lists, tuples, dictionaries, sets)\n",
      "* Object-Oriented Programming (classes, objects, inheritance)\n",
      "* File Handling\n",
      "* Modules and Packages\n",
      "* Exception Handling\n",
      "\n",
      "\n",
      "Here's a possible study schedule:\n",
      "\n",
      "\n",
      "**Day 1:**\n",
      "\n",
      "* **9:00 AM - 10:00 AM:** Data Types and Operators (Review basic concepts, practice exercises)\n",
      "* **10:00 AM - 10:15 AM:** Break\n",
      "* **10:15 AM - 11:15 AM:** Control Flow (Practice different loop types and conditional statements)\n",
      "* **11:15 AM - 11:30 AM:** Break\n",
      "* **11:30 AM - 12:30 PM:** Functions (Focus on function definitions, arguments, return values)\n",
      "\n",
      "\n",
      "**Day 2:**\n",
      "\n",
      "* **9:00 AM - 10:00 AM:** Data Structures (Lists, tuples, dictionaries, sets - practice manipulating them)\n",
      "* **10:00 AM - 10:15 AM:** Break\n",
      "* **10:15 AM - 11:15 AM:** Object-Oriented Programming (Classes, objects, methods, inheritance - work through examples)\n",
      "* **11:15 AM - 11:30 AM:** Break\n",
      "* **11:30 AM - 12:30 PM:** File Handling (Reading and writing to files - practice with different file modes)\n",
      "\n",
      "\n",
      "**Day 3:**\n",
      "\n",
      "* **9:00 AM - 10:00 AM:** Modules and Packages (Learn how to import and use modules, create your own)\n",
      "* **10:00 AM - 10:15 AM:** Break\n",
      "* **10:15 AM - 11:15 AM:** Exception Handling (Practice using try-except blocks to handle errors)\n",
      "* **11:15 AM - 11:30 AM:** Break\n",
      "* **11:30 AM - 12:30 PM:** Review all topics, practice coding problems.\n",
      "\n",
      "\n",
      "**Day 4:**\n",
      "\n",
      "* **9:00 AM - 12:00 PM:**  Practice past papers or coding challenges focusing on all topics.\n",
      "\n",
      "\n",
      "This is just a suggestion.  You can adjust the timings and topics based on your strengths and weaknesses.  Let me know if you'd like me to refine this schedule or create a different one based on your preferences.  I can also help you find online resources for each topic if needed.\n"
     ]
    }
   ],
   "source": [
    "result = agent.invoke(\n",
    "    input={\n",
    "        \"query\": \"The test is about all major topics of python, please fill the rest of the information which you think is best for studying for this python test\"\n",
    "    },\n",
    "    config=config,\n",
    ")\n",
    "\n",
    "result.get(\"response\").pretty_print()"
   ]
  },
  {
   "cell_type": "code",
   "execution_count": 1422,
   "metadata": {},
   "outputs": [
    {
     "name": "stdout",
     "output_type": "stream",
     "text": [
      "==================================\u001b[1m Ai Message \u001b[0m==================================\n",
      "\n",
      "I have saved the study schedule to both `study_schedule.csv` and `study_schedule.md` files.  Let me know if you have any other questions or would like me to adjust the schedule.\n"
     ]
    }
   ],
   "source": [
    "result = agent.invoke(\n",
    "    input={\n",
    "        \"query\": \"Thats Great! Please save the schedule in both csv and markdown files\"\n",
    "    },\n",
    "    config=config,\n",
    ")\n",
    "\n",
    "result.get(\"response\").pretty_print()"
   ]
  }
 ],
 "metadata": {
  "kernelspec": {
   "display_name": "Python 3",
   "language": "python",
   "name": "python3"
  },
  "language_info": {
   "codemirror_mode": {
    "name": "ipython",
    "version": 3
   },
   "file_extension": ".py",
   "mimetype": "text/x-python",
   "name": "python",
   "nbconvert_exporter": "python",
   "pygments_lexer": "ipython3",
   "version": "3.12.2"
  }
 },
 "nbformat": 4,
 "nbformat_minor": 2
}
